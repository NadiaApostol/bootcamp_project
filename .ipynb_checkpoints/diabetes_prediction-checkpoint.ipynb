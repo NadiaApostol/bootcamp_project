{
 "cells": [
  {
   "cell_type": "markdown",
   "id": "79138424-25f3-498d-8092-04cf45d37600",
   "metadata": {},
   "source": [
    "## Problem Formulation"
   ]
  },
  {
   "cell_type": "markdown",
   "id": "67ea726e-ee46-411b-b36c-41adb24038c7",
   "metadata": {},
   "source": [
    "  The **Diabetes prediction** dataset presents an opportunity to leverage machine learning to address a critical issue in healthcare. Specifically, we can formulate this as a **binary classification** problem where the objective is to predict whether a patient is likely to develop diabetes based on their medical history and demographic information. This transformation allows us to use predictive analytics to assist healthcare professionals in identifying patients at risk and personalizing treatment plans.\n",
    "\n",
    "Here's how we can frame this business problem as a machine learning problem:\n",
    "\n",
    "**Problem Statement**: Develop a machine learning model to predict the likelihood of a patient developing diabetes (binary classification: positive or negative) based on their medical history and demographic information\n",
    "\n",
    "**Data**: The dataset comprises medical and demographic features, including age, gender, BMI, hypertension, heart disease, smoking history, HbA1c level, and blood glucose level. Each data point in the dataset is associated with the diabetes status of the patient\n",
    "\n",
    "**Objective**: The primary objective is to build an accurate and robust machine learning model that can classify patients as either \"diabetes positive\" or \"diabetes negative\" based on the given features. The model will enable healthcare professionals to identify patients at risk and potentially develop personalized treatment plan"
   ]
  },
  {
   "cell_type": "markdown",
   "id": "5e009f1b-727e-4229-987c-19ea0f2ff634",
   "metadata": {},
   "source": [
    "## Exploratory Data Analysis(EDA)"
   ]
  },
  {
   "cell_type": "markdown",
   "id": "158fbb4c-f67a-4169-b7ec-b3385522e8c0",
   "metadata": {},
   "source": [
    "EDA is a critical phase in the data analysis process, where the primary goal is to understand the dataset, uncover patterns, relationships, and insights, and prepare the data for further analysis or modeling.\n",
    "In an EDA section, you typically include the following key elements:\n",
    "- **Summary Statistics** : to calculate measures such as mean, median, mode, standard deviation, and quartiles for numerical features.\n",
    "- **Data Visualization** : to create various visualizations to gain insights into the data's distribution and relationships. Visualization can reveal outliers, trends, and patterns.\n",
    "- **Missing Data** : to identify and analyze the missing values.\n",
    "- **Outliers Detection**: to explore outliers in the data and decide how to handle them, because outliers can significantly affect modeling and analysis.\n",
    "- **Correlation Analysis**: to compute and visualize correlations between features, especially in the context of predictive modeling.e further investigation."
   ]
  },
  {
   "cell_type": "code",
   "execution_count": 213,
   "id": "d6d24ddc-d325-4fb6-9cf7-2e03435bc26e",
   "metadata": {},
   "outputs": [],
   "source": [
    "# data manipulation\n",
    "import numpy as np\n",
    "import pandas as pd\n",
    "\n",
    "# data visualization\n",
    "import matplotlib.pyplot as plt\n",
    "import seaborn as sns\n",
    "\n",
    "# data processing\n",
    "from sklearn.preprocessing import MinMaxScaler\n",
    "from sklearn.preprocessing import PowerTransformer\n",
    "\n",
    "# pipeline construction\n",
    "from sklearn.pipeline import Pipeline\n",
    "from sklearn.base import BaseEstimator, TransformerMixin\n",
    "from sklearn.compose import ColumnTransformer\n",
    "\n",
    "# data resampling\n",
    "from imblearn.over_sampling import SMOTENC\n",
    "from imblearn.under_sampling import RandomUnderSampler\n",
    "\n",
    "# models trainng\n",
    "from sklearn.linear_model import LogisticRegression\n",
    "from sklearn.ensemble import RandomForestClassifier\n",
    "import xgboost as xgb\n",
    "from sklearn.model_selection import train_test_split, GridSearchCV, RandomizedSearchCV\n",
    "\n",
    "# models validation\n",
    "from sklearn.metrics import accuracy_score, precision_score, recall_score, f1_score\n",
    "\n",
    "# remove annoying warnings\n",
    "import warnings\n",
    "warnings.filterwarnings('ignore')"
   ]
  },
  {
   "cell_type": "markdown",
   "id": "eeca8841-1c93-4190-8680-9290bfd316f5",
   "metadata": {},
   "source": [
    "### Loading data"
   ]
  },
  {
   "cell_type": "code",
   "execution_count": 214,
   "id": "c21f740e-1294-49d6-aa39-9ac6125bc585",
   "metadata": {},
   "outputs": [
    {
     "data": {
      "text/html": [
       "<div>\n",
       "<style scoped>\n",
       "    .dataframe tbody tr th:only-of-type {\n",
       "        vertical-align: middle;\n",
       "    }\n",
       "\n",
       "    .dataframe tbody tr th {\n",
       "        vertical-align: top;\n",
       "    }\n",
       "\n",
       "    .dataframe thead th {\n",
       "        text-align: right;\n",
       "    }\n",
       "</style>\n",
       "<table border=\"1\" class=\"dataframe\">\n",
       "  <thead>\n",
       "    <tr style=\"text-align: right;\">\n",
       "      <th></th>\n",
       "      <th>gender</th>\n",
       "      <th>age</th>\n",
       "      <th>hypertension</th>\n",
       "      <th>heart_disease</th>\n",
       "      <th>smoking_history</th>\n",
       "      <th>bmi</th>\n",
       "      <th>HbA1c_level</th>\n",
       "      <th>blood_glucose_level</th>\n",
       "      <th>diabetes</th>\n",
       "    </tr>\n",
       "  </thead>\n",
       "  <tbody>\n",
       "    <tr>\n",
       "      <th>0</th>\n",
       "      <td>Female</td>\n",
       "      <td>80.0</td>\n",
       "      <td>0</td>\n",
       "      <td>1</td>\n",
       "      <td>never</td>\n",
       "      <td>25.19</td>\n",
       "      <td>6.6</td>\n",
       "      <td>140</td>\n",
       "      <td>0</td>\n",
       "    </tr>\n",
       "    <tr>\n",
       "      <th>1</th>\n",
       "      <td>Female</td>\n",
       "      <td>54.0</td>\n",
       "      <td>0</td>\n",
       "      <td>0</td>\n",
       "      <td>No Info</td>\n",
       "      <td>27.32</td>\n",
       "      <td>6.6</td>\n",
       "      <td>80</td>\n",
       "      <td>0</td>\n",
       "    </tr>\n",
       "    <tr>\n",
       "      <th>2</th>\n",
       "      <td>Male</td>\n",
       "      <td>28.0</td>\n",
       "      <td>0</td>\n",
       "      <td>0</td>\n",
       "      <td>never</td>\n",
       "      <td>27.32</td>\n",
       "      <td>5.7</td>\n",
       "      <td>158</td>\n",
       "      <td>0</td>\n",
       "    </tr>\n",
       "    <tr>\n",
       "      <th>3</th>\n",
       "      <td>Female</td>\n",
       "      <td>36.0</td>\n",
       "      <td>0</td>\n",
       "      <td>0</td>\n",
       "      <td>current</td>\n",
       "      <td>23.45</td>\n",
       "      <td>5.0</td>\n",
       "      <td>155</td>\n",
       "      <td>0</td>\n",
       "    </tr>\n",
       "    <tr>\n",
       "      <th>4</th>\n",
       "      <td>Male</td>\n",
       "      <td>76.0</td>\n",
       "      <td>1</td>\n",
       "      <td>1</td>\n",
       "      <td>current</td>\n",
       "      <td>20.14</td>\n",
       "      <td>4.8</td>\n",
       "      <td>155</td>\n",
       "      <td>0</td>\n",
       "    </tr>\n",
       "  </tbody>\n",
       "</table>\n",
       "</div>"
      ],
      "text/plain": [
       "   gender   age  hypertension  heart_disease smoking_history    bmi  \\\n",
       "0  Female  80.0             0              1           never  25.19   \n",
       "1  Female  54.0             0              0         No Info  27.32   \n",
       "2    Male  28.0             0              0           never  27.32   \n",
       "3  Female  36.0             0              0         current  23.45   \n",
       "4    Male  76.0             1              1         current  20.14   \n",
       "\n",
       "   HbA1c_level  blood_glucose_level  diabetes  \n",
       "0          6.6                  140         0  \n",
       "1          6.6                   80         0  \n",
       "2          5.7                  158         0  \n",
       "3          5.0                  155         0  \n",
       "4          4.8                  155         0  "
      ]
     },
     "execution_count": 214,
     "metadata": {},
     "output_type": "execute_result"
    }
   ],
   "source": [
    "df_raw = pd.read_csv(\"data/diabetes_prediction_dataset.csv\")\n",
    "df_raw.head()"
   ]
  },
  {
   "cell_type": "markdown",
   "id": "3a1787aa-2f7f-46f5-9e8e-7e40708a944c",
   "metadata": {},
   "source": [
    "#### Summary Statistics"
   ]
  },
  {
   "cell_type": "code",
   "execution_count": 215,
   "id": "54a6cd0a-25f5-4b2c-9e9d-1ef820d7525f",
   "metadata": {},
   "outputs": [
    {
     "name": "stdout",
     "output_type": "stream",
     "text": [
      "<class 'pandas.core.frame.DataFrame'>\n",
      "RangeIndex: 100000 entries, 0 to 99999\n",
      "Data columns (total 9 columns):\n",
      " #   Column               Non-Null Count   Dtype  \n",
      "---  ------               --------------   -----  \n",
      " 0   gender               100000 non-null  object \n",
      " 1   age                  100000 non-null  float64\n",
      " 2   hypertension         100000 non-null  int64  \n",
      " 3   heart_disease        100000 non-null  int64  \n",
      " 4   smoking_history      100000 non-null  object \n",
      " 5   bmi                  100000 non-null  float64\n",
      " 6   HbA1c_level          100000 non-null  float64\n",
      " 7   blood_glucose_level  100000 non-null  int64  \n",
      " 8   diabetes             100000 non-null  int64  \n",
      "dtypes: float64(3), int64(4), object(2)\n",
      "memory usage: 6.9+ MB\n"
     ]
    }
   ],
   "source": [
    "df_raw.info()"
   ]
  },
  {
   "cell_type": "code",
   "execution_count": 277,
   "id": "435e7907-6986-4925-be80-52b110f763ff",
   "metadata": {},
   "outputs": [
    {
     "data": {
      "text/html": [
       "<div>\n",
       "<style scoped>\n",
       "    .dataframe tbody tr th:only-of-type {\n",
       "        vertical-align: middle;\n",
       "    }\n",
       "\n",
       "    .dataframe tbody tr th {\n",
       "        vertical-align: top;\n",
       "    }\n",
       "\n",
       "    .dataframe thead th {\n",
       "        text-align: right;\n",
       "    }\n",
       "</style>\n",
       "<table border=\"1\" class=\"dataframe\">\n",
       "  <thead>\n",
       "    <tr style=\"text-align: right;\">\n",
       "      <th></th>\n",
       "      <th>age</th>\n",
       "      <th>hypertension</th>\n",
       "      <th>heart_disease</th>\n",
       "      <th>bmi</th>\n",
       "      <th>HbA1c_level</th>\n",
       "      <th>blood_glucose_level</th>\n",
       "      <th>diabetes</th>\n",
       "    </tr>\n",
       "  </thead>\n",
       "  <tbody>\n",
       "    <tr>\n",
       "      <th>count</th>\n",
       "      <td>100000.00</td>\n",
       "      <td>100000.00</td>\n",
       "      <td>100000.00</td>\n",
       "      <td>100000.00</td>\n",
       "      <td>100000.00</td>\n",
       "      <td>100000.00</td>\n",
       "      <td>100000.00</td>\n",
       "    </tr>\n",
       "    <tr>\n",
       "      <th>mean</th>\n",
       "      <td>41.89</td>\n",
       "      <td>0.07</td>\n",
       "      <td>0.04</td>\n",
       "      <td>27.32</td>\n",
       "      <td>5.53</td>\n",
       "      <td>138.06</td>\n",
       "      <td>0.08</td>\n",
       "    </tr>\n",
       "    <tr>\n",
       "      <th>std</th>\n",
       "      <td>22.52</td>\n",
       "      <td>0.26</td>\n",
       "      <td>0.19</td>\n",
       "      <td>6.64</td>\n",
       "      <td>1.07</td>\n",
       "      <td>40.71</td>\n",
       "      <td>0.28</td>\n",
       "    </tr>\n",
       "    <tr>\n",
       "      <th>min</th>\n",
       "      <td>0.08</td>\n",
       "      <td>0.00</td>\n",
       "      <td>0.00</td>\n",
       "      <td>10.01</td>\n",
       "      <td>3.50</td>\n",
       "      <td>80.00</td>\n",
       "      <td>0.00</td>\n",
       "    </tr>\n",
       "    <tr>\n",
       "      <th>25%</th>\n",
       "      <td>24.00</td>\n",
       "      <td>0.00</td>\n",
       "      <td>0.00</td>\n",
       "      <td>23.63</td>\n",
       "      <td>4.80</td>\n",
       "      <td>100.00</td>\n",
       "      <td>0.00</td>\n",
       "    </tr>\n",
       "    <tr>\n",
       "      <th>50%</th>\n",
       "      <td>43.00</td>\n",
       "      <td>0.00</td>\n",
       "      <td>0.00</td>\n",
       "      <td>27.32</td>\n",
       "      <td>5.80</td>\n",
       "      <td>140.00</td>\n",
       "      <td>0.00</td>\n",
       "    </tr>\n",
       "    <tr>\n",
       "      <th>75%</th>\n",
       "      <td>60.00</td>\n",
       "      <td>0.00</td>\n",
       "      <td>0.00</td>\n",
       "      <td>29.58</td>\n",
       "      <td>6.20</td>\n",
       "      <td>159.00</td>\n",
       "      <td>0.00</td>\n",
       "    </tr>\n",
       "    <tr>\n",
       "      <th>max</th>\n",
       "      <td>80.00</td>\n",
       "      <td>1.00</td>\n",
       "      <td>1.00</td>\n",
       "      <td>95.69</td>\n",
       "      <td>9.00</td>\n",
       "      <td>300.00</td>\n",
       "      <td>1.00</td>\n",
       "    </tr>\n",
       "  </tbody>\n",
       "</table>\n",
       "</div>"
      ],
      "text/plain": [
       "             age  hypertension  heart_disease        bmi  HbA1c_level  \\\n",
       "count  100000.00     100000.00      100000.00  100000.00    100000.00   \n",
       "mean       41.89          0.07           0.04      27.32         5.53   \n",
       "std        22.52          0.26           0.19       6.64         1.07   \n",
       "min         0.08          0.00           0.00      10.01         3.50   \n",
       "25%        24.00          0.00           0.00      23.63         4.80   \n",
       "50%        43.00          0.00           0.00      27.32         5.80   \n",
       "75%        60.00          0.00           0.00      29.58         6.20   \n",
       "max        80.00          1.00           1.00      95.69         9.00   \n",
       "\n",
       "       blood_glucose_level   diabetes  \n",
       "count            100000.00  100000.00  \n",
       "mean                138.06       0.08  \n",
       "std                  40.71       0.28  \n",
       "min                  80.00       0.00  \n",
       "25%                 100.00       0.00  \n",
       "50%                 140.00       0.00  \n",
       "75%                 159.00       0.00  \n",
       "max                 300.00       1.00  "
      ]
     },
     "execution_count": 277,
     "metadata": {},
     "output_type": "execute_result"
    }
   ],
   "source": [
    "df_raw.describe().round(2)"
   ]
  },
  {
   "cell_type": "markdown",
   "id": "5eea589d-8a7a-4153-b012-8fe7c7279808",
   "metadata": {},
   "source": [
    "#### Check missing values"
   ]
  },
  {
   "cell_type": "code",
   "execution_count": 216,
   "id": "f075415a-7990-438e-be98-007d50ff9950",
   "metadata": {},
   "outputs": [
    {
     "data": {
      "text/plain": [
       "gender                 0\n",
       "age                    0\n",
       "hypertension           0\n",
       "heart_disease          0\n",
       "smoking_history        0\n",
       "bmi                    0\n",
       "HbA1c_level            0\n",
       "blood_glucose_level    0\n",
       "diabetes               0\n",
       "dtype: int64"
      ]
     },
     "execution_count": 216,
     "metadata": {},
     "output_type": "execute_result"
    }
   ],
   "source": [
    "df_raw.isna().sum()"
   ]
  },
  {
   "cell_type": "code",
   "execution_count": 217,
   "id": "98e2b4cb-11fc-45b7-bbff-b91f57ac136c",
   "metadata": {},
   "outputs": [
    {
     "data": {
      "text/plain": [
       "array(['Female', 'Male', 'Other'], dtype=object)"
      ]
     },
     "execution_count": 217,
     "metadata": {},
     "output_type": "execute_result"
    }
   ],
   "source": [
    "df_raw[\"gender\"].unique()"
   ]
  },
  {
   "cell_type": "code",
   "execution_count": 218,
   "id": "65936e10-c962-41d6-b4d7-f8cfcd559919",
   "metadata": {},
   "outputs": [
    {
     "data": {
      "text/plain": [
       "array(['never', 'No Info', 'current', 'former', 'ever', 'not current'],\n",
       "      dtype=object)"
      ]
     },
     "execution_count": 218,
     "metadata": {},
     "output_type": "execute_result"
    }
   ],
   "source": [
    "df_raw[\"smoking_history\"].unique()"
   ]
  },
  {
   "cell_type": "markdown",
   "id": "88fff86e-46b0-4247-a363-9011119e7eae",
   "metadata": {},
   "source": [
    "#### Adults vs. Children Diabetes Rate"
   ]
  },
  {
   "cell_type": "code",
   "execution_count": 220,
   "id": "f6fad389-d027-48a2-8c77-2fe1621a28a4",
   "metadata": {},
   "outputs": [
    {
     "data": {
      "text/plain": [
       "0.004762181311342122"
      ]
     },
     "execution_count": 220,
     "metadata": {},
     "output_type": "execute_result"
    }
   ],
   "source": [
    "df_raw[df_raw.age < 18]['diabetes'].mean()"
   ]
  },
  {
   "cell_type": "code",
   "execution_count": 221,
   "id": "06cf2884-5a63-4633-bbac-842d56302255",
   "metadata": {},
   "outputs": [
    {
     "data": {
      "text/plain": [
       "0.10169000132880733"
      ]
     },
     "execution_count": 221,
     "metadata": {},
     "output_type": "execute_result"
    }
   ],
   "source": [
    "df_raw[df_raw.age >= 18]['diabetes'].mean()"
   ]
  },
  {
   "cell_type": "markdown",
   "id": "e359dabf-a342-4c1d-803f-c7b2eef7148e",
   "metadata": {},
   "source": [
    "#### Split numeric and categorical columns"
   ]
  },
  {
   "cell_type": "code",
   "execution_count": 222,
   "id": "752c19f4-a95d-40a1-ba2c-70092cc6ef24",
   "metadata": {},
   "outputs": [
    {
     "data": {
      "text/plain": [
       "Index(['age', 'hypertension', 'heart_disease', 'bmi', 'HbA1c_level',\n",
       "       'blood_glucose_level', 'diabetes'],\n",
       "      dtype='object')"
      ]
     },
     "execution_count": 222,
     "metadata": {},
     "output_type": "execute_result"
    }
   ],
   "source": [
    "numeric_columns = df_raw.select_dtypes(include=np.number).columns\n",
    "numeric_columns"
   ]
  },
  {
   "cell_type": "code",
   "execution_count": 223,
   "id": "70d1bc1e-7f5c-43e7-be62-8a481512d3f7",
   "metadata": {},
   "outputs": [
    {
     "data": {
      "text/plain": [
       "Index(['gender', 'smoking_history'], dtype='object')"
      ]
     },
     "execution_count": 223,
     "metadata": {},
     "output_type": "execute_result"
    }
   ],
   "source": [
    "non_numeric_columns = df_raw.select_dtypes(exclude=np.number).columns\n",
    "non_numeric_columns"
   ]
  },
  {
   "cell_type": "markdown",
   "id": "667a37dd-c72d-419b-9205-93885e5a543d",
   "metadata": {},
   "source": [
    "#### Check histograms for numeric data"
   ]
  },
  {
   "cell_type": "code",
   "execution_count": 224,
   "id": "c31f8ee0-cf38-4098-8d28-0b0f8010eebe",
   "metadata": {},
   "outputs": [
    {
     "name": "stdout",
     "output_type": "stream",
     "text": [
      "Column: age\n",
      "Unique values: 102\n"
     ]
    },
    {
     "data": {
      "image/png": "[encoded data removed]",
      "text/plain": [
       "<Figure size 640x480 with 1 Axes>"
      ]
     },
     "metadata": {},
     "output_type": "display_data"
    },
    {
     "name": "stdout",
     "output_type": "stream",
     "text": [
      "Column: hypertension\n",
      "Unique values: 2\n"
     ]
    },
    {
     "data": {
      "image/png": "[encoded data removed]",
      "text/plain": [
       "<Figure size 640x480 with 1 Axes>"
      ]
     },
     "metadata": {},
     "output_type": "display_data"
    },
    {
     "name": "stdout",
     "output_type": "stream",
     "text": [
      "Column: heart_disease\n",
      "Unique values: 2\n"
     ]
    },
    {
     "data": {
      "image/png": "[encoded data removed]",
      "text/plain": [
       "<Figure size 640x480 with 1 Axes>"
      ]
     },
     "metadata": {},
     "output_type": "display_data"
    },
    {
     "name": "stdout",
     "output_type": "stream",
     "text": [
      "Column: bmi\n",
      "Unique values: 4247\n"
     ]
    },
    {
     "data": {
      "image/png": "[encoded data removed]",
      "text/plain": [
       "<Figure size 640x480 with 1 Axes>"
      ]
     },
     "metadata": {},
     "output_type": "display_data"
    },
    {
     "name": "stdout",
     "output_type": "stream",
     "text": [
      "Column: HbA1c_level\n",
      "Unique values: 18\n"
     ]
    },
    {
     "data": {
      "image/png": "[encoded data removed]",
      "text/plain": [
       "<Figure size 640x480 with 1 Axes>"
      ]
     },
     "metadata": {},
     "output_type": "display_data"
    },
    {
     "name": "stdout",
     "output_type": "stream",
     "text": [
      "Column: blood_glucose_level\n",
      "Unique values: 18\n"
     ]
    },
    {
     "data": {
      "image/png": "[encoded data removed]",
      "text/plain": [
       "<Figure size 640x480 with 1 Axes>"
      ]
     },
     "metadata": {},
     "output_type": "display_data"
    },
    {
     "name": "stdout",
     "output_type": "stream",
     "text": [
      "Column: diabetes\n",
      "Unique values: 2\n"
     ]
    },
    {
     "data": {
      "image/png": "[encoded data removed]",
      "text/plain": [
       "<Figure size 640x480 with 1 Axes>"
      ]
     },
     "metadata": {},
     "output_type": "display_data"
    }
   ],
   "source": [
    "for column in numeric_columns:\n",
    "    print(f'Column: {column}')\n",
    "    print(f'Unique values: {len(df_raw[column].unique())}')\n",
    "    plt.hist(df_raw[column], edgecolor='k')\n",
    "    plt.show()"
   ]
  },
  {
   "cell_type": "markdown",
   "id": "ee1b930b-853c-4db1-9447-4d7bfc781dab",
   "metadata": {},
   "source": [
    "### Check outliers in numeric columns"
   ]
  },
  {
   "cell_type": "code",
   "execution_count": 225,
   "id": "ba16baf6-d560-4ac2-89b3-766f2ded69af",
   "metadata": {},
   "outputs": [
    {
     "data": {
      "text/plain": [
       "{'age': (-30.0, 114.0),\n",
       " 'bmi': (14.7, 38.5),\n",
       " 'HbA1c_level': (2.7, 8.3),\n",
       " 'blood_glucose_level': (11.5, 247.5)}"
      ]
     },
     "execution_count": 225,
     "metadata": {},
     "output_type": "execute_result"
    }
   ],
   "source": [
    "numeric_df = df_raw[[\"age\", \"bmi\", \"HbA1c_level\", \"blood_glucose_level\"]]\n",
    "outliers_boundaries = {}\n",
    "for column in numeric_df:\n",
    "    data = numeric_df[column]\n",
    "    iqr = np.nanpercentile(data, 75) - np.nanpercentile(data, 25)\n",
    "    lower, upper = round((np.nanpercentile(data, 25) - 1.5 * iqr), 2), round((np.nanpercentile(data, 75) + 1.5 * iqr), 2)\n",
    "    outliers_boundaries[column] = (lower, upper)\n",
    "    # what is out of range can be treated as outlier\n",
    "outliers_boundaries"
   ]
  },
  {
   "cell_type": "markdown",
   "id": "604587d0-a719-4bfc-a9ff-898e828140d2",
   "metadata": {},
   "source": [
    "#### Count outliers for each numeric columns"
   ]
  },
  {
   "cell_type": "code",
   "execution_count": 226,
   "id": "3267a1b8-bc8c-46ea-b617-fdc751e6c90f",
   "metadata": {},
   "outputs": [
    {
     "name": "stdout",
     "output_type": "stream",
     "text": [
      "For column \u001b[1mage\u001b[0m, the number of outliers:\n",
      "    below \u001b[1m-30.0\u001b[0m is \u001b[1m0\u001b[0m. \n",
      "    The average diabetes rate is \u001b[1mnan\u001b[0m.\n",
      "    upper \u001b[1m114.0\u001b[0m is \u001b[1m0\u001b[0m. \n",
      "    The average diabetes rate is \u001b[1mnan\u001b[0m\n",
      "For column \u001b[1mbmi\u001b[0m, the number of outliers:\n",
      "    below \u001b[1m14.7\u001b[0m is \u001b[1m1102\u001b[0m. \n",
      "    The average diabetes rate is \u001b[1m0.01\u001b[0m.\n",
      "    upper \u001b[1m38.5\u001b[0m is \u001b[1m5965\u001b[0m. \n",
      "    The average diabetes rate is \u001b[1m0.25\u001b[0m\n",
      "For column \u001b[1mHbA1c_level\u001b[0m, the number of outliers:\n",
      "    below \u001b[1m2.7\u001b[0m is \u001b[1m0\u001b[0m. \n",
      "    The average diabetes rate is \u001b[1mnan\u001b[0m.\n",
      "    upper \u001b[1m8.3\u001b[0m is \u001b[1m1315\u001b[0m. \n",
      "    The average diabetes rate is \u001b[1m1.0\u001b[0m\n",
      "For column \u001b[1mblood_glucose_level\u001b[0m, the number of outliers:\n",
      "    below \u001b[1m11.5\u001b[0m is \u001b[1m0\u001b[0m. \n",
      "    The average diabetes rate is \u001b[1mnan\u001b[0m.\n",
      "    upper \u001b[1m247.5\u001b[0m is \u001b[1m2038\u001b[0m. \n",
      "    The average diabetes rate is \u001b[1m1.0\u001b[0m\n"
     ]
    }
   ],
   "source": [
    "for key in outliers_boundaries.keys():\n",
    "    lower = round(outliers_boundaries[key][0], 2)\n",
    "    upper = round(outliers_boundaries[key][1], 2)\n",
    "    lower_count = df_raw[df_raw[key] < lower].shape[0] \n",
    "    upper_count = df_raw[df_raw[key] > upper].shape[0] \n",
    "    average_diabetes_lower = round(df_raw[df_raw[key] < lower]['diabetes'].mean(), 2)\n",
    "    average_diabetes_upper = round(df_raw[df_raw[key] > upper]['diabetes'].mean(), 2)\n",
    "    info = f\"For column \\033[1m{key}\\033[0m, the number of outliers:\\n\\\n",
    "    below \\033[1m{lower}\\033[0m is \\033[1m{lower_count}\\033[0m. \\n\\\n",
    "    The average diabetes rate is \\033[1m{average_diabetes_lower}\\033[0m.\\n\\\n",
    "    upper \\033[1m{upper}\\033[0m is \\033[1m{upper_count}\\033[0m. \\n\\\n",
    "    The average diabetes rate is \\033[1m{average_diabetes_upper}\\033[0m\"\n",
    "    print(info)"
   ]
  },
  {
   "cell_type": "markdown",
   "id": "b4b1900c-3c2d-4b07-b68e-2685320ebde7",
   "metadata": {},
   "source": [
    "#### Graphical representation of numerical columns"
   ]
  },
  {
   "cell_type": "code",
   "execution_count": 227,
   "id": "0c833df8-3449-4bc6-b823-0a9aa7c5f0f8",
   "metadata": {},
   "outputs": [],
   "source": [
    "def percentile_plot(column):\n",
    "    res = []\n",
    "    for i in range(1, 101):\n",
    "        a = np.nanpercentile(df_raw[column], i)\n",
    "        res.append(a)\n",
    "    plt.scatter(range(1, 101), res)\n",
    "    plt.grid()\n",
    "    plt.show()"
   ]
  },
  {
   "cell_type": "code",
   "execution_count": 228,
   "id": "096e023a-5d2b-4ae6-91f0-3fcb333c0234",
   "metadata": {},
   "outputs": [
    {
     "name": "stdout",
     "output_type": "stream",
     "text": [
      "age\n"
     ]
    },
    {
     "data": {
      "image/png": "[encoded data removed]",
      "text/plain": [
       "<Figure size 640x480 with 1 Axes>"
      ]
     },
     "metadata": {},
     "output_type": "display_data"
    },
    {
     "name": "stdout",
     "output_type": "stream",
     "text": [
      "bmi\n"
     ]
    },
    {
     "data": {
      "image/png": "[encoded data removed]",
      "text/plain": [
       "<Figure size 640x480 with 1 Axes>"
      ]
     },
     "metadata": {},
     "output_type": "display_data"
    },
    {
     "name": "stdout",
     "output_type": "stream",
     "text": [
      "HbA1c_level\n"
     ]
    },
    {
     "data": {
      "image/png": "[encoded data removed]",
      "text/plain": [
       "<Figure size 640x480 with 1 Axes>"
      ]
     },
     "metadata": {},
     "output_type": "display_data"
    },
    {
     "name": "stdout",
     "output_type": "stream",
     "text": [
      "blood_glucose_level\n"
     ]
    },
    {
     "data": {
      "image/png": "[encoded data removed]",
      "text/plain": [
       "<Figure size 640x480 with 1 Axes>"
      ]
     },
     "metadata": {},
     "output_type": "display_data"
    }
   ],
   "source": [
    "for column in ['age', 'bmi', 'HbA1c_level', 'blood_glucose_level']:\n",
    "    print(column)\n",
    "    percentile_plot(column=column)"
   ]
  },
  {
   "cell_type": "markdown",
   "id": "a69efce8-d4f7-49a8-93fc-2337e4dec380",
   "metadata": {},
   "source": [
    "### Testing scaling and power transformation for numeric columns"
   ]
  },
  {
   "cell_type": "code",
   "execution_count": 229,
   "id": "4e485fe2-1981-41dd-97c1-34c239ff3b15",
   "metadata": {},
   "outputs": [
    {
     "data": {
      "text/html": [
       "<div>\n",
       "<style scoped>\n",
       "    .dataframe tbody tr th:only-of-type {\n",
       "        vertical-align: middle;\n",
       "    }\n",
       "\n",
       "    .dataframe tbody tr th {\n",
       "        vertical-align: top;\n",
       "    }\n",
       "\n",
       "    .dataframe thead th {\n",
       "        text-align: right;\n",
       "    }\n",
       "</style>\n",
       "<table border=\"1\" class=\"dataframe\">\n",
       "  <thead>\n",
       "    <tr style=\"text-align: right;\">\n",
       "      <th></th>\n",
       "      <th>bmi</th>\n",
       "      <th>HbA1c_level</th>\n",
       "      <th>blood_glucose_level</th>\n",
       "    </tr>\n",
       "  </thead>\n",
       "  <tbody>\n",
       "    <tr>\n",
       "      <th>0</th>\n",
       "      <td>0.371681</td>\n",
       "      <td>0.551441</td>\n",
       "      <td>0.401879</td>\n",
       "    </tr>\n",
       "    <tr>\n",
       "      <th>1</th>\n",
       "      <td>0.406914</td>\n",
       "      <td>0.551441</td>\n",
       "      <td>0.000000</td>\n",
       "    </tr>\n",
       "    <tr>\n",
       "      <th>2</th>\n",
       "      <td>0.406914</td>\n",
       "      <td>0.387649</td>\n",
       "      <td>0.492810</td>\n",
       "    </tr>\n",
       "    <tr>\n",
       "      <th>3</th>\n",
       "      <td>0.340941</td>\n",
       "      <td>0.262197</td>\n",
       "      <td>0.478300</td>\n",
       "    </tr>\n",
       "    <tr>\n",
       "      <th>4</th>\n",
       "      <td>0.276627</td>\n",
       "      <td>0.226691</td>\n",
       "      <td>0.478300</td>\n",
       "    </tr>\n",
       "  </tbody>\n",
       "</table>\n",
       "</div>"
      ],
      "text/plain": [
       "        bmi  HbA1c_level  blood_glucose_level\n",
       "0  0.371681     0.551441             0.401879\n",
       "1  0.406914     0.551441             0.000000\n",
       "2  0.406914     0.387649             0.492810\n",
       "3  0.340941     0.262197             0.478300\n",
       "4  0.276627     0.226691             0.478300"
      ]
     },
     "execution_count": 229,
     "metadata": {},
     "output_type": "execute_result"
    }
   ],
   "source": [
    "df_columns_outliers = df_raw[['bmi', 'HbA1c_level', 'blood_glucose_level']]\n",
    "\n",
    "# steps of the pipeline\n",
    "steps = [\n",
    "    ('transform', PowerTransformer()),\n",
    "    ('scaler', MinMaxScaler())\n",
    "]\n",
    "\n",
    "pipeline = Pipeline(steps=steps)\n",
    "df_transform = pipeline.fit_transform(df_columns_outliers)\n",
    "temp_df = pd.DataFrame(df_transform, columns=['bmi', 'HbA1c_level', 'blood_glucose_level'])\n",
    "temp_df.head()"
   ]
  },
  {
   "cell_type": "markdown",
   "id": "f4382745-555b-445e-ad22-b4fc51722632",
   "metadata": {},
   "source": [
    "### Analysis of outliers"
   ]
  },
  {
   "cell_type": "code",
   "execution_count": 230,
   "id": "d5d2e86c-c15b-44a6-8a97-0e589869f662",
   "metadata": {},
   "outputs": [],
   "source": [
    "temp_df['diabetes'] = df_raw['diabetes']"
   ]
  },
  {
   "cell_type": "code",
   "execution_count": 231,
   "id": "d6cb051f-cde7-43fb-821d-9bb707185092",
   "metadata": {},
   "outputs": [
    {
     "name": "stdout",
     "output_type": "stream",
     "text": [
      "For column \u001b[1mbmi\u001b[0m, the number of outliers:\n",
      "    below \u001b[1m0.2\u001b[0m is \u001b[1m4802\u001b[0m. \n",
      "    The average diabetes rate is \u001b[1m0.01\u001b[0m.\n",
      "    upper \u001b[1m0.59\u001b[0m is \u001b[1m3835\u001b[0m. \n",
      "    The average diabetes rate is \u001b[1m0.26\u001b[0m\n",
      "For column \u001b[1mHbA1c_level\u001b[0m, the number of outliers:\n",
      "    below \u001b[1m-0.15\u001b[0m is \u001b[1m0\u001b[0m. \n",
      "    The average diabetes rate is \u001b[1mnan\u001b[0m.\n",
      "    upper \u001b[1m0.86\u001b[0m is \u001b[1m1315\u001b[0m. \n",
      "    The average diabetes rate is \u001b[1m1.0\u001b[0m\n",
      "For column \u001b[1mblood_glucose_level\u001b[0m, the number of outliers:\n",
      "    below \u001b[1m-0.35\u001b[0m is \u001b[1m0\u001b[0m. \n",
      "    The average diabetes rate is \u001b[1mnan\u001b[0m.\n",
      "    upper \u001b[1m1.01\u001b[0m is \u001b[1m0\u001b[0m. \n",
      "    The average diabetes rate is \u001b[1mnan\u001b[0m\n",
      "For column \u001b[1mdiabetes\u001b[0m, the number of outliers:\n",
      "    below \u001b[1m0.0\u001b[0m is \u001b[1m0\u001b[0m. \n",
      "    The average diabetes rate is \u001b[1mnan\u001b[0m.\n",
      "    upper \u001b[1m0.0\u001b[0m is \u001b[1m8500\u001b[0m. \n",
      "    The average diabetes rate is \u001b[1m1.0\u001b[0m\n"
     ]
    }
   ],
   "source": [
    "outliers_boundaries = {}\n",
    "for column in temp_df:\n",
    "    data = temp_df[column]\n",
    "    iqr = np.nanpercentile(data, 75) - np.nanpercentile(data, 25)\n",
    "    lower, upper = round((np.nanpercentile(data, 25) - 1.5 * iqr), 2), round((np.nanpercentile(data, 75) + 1.5 * iqr), 2)\n",
    "    outliers_boundaries[column] = (lower, upper)\n",
    "    # what is out of range can be treated as outlier\n",
    "outliers_boundaries\n",
    "for key in outliers_boundaries.keys():\n",
    "    lower = round(outliers_boundaries[key][0], 2)\n",
    "    upper = round(outliers_boundaries[key][1], 2)\n",
    "    lower_count = temp_df[temp_df[key] < lower].shape[0] \n",
    "    upper_count = temp_df[temp_df[key] > upper].shape[0] \n",
    "    average_diabetes_lower = round(temp_df[temp_df[key] < lower]['diabetes'].mean(), 2)\n",
    "    average_diabetes_upper = round(temp_df[temp_df[key] > upper]['diabetes'].mean(), 2)\n",
    "    info = f\"For column \\033[1m{key}\\033[0m, the number of outliers:\\n\\\n",
    "    below \\033[1m{lower}\\033[0m is \\033[1m{lower_count}\\033[0m. \\n\\\n",
    "    The average diabetes rate is \\033[1m{average_diabetes_lower}\\033[0m.\\n\\\n",
    "    upper \\033[1m{upper}\\033[0m is \\033[1m{upper_count}\\033[0m. \\n\\\n",
    "    The average diabetes rate is \\033[1m{average_diabetes_upper}\\033[0m\"\n",
    "    print(info)"
   ]
  },
  {
   "cell_type": "markdown",
   "id": "de26ad77-e5a9-45be-aedd-097f5bd61318",
   "metadata": {},
   "source": [
    "### Analysis of categorical variables"
   ]
  },
  {
   "cell_type": "code",
   "execution_count": 232,
   "id": "3ca3d6cb-4f24-4519-8735-6b4eaa5f814a",
   "metadata": {},
   "outputs": [
    {
     "name": "stdout",
     "output_type": "stream",
     "text": [
      "Columns: gender\n",
      "Unique values: 3\n"
     ]
    },
    {
     "data": {
      "image/png": "[encoded data removed]",
      "text/plain": [
       "<Figure size 640x480 with 1 Axes>"
      ]
     },
     "metadata": {},
     "output_type": "display_data"
    },
    {
     "name": "stdout",
     "output_type": "stream",
     "text": [
      "Columns: smoking_history\n",
      "Unique values: 6\n"
     ]
    },
    {
     "data": {
      "image/png": "[encoded data removed]",
      "text/plain": [
       "<Figure size 640x480 with 1 Axes>"
      ]
     },
     "metadata": {},
     "output_type": "display_data"
    }
   ],
   "source": [
    "for column in non_numeric_columns:\n",
    "    print(f'Columns: {column}')\n",
    "    print(f'Unique values: {len(df_raw[column].unique())}')\n",
    "    df_raw[column].value_counts().plot.bar()\n",
    "    plt.show()"
   ]
  },
  {
   "cell_type": "code",
   "execution_count": 233,
   "id": "2c1063ba-7cff-4068-baed-2761f809067d",
   "metadata": {},
   "outputs": [
    {
     "data": {
      "text/plain": [
       "(18, 9)"
      ]
     },
     "execution_count": 233,
     "metadata": {},
     "output_type": "execute_result"
    }
   ],
   "source": [
    "df_raw[df_raw[\"gender\"]==\"Other\"].shape"
   ]
  },
  {
   "cell_type": "code",
   "execution_count": 234,
   "id": "77b7c43d-8367-4218-876c-f3a42fbcdac4",
   "metadata": {},
   "outputs": [
    {
     "name": "stdout",
     "output_type": "stream",
     "text": [
      "gender\n",
      "Male      0.097490\n",
      "Female    0.076189\n",
      "Other     0.000000\n",
      "Name: diabetes, dtype: float64\n"
     ]
    },
    {
     "data": {
      "image/png": "[encoded data removed]",
      "text/plain": [
       "<Figure size 640x480 with 1 Axes>"
      ]
     },
     "metadata": {},
     "output_type": "display_data"
    },
    {
     "name": "stdout",
     "output_type": "stream",
     "text": [
      "smoking_history\n",
      "former         0.170017\n",
      "ever           0.117882\n",
      "not current    0.107027\n",
      "current        0.102089\n",
      "never          0.095341\n",
      "No Info        0.040596\n",
      "Name: diabetes, dtype: float64\n"
     ]
    },
    {
     "data": {
      "image/png": "[encoded data removed]",
      "text/plain": [
       "<Figure size 640x480 with 1 Axes>"
      ]
     },
     "metadata": {},
     "output_type": "display_data"
    }
   ],
   "source": [
    "for column in non_numeric_columns:\n",
    "    diabetes_mean = df_raw.groupby(column)['diabetes'].mean()\n",
    "    print(diabetes_mean.sort_values(ascending=False))\n",
    "    diabetes_mean.sort_values().plot.barh()\n",
    "    plt.grid()\n",
    "    plt.show()"
   ]
  },
  {
   "cell_type": "markdown",
   "id": "fde8c998-aaab-4fc0-a122-e6eb4f30b116",
   "metadata": {},
   "source": [
    "### The correlation of numerical features with the target"
   ]
  },
  {
   "cell_type": "code",
   "execution_count": 235,
   "id": "dcabcb7f-9fdd-45f9-a9fa-119543857ea9",
   "metadata": {},
   "outputs": [],
   "source": [
    "corr_matrix = df_raw[numeric_columns].corr(method='pearson')"
   ]
  },
  {
   "cell_type": "code",
   "execution_count": 236,
   "id": "57275e6c-b6bf-47bd-8bdb-dc254d0ed578",
   "metadata": {},
   "outputs": [
    {
     "data": {
      "image/png": "[encoded data removed]",
      "text/plain": [
       "<Figure size 640x480 with 2 Axes>"
      ]
     },
     "metadata": {},
     "output_type": "display_data"
    }
   ],
   "source": [
    "sns.heatmap(corr_matrix, annot=True)\n",
    "plt.show()"
   ]
  },
  {
   "cell_type": "code",
   "execution_count": 237,
   "id": "c82b38fa-1bf1-4477-8e5c-196d908ac367",
   "metadata": {},
   "outputs": [
    {
     "data": {
      "image/png": "[encoded data removed]",
      "text/plain": [
       "<Figure size 640x480 with 1 Axes>"
      ]
     },
     "metadata": {},
     "output_type": "display_data"
    }
   ],
   "source": [
    "plt.bar(diabetes_mean.index, diabetes_mean.values)\n",
    "plt.xlabel('smoking_history')\n",
    "plt.ylabel('diabetes_mean')\n",
    "plt.title('Mean positive diabetes status for each smoking history category')\n",
    "plt.show()"
   ]
  },
  {
   "cell_type": "markdown",
   "id": "84906dd9-4a42-4ad6-ae84-119827ebf8fc",
   "metadata": {},
   "source": [
    "#### Check the balance of the target class "
   ]
  },
  {
   "cell_type": "code",
   "execution_count": 238,
   "id": "8471ae83-837f-4018-855f-0bb35bf46947",
   "metadata": {},
   "outputs": [
    {
     "data": {
      "image/png": "[encoded data removed]",
      "text/plain": [
       "<Figure size 600x600 with 1 Axes>"
      ]
     },
     "metadata": {},
     "output_type": "display_data"
    }
   ],
   "source": [
    "def balanced_plot(df_raw):\n",
    "\n",
    "    plt.figure(figsize=(6, 6))\n",
    "    plt.pie(df_raw.diabetes.value_counts(), \n",
    "            df_raw.diabetes.value_counts().index, \n",
    "            autopct='%1.1f%%', \n",
    "            startangle=30)\n",
    "    plt.axis('equal')\n",
    "    plt.legend(df_raw.diabetes.value_counts().index, loc='best')\n",
    "    plt.title('Yes/no diabetes')\n",
    "    plt.show()\n",
    "    \n",
    "balanced_plot(df_raw)"
   ]
  },
  {
   "cell_type": "markdown",
   "id": "94d36de0-66d3-4cc1-9936-082327e72419",
   "metadata": {},
   "source": [
    "## Conclusions:\n",
    "* There are no missing values, however pipelines can contain the imputers for safety purpose.\n",
    "* Numeric columns: 'bmi', 'HbA1c_level' contain outliers.\n",
    "* Even after the transformation, the columns still contain outliers; however the outliers cannot be removed nor winsorized because outliers' presence is highly correlated with the positive cases in the target column, thus we could lose the valuable information.\n",
    "* Column 'gender' contains few samples of 'Other'. It would make sense to combine this category with the majority category \"Male\".\n",
    "* Column \"smoking_history\" contains valuable information, as different statuses have different average illness rate.\n",
    "* Data in target column 'diabetes' are very unbalanced (91.5% vs. 8.5%). This may cause a problem which can be basically addressed into few ways:\n",
    "    * select appropriate metrics (e.g., F-1 instead of accuracy)\n",
    "    * rely more on ensemble algorithms (e.g., RandomForest and XGBoost); moreover, ensemble algorithsm are more resistent to outliers; linear algorithm like Logistic Regression may serve as a baseline\n",
    "    * apply cost-senstivie learning\n",
    "    * resample data"
   ]
  },
  {
   "cell_type": "markdown",
   "id": "3169529c-c847-4264-a4ac-71d859f3f6d3",
   "metadata": {},
   "source": [
    "## Data Preparation\n",
    "Create a pipeline containing 3 subpipelines:\n",
    "* the first pipeline for categorical column 'gender'\n",
    "* \n",
    "the second pipeline for categorical colu 'smoking_history\n",
    "*  the third pipeline for numeric columns: 'age', 'hypertension', 'heart_disease', 'bmi', 'HbA1c_level' 'blood_glucose_level'. model model"
   ]
  },
  {
   "cell_type": "markdown",
   "id": "e1fb57e9-38f8-4186-9209-12c26e3ac88c",
   "metadata": {},
   "source": [
    "### Creating First Pipeline"
   ]
  },
  {
   "cell_type": "code",
   "execution_count": 239,
   "id": "b38b7319-a0d4-4d89-9c37-ed175e7c8b6d",
   "metadata": {},
   "outputs": [],
   "source": [
    "X = df_raw.drop('diabetes', axis=1)\n",
    "y = df_raw['diabetes']"
   ]
  },
  {
   "cell_type": "code",
   "execution_count": 240,
   "id": "b76f25dc-989a-467d-8bcd-c9696e6ac0d7",
   "metadata": {},
   "outputs": [
    {
     "data": {
      "text/html": [
       "<div>\n",
       "<style scoped>\n",
       "    .dataframe tbody tr th:only-of-type {\n",
       "        vertical-align: middle;\n",
       "    }\n",
       "\n",
       "    .dataframe tbody tr th {\n",
       "        vertical-align: top;\n",
       "    }\n",
       "\n",
       "    .dataframe thead th {\n",
       "        text-align: right;\n",
       "    }\n",
       "</style>\n",
       "<table border=\"1\" class=\"dataframe\">\n",
       "  <thead>\n",
       "    <tr style=\"text-align: right;\">\n",
       "      <th></th>\n",
       "      <th>gender</th>\n",
       "      <th>age</th>\n",
       "      <th>hypertension</th>\n",
       "      <th>heart_disease</th>\n",
       "      <th>smoking_history</th>\n",
       "      <th>bmi</th>\n",
       "      <th>HbA1c_level</th>\n",
       "      <th>blood_glucose_level</th>\n",
       "      <th>diabetes</th>\n",
       "    </tr>\n",
       "  </thead>\n",
       "  <tbody>\n",
       "    <tr>\n",
       "      <th>0</th>\n",
       "      <td>Female</td>\n",
       "      <td>80.0</td>\n",
       "      <td>0</td>\n",
       "      <td>1</td>\n",
       "      <td>never</td>\n",
       "      <td>25.19</td>\n",
       "      <td>6.6</td>\n",
       "      <td>140</td>\n",
       "      <td>0</td>\n",
       "    </tr>\n",
       "    <tr>\n",
       "      <th>1</th>\n",
       "      <td>Female</td>\n",
       "      <td>54.0</td>\n",
       "      <td>0</td>\n",
       "      <td>0</td>\n",
       "      <td>No Info</td>\n",
       "      <td>27.32</td>\n",
       "      <td>6.6</td>\n",
       "      <td>80</td>\n",
       "      <td>0</td>\n",
       "    </tr>\n",
       "    <tr>\n",
       "      <th>2</th>\n",
       "      <td>Male</td>\n",
       "      <td>28.0</td>\n",
       "      <td>0</td>\n",
       "      <td>0</td>\n",
       "      <td>never</td>\n",
       "      <td>27.32</td>\n",
       "      <td>5.7</td>\n",
       "      <td>158</td>\n",
       "      <td>0</td>\n",
       "    </tr>\n",
       "    <tr>\n",
       "      <th>3</th>\n",
       "      <td>Female</td>\n",
       "      <td>36.0</td>\n",
       "      <td>0</td>\n",
       "      <td>0</td>\n",
       "      <td>current</td>\n",
       "      <td>23.45</td>\n",
       "      <td>5.0</td>\n",
       "      <td>155</td>\n",
       "      <td>0</td>\n",
       "    </tr>\n",
       "    <tr>\n",
       "      <th>4</th>\n",
       "      <td>Male</td>\n",
       "      <td>76.0</td>\n",
       "      <td>1</td>\n",
       "      <td>1</td>\n",
       "      <td>current</td>\n",
       "      <td>20.14</td>\n",
       "      <td>4.8</td>\n",
       "      <td>155</td>\n",
       "      <td>0</td>\n",
       "    </tr>\n",
       "  </tbody>\n",
       "</table>\n",
       "</div>"
      ],
      "text/plain": [
       "   gender   age  hypertension  heart_disease smoking_history    bmi  \\\n",
       "0  Female  80.0             0              1           never  25.19   \n",
       "1  Female  54.0             0              0         No Info  27.32   \n",
       "2    Male  28.0             0              0           never  27.32   \n",
       "3  Female  36.0             0              0         current  23.45   \n",
       "4    Male  76.0             1              1         current  20.14   \n",
       "\n",
       "   HbA1c_level  blood_glucose_level  diabetes  \n",
       "0          6.6                  140         0  \n",
       "1          6.6                   80         0  \n",
       "2          5.7                  158         0  \n",
       "3          5.0                  155         0  \n",
       "4          4.8                  155         0  "
      ]
     },
     "execution_count": 240,
     "metadata": {},
     "output_type": "execute_result"
    }
   ],
   "source": [
    "df_raw.head()"
   ]
  },
  {
   "cell_type": "code",
   "execution_count": 241,
   "id": "029af88f-7596-4433-9abf-8138f365b57e",
   "metadata": {},
   "outputs": [
    {
     "data": {
      "text/plain": [
       "array(['never', 'No Info', 'current', 'former', 'ever', 'not current'],\n",
       "      dtype=object)"
      ]
     },
     "execution_count": 241,
     "metadata": {},
     "output_type": "execute_result"
    }
   ],
   "source": [
    "df_raw['smoking_history'].unique()"
   ]
  },
  {
   "cell_type": "markdown",
   "id": "a9334d46-4cce-41af-b750-3fcb0f220fa0",
   "metadata": {},
   "source": [
    "### Split data into training and test set "
   ]
  },
  {
   "cell_type": "code",
   "execution_count": 242,
   "id": "4509cbf1-750e-4496-a2db-63881c851436",
   "metadata": {},
   "outputs": [],
   "source": [
    "X_train, X_test, y_train, y_test = train_test_split(X, y, test_size=0.2, random_state=42)"
   ]
  },
  {
   "cell_type": "markdown",
   "id": "3ba51f94-9e3d-46d3-bc04-ba82cbc65236",
   "metadata": {},
   "source": [
    "1. Create a custom transformer **GenderTransformer** for binary column (changing samples of 'Other' to the majority category \"Male\")\n",
    "2. Create a pipeline:\n",
    "    * select only column \"gender\"\n",
    "    * impute missing data with mode"
   ]
  },
  {
   "cell_type": "code",
   "execution_count": 243,
   "id": "12ce564c-2880-4808-b33a-93793bf88d5d",
   "metadata": {},
   "outputs": [],
   "source": [
    "class GenderTransformer(BaseEstimator, TransformerMixin):\n",
    "    def __init__(self, column='gender'):\n",
    "        self.column = column\n",
    "    def fit (self, X, y = None):\n",
    "        return self\n",
    "        \n",
    "    def transform (self, X, y = None):\n",
    "        def gender_transform(x):\n",
    "            return 0 if x == 'Female' else 1\n",
    "        X[self.column] = X[self.column].apply(gender_transform)\n",
    "        return X"
   ]
  },
  {
   "cell_type": "code",
   "execution_count": 244,
   "id": "313db012-d167-4664-b7c8-cea0da4783db",
   "metadata": {},
   "outputs": [
    {
     "data": {
      "text/plain": [
       "array([0, 1], dtype=int64)"
      ]
     },
     "execution_count": 244,
     "metadata": {},
     "output_type": "execute_result"
    }
   ],
   "source": [
    "GenderTransformer().fit_transform(df_raw[['gender']])['gender'].unique()"
   ]
  },
  {
   "cell_type": "markdown",
   "id": "1f5d6d54-7133-44a5-9982-125958d8ea89",
   "metadata": {},
   "source": [
    "### Create a custom transformer **ImputeColsTransformer** for imputing missing values."
   ]
  },
  {
   "cell_type": "code",
   "execution_count": 245,
   "id": "9c8df8dd-fd74-4e7b-b4a6-8342dcd199d4",
   "metadata": {},
   "outputs": [],
   "source": [
    "class ImputeColsTransformer(BaseEstimator, TransformerMixin):\n",
    "    def __init__( self, method):\n",
    "        self.method=method\n",
    "        self.impute_values = {}    \n",
    "        \n",
    "    def fit( self, X, y = None ):\n",
    "        if self.method == 'mode':\n",
    "            for col in X:\n",
    "                mode = X[col].mode()\n",
    "                self.impute_values[col] = mode  \n",
    "        elif self.method == 'median':\n",
    "            for col in X:\n",
    "                median = X[col].median()\n",
    "                self.impute_values[col] = median\n",
    "        else:\n",
    "            raise Exception(\"Available methods: mode, median\")             \n",
    "        return self  \n",
    "        \n",
    "    def transform( self, X, y = None ): \n",
    "        for col in X:\n",
    "            value_to_impute = self.impute_values[col]\n",
    "            X[col] = X[col].fillna(value_to_impute)\n",
    "        return X"
   ]
  },
  {
   "cell_type": "code",
   "execution_count": 246,
   "id": "28be2347-1b06-4932-9898-7573a0b0e1e9",
   "metadata": {},
   "outputs": [
    {
     "data": {
      "text/plain": [
       "array([[0],\n",
       "       [0],\n",
       "       [1],\n",
       "       [0],\n",
       "       [0]], dtype=int64)"
      ]
     },
     "execution_count": 246,
     "metadata": {},
     "output_type": "execute_result"
    }
   ],
   "source": [
    "gender_col = ['gender']\n",
    "\n",
    "steps = [\n",
    "    ('imputer', ImputeColsTransformer(method='mode')),\n",
    "    ('gender', GenderTransformer())\n",
    "]\n",
    "\n",
    "gender_pipeline = Pipeline(steps=steps)\n",
    "\n",
    "transformer = ColumnTransformer(transformers=[\n",
    "    ('gender_transformer', gender_pipeline, gender_col)\n",
    "])\n",
    "\n",
    "pipeline = Pipeline(steps=[('preprocessor', transformer)])\n",
    "pipeline.fit(X_train, y_train)\n",
    "preds = pipeline.transform(X_test)\n",
    "preds[:5]"
   ]
  },
  {
   "cell_type": "markdown",
   "id": "f25d69c5-6e2f-476b-9795-7f1066ac40c5",
   "metadata": {},
   "source": [
    "### Creating Second Pipeline"
   ]
  },
  {
   "cell_type": "markdown",
   "id": "d73e4334-5d7b-49cf-b230-f2502ed07078",
   "metadata": {},
   "source": [
    "1. Create a custom transformer **SmokingHistoryTransformer** designed to replace the values in 'smoking_history' column with their corresponding mean target values using the map function.\n",
    "2. Create a pipeline:\n",
    "    * select only column \"smoking_history\"\n",
    "    * impute missing data with mode\n",
    "    * scale data with MinMaxScaler"
   ]
  },
  {
   "cell_type": "code",
   "execution_count": 247,
   "id": "d819d61f-c241-4698-8a5c-bcd7ea0583cf",
   "metadata": {},
   "outputs": [
    {
     "data": {
      "text/plain": [
       "{'No Info': 0.040596381505472415,\n",
       " 'current': 0.10208916648718501,\n",
       " 'ever': 0.11788211788211789,\n",
       " 'former': 0.17001710863986313,\n",
       " 'never': 0.09534121669753526,\n",
       " 'not current': 0.10702652396463472}"
      ]
     },
     "execution_count": 247,
     "metadata": {},
     "output_type": "execute_result"
    }
   ],
   "source": [
    "diabetes_mean = df_raw.groupby(['smoking_history'])['diabetes'].mean()\n",
    "diabetes_mean.to_dict()"
   ]
  },
  {
   "cell_type": "code",
   "execution_count": 248,
   "id": "68bc2a0b-8e89-45a2-96cb-9fbaa78f83db",
   "metadata": {},
   "outputs": [],
   "source": [
    "class SmokingHistoryTransformer(BaseEstimator, TransformerMixin):\n",
    "    def __init__(self, column='smoking_history'):\n",
    "        self.column = column\n",
    "        self.diabetes_rates_dict = {}\n",
    "        \n",
    "    def fit (self, X, y = None):\n",
    "        y = pd.DataFrame(y)\n",
    "        y.columns = ['target']\n",
    "        df = pd.concat([X, y], axis=1)\n",
    "        self.diabetes_rates_dict = df.groupby([self.column])['target'].mean().to_dict()\n",
    "        return self\n",
    "\n",
    "    def transform (self, X, y = None):\n",
    "        X_copy = X.copy()\n",
    "        X_copy[self.column] = X_copy[self.column].map(self.diabetes_rates_dict)\n",
    "        return X_copy\n",
    "        "
   ]
  },
  {
   "cell_type": "code",
   "execution_count": 249,
   "id": "727b6d25-e273-49de-affd-4e93289c9f01",
   "metadata": {},
   "outputs": [
    {
     "data": {
      "text/html": [
       "<style>#sk-container-id-25 {color: black;}#sk-container-id-25 pre{padding: 0;}#sk-container-id-25 div.sk-toggleable {background-color: white;}#sk-container-id-25 label.sk-toggleable__label {cursor: pointer;display: block;width: 100%;margin-bottom: 0;padding: 0.3em;box-sizing: border-box;text-align: center;}#sk-container-id-25 label.sk-toggleable__label-arrow:before {content: \"▸\";float: left;margin-right: 0.25em;color: #696969;}#sk-container-id-25 label.sk-toggleable__label-arrow:hover:before {color: black;}#sk-container-id-25 div.sk-estimator:hover label.sk-toggleable__label-arrow:before {color: black;}#sk-container-id-25 div.sk-toggleable__content {max-height: 0;max-width: 0;overflow: hidden;text-align: left;background-color: #f0f8ff;}#sk-container-id-25 div.sk-toggleable__content pre {margin: 0.2em;color: black;border-radius: 0.25em;background-color: #f0f8ff;}#sk-container-id-25 input.sk-toggleable__control:checked~div.sk-toggleable__content {max-height: 200px;max-width: 100%;overflow: auto;}#sk-container-id-25 input.sk-toggleable__control:checked~label.sk-toggleable__label-arrow:before {content: \"▾\";}#sk-container-id-25 div.sk-estimator input.sk-toggleable__control:checked~label.sk-toggleable__label {background-color: #d4ebff;}#sk-container-id-25 div.sk-label input.sk-toggleable__control:checked~label.sk-toggleable__label {background-color: #d4ebff;}#sk-container-id-25 input.sk-hidden--visually {border: 0;clip: rect(1px 1px 1px 1px);clip: rect(1px, 1px, 1px, 1px);height: 1px;margin: -1px;overflow: hidden;padding: 0;position: absolute;width: 1px;}#sk-container-id-25 div.sk-estimator {font-family: monospace;background-color: #f0f8ff;border: 1px dotted black;border-radius: 0.25em;box-sizing: border-box;margin-bottom: 0.5em;}#sk-container-id-25 div.sk-estimator:hover {background-color: #d4ebff;}#sk-container-id-25 div.sk-parallel-item::after {content: \"\";width: 100%;border-bottom: 1px solid gray;flex-grow: 1;}#sk-container-id-25 div.sk-label:hover label.sk-toggleable__label {background-color: #d4ebff;}#sk-container-id-25 div.sk-serial::before {content: \"\";position: absolute;border-left: 1px solid gray;box-sizing: border-box;top: 0;bottom: 0;left: 50%;z-index: 0;}#sk-container-id-25 div.sk-serial {display: flex;flex-direction: column;align-items: center;background-color: white;padding-right: 0.2em;padding-left: 0.2em;position: relative;}#sk-container-id-25 div.sk-item {position: relative;z-index: 1;}#sk-container-id-25 div.sk-parallel {display: flex;align-items: stretch;justify-content: center;background-color: white;position: relative;}#sk-container-id-25 div.sk-item::before, #sk-container-id-25 div.sk-parallel-item::before {content: \"\";position: absolute;border-left: 1px solid gray;box-sizing: border-box;top: 0;bottom: 0;left: 50%;z-index: -1;}#sk-container-id-25 div.sk-parallel-item {display: flex;flex-direction: column;z-index: 1;position: relative;background-color: white;}#sk-container-id-25 div.sk-parallel-item:first-child::after {align-self: flex-end;width: 50%;}#sk-container-id-25 div.sk-parallel-item:last-child::after {align-self: flex-start;width: 50%;}#sk-container-id-25 div.sk-parallel-item:only-child::after {width: 0;}#sk-container-id-25 div.sk-dashed-wrapped {border: 1px dashed gray;margin: 0 0.4em 0.5em 0.4em;box-sizing: border-box;padding-bottom: 0.4em;background-color: white;}#sk-container-id-25 div.sk-label label {font-family: monospace;font-weight: bold;display: inline-block;line-height: 1.2em;}#sk-container-id-25 div.sk-label-container {text-align: center;}#sk-container-id-25 div.sk-container {/* jupyter's `normalize.less` sets `[hidden] { display: none; }` but bootstrap.min.css set `[hidden] { display: none !important; }` so we also need the `!important` here to be able to override the default hidden behavior on the sphinx rendered scikit-learn.org. See: https://github.com/scikit-learn/scikit-learn/issues/21755 */display: inline-block !important;position: relative;}#sk-container-id-25 div.sk-text-repr-fallback {display: none;}</style><div id=\"sk-container-id-25\" class=\"sk-top-container\"><div class=\"sk-text-repr-fallback\"><pre>SmokingHistoryTransformer()</pre><b>In a Jupyter environment, please rerun this cell to show the HTML representation or trust the notebook. <br />On GitHub, the HTML representation is unable to render, please try loading this page with nbviewer.org.</b></div><div class=\"sk-container\" hidden><div class=\"sk-item\"><div class=\"sk-estimator sk-toggleable\"><input class=\"sk-toggleable__control sk-hidden--visually\" id=\"sk-estimator-id-342\" type=\"checkbox\" checked><label for=\"sk-estimator-id-342\" class=\"sk-toggleable__label sk-toggleable__label-arrow\">SmokingHistoryTransformer</label><div class=\"sk-toggleable__content\"><pre>SmokingHistoryTransformer()</pre></div></div></div></div></div>"
      ],
      "text/plain": [
       "SmokingHistoryTransformer()"
      ]
     },
     "execution_count": 249,
     "metadata": {},
     "output_type": "execute_result"
    }
   ],
   "source": [
    "sm = SmokingHistoryTransformer()\n",
    "sm.fit(X_train, y_train)"
   ]
  },
  {
   "cell_type": "code",
   "execution_count": 250,
   "id": "1baf82a0-9ff5-4e93-a873-12c6a4dbbafc",
   "metadata": {},
   "outputs": [
    {
     "data": {
      "text/plain": [
       "{'No Info': 0.04084836222834618,\n",
       " 'current': 0.10185561424895029,\n",
       " 'ever': 0.1136789506558401,\n",
       " 'former': 0.16990679094540612,\n",
       " 'never': 0.09428113308391235,\n",
       " 'not current': 0.11270056060313165}"
      ]
     },
     "execution_count": 250,
     "metadata": {},
     "output_type": "execute_result"
    }
   ],
   "source": [
    "sm.diabetes_rates_dict"
   ]
  },
  {
   "cell_type": "code",
   "execution_count": 254,
   "id": "ea40da8a-7284-4a6d-84b9-b248b206e2fe",
   "metadata": {},
   "outputs": [
    {
     "data": {
      "text/plain": [
       "array([[0.        ],\n",
       "       [0.        ],\n",
       "       [1.        ],\n",
       "       [0.41402   ],\n",
       "       [0.55674162]])"
      ]
     },
     "execution_count": 254,
     "metadata": {},
     "output_type": "execute_result"
    }
   ],
   "source": [
    "smoking_col = ['smoking_history']\n",
    "\n",
    "steps = [\n",
    "    ('imputer', ImputeColsTransformer(method='mode')),\n",
    "    ('smoking', SmokingHistoryTransformer()),\n",
    "    ('scaler', MinMaxScaler())\n",
    "]\n",
    "\n",
    "smoking_pipeline = Pipeline(steps=steps)\n",
    "\n",
    "transformer = ColumnTransformer(transformers=[\n",
    "    ('smoking_transformer', smoking_pipeline, smoking_col)\n",
    "])\n",
    "\n",
    "pipeline = Pipeline(steps=[('preprocessor', transformer)])\n",
    "pipeline.fit(X_train, y_train)\n",
    "preds = pipeline.transform(X_test)\n",
    "preds[:5]"
   ]
  },
  {
   "cell_type": "code",
   "execution_count": 255,
   "id": "385784d6-f476-4521-a150-9f64825e2269",
   "metadata": {},
   "outputs": [
    {
     "data": {
      "text/html": [
       "<div>\n",
       "<style scoped>\n",
       "    .dataframe tbody tr th:only-of-type {\n",
       "        vertical-align: middle;\n",
       "    }\n",
       "\n",
       "    .dataframe tbody tr th {\n",
       "        vertical-align: top;\n",
       "    }\n",
       "\n",
       "    .dataframe thead th {\n",
       "        text-align: right;\n",
       "    }\n",
       "</style>\n",
       "<table border=\"1\" class=\"dataframe\">\n",
       "  <thead>\n",
       "    <tr style=\"text-align: right;\">\n",
       "      <th></th>\n",
       "      <th>gender</th>\n",
       "      <th>age</th>\n",
       "      <th>hypertension</th>\n",
       "      <th>heart_disease</th>\n",
       "      <th>smoking_history</th>\n",
       "      <th>bmi</th>\n",
       "      <th>HbA1c_level</th>\n",
       "      <th>blood_glucose_level</th>\n",
       "      <th>diabetes</th>\n",
       "    </tr>\n",
       "  </thead>\n",
       "  <tbody>\n",
       "    <tr>\n",
       "      <th>0</th>\n",
       "      <td>Female</td>\n",
       "      <td>80.0</td>\n",
       "      <td>0</td>\n",
       "      <td>1</td>\n",
       "      <td>never</td>\n",
       "      <td>25.19</td>\n",
       "      <td>6.6</td>\n",
       "      <td>140</td>\n",
       "      <td>0</td>\n",
       "    </tr>\n",
       "    <tr>\n",
       "      <th>1</th>\n",
       "      <td>Female</td>\n",
       "      <td>54.0</td>\n",
       "      <td>0</td>\n",
       "      <td>0</td>\n",
       "      <td>No Info</td>\n",
       "      <td>27.32</td>\n",
       "      <td>6.6</td>\n",
       "      <td>80</td>\n",
       "      <td>0</td>\n",
       "    </tr>\n",
       "    <tr>\n",
       "      <th>2</th>\n",
       "      <td>Male</td>\n",
       "      <td>28.0</td>\n",
       "      <td>0</td>\n",
       "      <td>0</td>\n",
       "      <td>never</td>\n",
       "      <td>27.32</td>\n",
       "      <td>5.7</td>\n",
       "      <td>158</td>\n",
       "      <td>0</td>\n",
       "    </tr>\n",
       "    <tr>\n",
       "      <th>3</th>\n",
       "      <td>Female</td>\n",
       "      <td>36.0</td>\n",
       "      <td>0</td>\n",
       "      <td>0</td>\n",
       "      <td>current</td>\n",
       "      <td>23.45</td>\n",
       "      <td>5.0</td>\n",
       "      <td>155</td>\n",
       "      <td>0</td>\n",
       "    </tr>\n",
       "    <tr>\n",
       "      <th>4</th>\n",
       "      <td>Male</td>\n",
       "      <td>76.0</td>\n",
       "      <td>1</td>\n",
       "      <td>1</td>\n",
       "      <td>current</td>\n",
       "      <td>20.14</td>\n",
       "      <td>4.8</td>\n",
       "      <td>155</td>\n",
       "      <td>0</td>\n",
       "    </tr>\n",
       "  </tbody>\n",
       "</table>\n",
       "</div>"
      ],
      "text/plain": [
       "   gender   age  hypertension  heart_disease smoking_history    bmi  \\\n",
       "0  Female  80.0             0              1           never  25.19   \n",
       "1  Female  54.0             0              0         No Info  27.32   \n",
       "2    Male  28.0             0              0           never  27.32   \n",
       "3  Female  36.0             0              0         current  23.45   \n",
       "4    Male  76.0             1              1         current  20.14   \n",
       "\n",
       "   HbA1c_level  blood_glucose_level  diabetes  \n",
       "0          6.6                  140         0  \n",
       "1          6.6                   80         0  \n",
       "2          5.7                  158         0  \n",
       "3          5.0                  155         0  \n",
       "4          4.8                  155         0  "
      ]
     },
     "execution_count": 255,
     "metadata": {},
     "output_type": "execute_result"
    }
   ],
   "source": [
    "df_raw.head()"
   ]
  },
  {
   "cell_type": "code",
   "execution_count": 256,
   "id": "22bdb9c8-f28e-49b6-8cbd-685eb6c980d1",
   "metadata": {},
   "outputs": [],
   "source": [
    "numeric_columns = numeric_columns.drop('diabetes')"
   ]
  },
  {
   "cell_type": "code",
   "execution_count": 257,
   "id": "a420feae-c759-4509-8e56-9335baadb217",
   "metadata": {},
   "outputs": [
    {
     "data": {
      "text/plain": [
       "Index(['age', 'hypertension', 'heart_disease', 'bmi', 'HbA1c_level',\n",
       "       'blood_glucose_level'],\n",
       "      dtype='object')"
      ]
     },
     "execution_count": 257,
     "metadata": {},
     "output_type": "execute_result"
    }
   ],
   "source": [
    "numeric_columns"
   ]
  },
  {
   "cell_type": "code",
   "execution_count": 258,
   "id": "346343fe-543c-45c8-ad78-a6f574824436",
   "metadata": {},
   "outputs": [
    {
     "data": {
      "text/plain": [
       "array([[0.217051  , 0.        , 0.        , 0.2945135 , 0.40740437,\n",
       "        0.32414825],\n",
       "       [0.05873409, 0.        , 0.        , 0.29819374, 0.26361771,\n",
       "        0.42842456],\n",
       "       [0.82058987, 0.        , 0.        , 0.37938156, 0.        ,\n",
       "        0.67457252],\n",
       "       [0.04004708, 0.        , 0.        , 0.21964249, 0.46182722,\n",
       "        0.32414825],\n",
       "       [0.4786697 , 0.        , 0.        , 0.58838639, 0.48002597,\n",
       "        0.67457252]])"
      ]
     },
     "execution_count": 258,
     "metadata": {},
     "output_type": "execute_result"
    }
   ],
   "source": [
    "steps=[\n",
    "    ('imputer', ImputeColsTransformer(method='median')),\n",
    "    ('transform', PowerTransformer()),\n",
    "    ('scaler', MinMaxScaler()),\n",
    "]\n",
    "\n",
    "numeric_pipeline = Pipeline(steps=steps)\n",
    "\n",
    "transformer = ColumnTransformer(transformers=[\n",
    "    ('numeric_transformer', numeric_pipeline, numeric_columns)\n",
    "])\n",
    "\n",
    "pipeline = Pipeline(steps=[('preprocessor', transformer)])\n",
    "pipeline.fit(X_train, y_train)\n",
    "preds = pipeline.transform(X_test)\n",
    "preds[:5]"
   ]
  },
  {
   "cell_type": "markdown",
   "id": "ec09e7b8-d96a-4c10-9b19-aba715b5f969",
   "metadata": {},
   "source": [
    "### Creating the final Pipeline with LogicticRegression algorithm\n",
    "This pipeline will serve as a baseline. All other more advanced algorithms should perform better to be useful. "
   ]
  },
  {
   "cell_type": "code",
   "execution_count": 259,
   "id": "280f8f23-087c-46f2-8d5f-2fcfe5310c52",
   "metadata": {},
   "outputs": [
    {
     "data": {
      "text/html": [
       "<style>#sk-container-id-26 {color: black;}#sk-container-id-26 pre{padding: 0;}#sk-container-id-26 div.sk-toggleable {background-color: white;}#sk-container-id-26 label.sk-toggleable__label {cursor: pointer;display: block;width: 100%;margin-bottom: 0;padding: 0.3em;box-sizing: border-box;text-align: center;}#sk-container-id-26 label.sk-toggleable__label-arrow:before {content: \"▸\";float: left;margin-right: 0.25em;color: #696969;}#sk-container-id-26 label.sk-toggleable__label-arrow:hover:before {color: black;}#sk-container-id-26 div.sk-estimator:hover label.sk-toggleable__label-arrow:before {color: black;}#sk-container-id-26 div.sk-toggleable__content {max-height: 0;max-width: 0;overflow: hidden;text-align: left;background-color: #f0f8ff;}#sk-container-id-26 div.sk-toggleable__content pre {margin: 0.2em;color: black;border-radius: 0.25em;background-color: #f0f8ff;}#sk-container-id-26 input.sk-toggleable__control:checked~div.sk-toggleable__content {max-height: 200px;max-width: 100%;overflow: auto;}#sk-container-id-26 input.sk-toggleable__control:checked~label.sk-toggleable__label-arrow:before {content: \"▾\";}#sk-container-id-26 div.sk-estimator input.sk-toggleable__control:checked~label.sk-toggleable__label {background-color: #d4ebff;}#sk-container-id-26 div.sk-label input.sk-toggleable__control:checked~label.sk-toggleable__label {background-color: #d4ebff;}#sk-container-id-26 input.sk-hidden--visually {border: 0;clip: rect(1px 1px 1px 1px);clip: rect(1px, 1px, 1px, 1px);height: 1px;margin: -1px;overflow: hidden;padding: 0;position: absolute;width: 1px;}#sk-container-id-26 div.sk-estimator {font-family: monospace;background-color: #f0f8ff;border: 1px dotted black;border-radius: 0.25em;box-sizing: border-box;margin-bottom: 0.5em;}#sk-container-id-26 div.sk-estimator:hover {background-color: #d4ebff;}#sk-container-id-26 div.sk-parallel-item::after {content: \"\";width: 100%;border-bottom: 1px solid gray;flex-grow: 1;}#sk-container-id-26 div.sk-label:hover label.sk-toggleable__label {background-color: #d4ebff;}#sk-container-id-26 div.sk-serial::before {content: \"\";position: absolute;border-left: 1px solid gray;box-sizing: border-box;top: 0;bottom: 0;left: 50%;z-index: 0;}#sk-container-id-26 div.sk-serial {display: flex;flex-direction: column;align-items: center;background-color: white;padding-right: 0.2em;padding-left: 0.2em;position: relative;}#sk-container-id-26 div.sk-item {position: relative;z-index: 1;}#sk-container-id-26 div.sk-parallel {display: flex;align-items: stretch;justify-content: center;background-color: white;position: relative;}#sk-container-id-26 div.sk-item::before, #sk-container-id-26 div.sk-parallel-item::before {content: \"\";position: absolute;border-left: 1px solid gray;box-sizing: border-box;top: 0;bottom: 0;left: 50%;z-index: -1;}#sk-container-id-26 div.sk-parallel-item {display: flex;flex-direction: column;z-index: 1;position: relative;background-color: white;}#sk-container-id-26 div.sk-parallel-item:first-child::after {align-self: flex-end;width: 50%;}#sk-container-id-26 div.sk-parallel-item:last-child::after {align-self: flex-start;width: 50%;}#sk-container-id-26 div.sk-parallel-item:only-child::after {width: 0;}#sk-container-id-26 div.sk-dashed-wrapped {border: 1px dashed gray;margin: 0 0.4em 0.5em 0.4em;box-sizing: border-box;padding-bottom: 0.4em;background-color: white;}#sk-container-id-26 div.sk-label label {font-family: monospace;font-weight: bold;display: inline-block;line-height: 1.2em;}#sk-container-id-26 div.sk-label-container {text-align: center;}#sk-container-id-26 div.sk-container {/* jupyter's `normalize.less` sets `[hidden] { display: none; }` but bootstrap.min.css set `[hidden] { display: none !important; }` so we also need the `!important` here to be able to override the default hidden behavior on the sphinx rendered scikit-learn.org. See: https://github.com/scikit-learn/scikit-learn/issues/21755 */display: inline-block !important;position: relative;}#sk-container-id-26 div.sk-text-repr-fallback {display: none;}</style><div id=\"sk-container-id-26\" class=\"sk-top-container\"><div class=\"sk-text-repr-fallback\"><pre>Pipeline(steps=[(&#x27;preprocessor&#x27;,\n",
       "                 ColumnTransformer(transformers=[(&#x27;numeric_pipeline&#x27;,\n",
       "                                                  Pipeline(steps=[(&#x27;imputer&#x27;,\n",
       "                                                                   ImputeColsTransformer(method=&#x27;median&#x27;)),\n",
       "                                                                  (&#x27;transform&#x27;,\n",
       "                                                                   PowerTransformer()),\n",
       "                                                                  (&#x27;scaler&#x27;,\n",
       "                                                                   MinMaxScaler())]),\n",
       "                                                  Index([&#x27;age&#x27;, &#x27;hypertension&#x27;, &#x27;heart_disease&#x27;, &#x27;bmi&#x27;, &#x27;HbA1c_level&#x27;,\n",
       "       &#x27;blood_glucose_level&#x27;],\n",
       "      dtype=&#x27;object&#x27;)),\n",
       "                                                 (&#x27;smoking_pipeline&#x27;,\n",
       "                                                  Pipeline(steps=[(&#x27;imputer&#x27;,\n",
       "                                                                   ImputeColsTransformer(method=&#x27;mode&#x27;)),\n",
       "                                                                  (&#x27;smoking&#x27;,\n",
       "                                                                   SmokingHistoryTransformer()),\n",
       "                                                                  (&#x27;scaler&#x27;,\n",
       "                                                                   MinMaxScaler())]),\n",
       "                                                  [&#x27;smoking_history&#x27;]),\n",
       "                                                 (&#x27;gender_pipeline&#x27;,\n",
       "                                                  Pipeline(steps=[(&#x27;imputer&#x27;,\n",
       "                                                                   ImputeColsTransformer(method=&#x27;mode&#x27;)),\n",
       "                                                                  (&#x27;gender&#x27;,\n",
       "                                                                   GenderTransformer())]),\n",
       "                                                  [&#x27;gender&#x27;])])),\n",
       "                (&#x27;classifier&#x27;, LogisticRegression())])</pre><b>In a Jupyter environment, please rerun this cell to show the HTML representation or trust the notebook. <br />On GitHub, the HTML representation is unable to render, please try loading this page with nbviewer.org.</b></div><div class=\"sk-container\" hidden><div class=\"sk-item sk-dashed-wrapped\"><div class=\"sk-label-container\"><div class=\"sk-label sk-toggleable\"><input class=\"sk-toggleable__control sk-hidden--visually\" id=\"sk-estimator-id-343\" type=\"checkbox\" ><label for=\"sk-estimator-id-343\" class=\"sk-toggleable__label sk-toggleable__label-arrow\">Pipeline</label><div class=\"sk-toggleable__content\"><pre>Pipeline(steps=[(&#x27;preprocessor&#x27;,\n",
       "                 ColumnTransformer(transformers=[(&#x27;numeric_pipeline&#x27;,\n",
       "                                                  Pipeline(steps=[(&#x27;imputer&#x27;,\n",
       "                                                                   ImputeColsTransformer(method=&#x27;median&#x27;)),\n",
       "                                                                  (&#x27;transform&#x27;,\n",
       "                                                                   PowerTransformer()),\n",
       "                                                                  (&#x27;scaler&#x27;,\n",
       "                                                                   MinMaxScaler())]),\n",
       "                                                  Index([&#x27;age&#x27;, &#x27;hypertension&#x27;, &#x27;heart_disease&#x27;, &#x27;bmi&#x27;, &#x27;HbA1c_level&#x27;,\n",
       "       &#x27;blood_glucose_level&#x27;],\n",
       "      dtype=&#x27;object&#x27;)),\n",
       "                                                 (&#x27;smoking_pipeline&#x27;,\n",
       "                                                  Pipeline(steps=[(&#x27;imputer&#x27;,\n",
       "                                                                   ImputeColsTransformer(method=&#x27;mode&#x27;)),\n",
       "                                                                  (&#x27;smoking&#x27;,\n",
       "                                                                   SmokingHistoryTransformer()),\n",
       "                                                                  (&#x27;scaler&#x27;,\n",
       "                                                                   MinMaxScaler())]),\n",
       "                                                  [&#x27;smoking_history&#x27;]),\n",
       "                                                 (&#x27;gender_pipeline&#x27;,\n",
       "                                                  Pipeline(steps=[(&#x27;imputer&#x27;,\n",
       "                                                                   ImputeColsTransformer(method=&#x27;mode&#x27;)),\n",
       "                                                                  (&#x27;gender&#x27;,\n",
       "                                                                   GenderTransformer())]),\n",
       "                                                  [&#x27;gender&#x27;])])),\n",
       "                (&#x27;classifier&#x27;, LogisticRegression())])</pre></div></div></div><div class=\"sk-serial\"><div class=\"sk-item sk-dashed-wrapped\"><div class=\"sk-label-container\"><div class=\"sk-label sk-toggleable\"><input class=\"sk-toggleable__control sk-hidden--visually\" id=\"sk-estimator-id-344\" type=\"checkbox\" ><label for=\"sk-estimator-id-344\" class=\"sk-toggleable__label sk-toggleable__label-arrow\">preprocessor: ColumnTransformer</label><div class=\"sk-toggleable__content\"><pre>ColumnTransformer(transformers=[(&#x27;numeric_pipeline&#x27;,\n",
       "                                 Pipeline(steps=[(&#x27;imputer&#x27;,\n",
       "                                                  ImputeColsTransformer(method=&#x27;median&#x27;)),\n",
       "                                                 (&#x27;transform&#x27;,\n",
       "                                                  PowerTransformer()),\n",
       "                                                 (&#x27;scaler&#x27;, MinMaxScaler())]),\n",
       "                                 Index([&#x27;age&#x27;, &#x27;hypertension&#x27;, &#x27;heart_disease&#x27;, &#x27;bmi&#x27;, &#x27;HbA1c_level&#x27;,\n",
       "       &#x27;blood_glucose_level&#x27;],\n",
       "      dtype=&#x27;object&#x27;)),\n",
       "                                (&#x27;smoking_pipeline&#x27;,\n",
       "                                 Pipeline(steps=[(&#x27;imputer&#x27;,\n",
       "                                                  ImputeColsTransformer(method=&#x27;mode&#x27;)),\n",
       "                                                 (&#x27;smoking&#x27;,\n",
       "                                                  SmokingHistoryTransformer()),\n",
       "                                                 (&#x27;scaler&#x27;, MinMaxScaler())]),\n",
       "                                 [&#x27;smoking_history&#x27;]),\n",
       "                                (&#x27;gender_pipeline&#x27;,\n",
       "                                 Pipeline(steps=[(&#x27;imputer&#x27;,\n",
       "                                                  ImputeColsTransformer(method=&#x27;mode&#x27;)),\n",
       "                                                 (&#x27;gender&#x27;,\n",
       "                                                  GenderTransformer())]),\n",
       "                                 [&#x27;gender&#x27;])])</pre></div></div></div><div class=\"sk-parallel\"><div class=\"sk-parallel-item\"><div class=\"sk-item\"><div class=\"sk-label-container\"><div class=\"sk-label sk-toggleable\"><input class=\"sk-toggleable__control sk-hidden--visually\" id=\"sk-estimator-id-345\" type=\"checkbox\" ><label for=\"sk-estimator-id-345\" class=\"sk-toggleable__label sk-toggleable__label-arrow\">numeric_pipeline</label><div class=\"sk-toggleable__content\"><pre>Index([&#x27;age&#x27;, &#x27;hypertension&#x27;, &#x27;heart_disease&#x27;, &#x27;bmi&#x27;, &#x27;HbA1c_level&#x27;,\n",
       "       &#x27;blood_glucose_level&#x27;],\n",
       "      dtype=&#x27;object&#x27;)</pre></div></div></div><div class=\"sk-serial\"><div class=\"sk-item\"><div class=\"sk-serial\"><div class=\"sk-item\"><div class=\"sk-estimator sk-toggleable\"><input class=\"sk-toggleable__control sk-hidden--visually\" id=\"sk-estimator-id-346\" type=\"checkbox\" ><label for=\"sk-estimator-id-346\" class=\"sk-toggleable__label sk-toggleable__label-arrow\">ImputeColsTransformer</label><div class=\"sk-toggleable__content\"><pre>ImputeColsTransformer(method=&#x27;median&#x27;)</pre></div></div></div><div class=\"sk-item\"><div class=\"sk-estimator sk-toggleable\"><input class=\"sk-toggleable__control sk-hidden--visually\" id=\"sk-estimator-id-347\" type=\"checkbox\" ><label for=\"sk-estimator-id-347\" class=\"sk-toggleable__label sk-toggleable__label-arrow\">PowerTransformer</label><div class=\"sk-toggleable__content\"><pre>PowerTransformer()</pre></div></div></div><div class=\"sk-item\"><div class=\"sk-estimator sk-toggleable\"><input class=\"sk-toggleable__control sk-hidden--visually\" id=\"sk-estimator-id-348\" type=\"checkbox\" ><label for=\"sk-estimator-id-348\" class=\"sk-toggleable__label sk-toggleable__label-arrow\">MinMaxScaler</label><div class=\"sk-toggleable__content\"><pre>MinMaxScaler()</pre></div></div></div></div></div></div></div></div><div class=\"sk-parallel-item\"><div class=\"sk-item\"><div class=\"sk-label-container\"><div class=\"sk-label sk-toggleable\"><input class=\"sk-toggleable__control sk-hidden--visually\" id=\"sk-estimator-id-349\" type=\"checkbox\" ><label for=\"sk-estimator-id-349\" class=\"sk-toggleable__label sk-toggleable__label-arrow\">smoking_pipeline</label><div class=\"sk-toggleable__content\"><pre>[&#x27;smoking_history&#x27;]</pre></div></div></div><div class=\"sk-serial\"><div class=\"sk-item\"><div class=\"sk-serial\"><div class=\"sk-item\"><div class=\"sk-estimator sk-toggleable\"><input class=\"sk-toggleable__control sk-hidden--visually\" id=\"sk-estimator-id-350\" type=\"checkbox\" ><label for=\"sk-estimator-id-350\" class=\"sk-toggleable__label sk-toggleable__label-arrow\">ImputeColsTransformer</label><div class=\"sk-toggleable__content\"><pre>ImputeColsTransformer(method=&#x27;mode&#x27;)</pre></div></div></div><div class=\"sk-item\"><div class=\"sk-estimator sk-toggleable\"><input class=\"sk-toggleable__control sk-hidden--visually\" id=\"sk-estimator-id-351\" type=\"checkbox\" ><label for=\"sk-estimator-id-351\" class=\"sk-toggleable__label sk-toggleable__label-arrow\">SmokingHistoryTransformer</label><div class=\"sk-toggleable__content\"><pre>SmokingHistoryTransformer()</pre></div></div></div><div class=\"sk-item\"><div class=\"sk-estimator sk-toggleable\"><input class=\"sk-toggleable__control sk-hidden--visually\" id=\"sk-estimator-id-352\" type=\"checkbox\" ><label for=\"sk-estimator-id-352\" class=\"sk-toggleable__label sk-toggleable__label-arrow\">MinMaxScaler</label><div class=\"sk-toggleable__content\"><pre>MinMaxScaler()</pre></div></div></div></div></div></div></div></div><div class=\"sk-parallel-item\"><div class=\"sk-item\"><div class=\"sk-label-container\"><div class=\"sk-label sk-toggleable\"><input class=\"sk-toggleable__control sk-hidden--visually\" id=\"sk-estimator-id-353\" type=\"checkbox\" ><label for=\"sk-estimator-id-353\" class=\"sk-toggleable__label sk-toggleable__label-arrow\">gender_pipeline</label><div class=\"sk-toggleable__content\"><pre>[&#x27;gender&#x27;]</pre></div></div></div><div class=\"sk-serial\"><div class=\"sk-item\"><div class=\"sk-serial\"><div class=\"sk-item\"><div class=\"sk-estimator sk-toggleable\"><input class=\"sk-toggleable__control sk-hidden--visually\" id=\"sk-estimator-id-354\" type=\"checkbox\" ><label for=\"sk-estimator-id-354\" class=\"sk-toggleable__label sk-toggleable__label-arrow\">ImputeColsTransformer</label><div class=\"sk-toggleable__content\"><pre>ImputeColsTransformer(method=&#x27;mode&#x27;)</pre></div></div></div><div class=\"sk-item\"><div class=\"sk-estimator sk-toggleable\"><input class=\"sk-toggleable__control sk-hidden--visually\" id=\"sk-estimator-id-355\" type=\"checkbox\" ><label for=\"sk-estimator-id-355\" class=\"sk-toggleable__label sk-toggleable__label-arrow\">GenderTransformer</label><div class=\"sk-toggleable__content\"><pre>GenderTransformer()</pre></div></div></div></div></div></div></div></div></div></div><div class=\"sk-item\"><div class=\"sk-estimator sk-toggleable\"><input class=\"sk-toggleable__control sk-hidden--visually\" id=\"sk-estimator-id-356\" type=\"checkbox\" ><label for=\"sk-estimator-id-356\" class=\"sk-toggleable__label sk-toggleable__label-arrow\">LogisticRegression</label><div class=\"sk-toggleable__content\"><pre>LogisticRegression()</pre></div></div></div></div></div></div></div>"
      ],
      "text/plain": [
       "Pipeline(steps=[('preprocessor',\n",
       "                 ColumnTransformer(transformers=[('numeric_pipeline',\n",
       "                                                  Pipeline(steps=[('imputer',\n",
       "                                                                   ImputeColsTransformer(method='median')),\n",
       "                                                                  ('transform',\n",
       "                                                                   PowerTransformer()),\n",
       "                                                                  ('scaler',\n",
       "                                                                   MinMaxScaler())]),\n",
       "                                                  Index(['age', 'hypertension', 'heart_disease', 'bmi', 'HbA1c_level',\n",
       "       'blood_glucose_level'],\n",
       "      dtype='object')),\n",
       "                                                 ('smoking_pipeline',\n",
       "                                                  Pipeline(steps=[('imputer',\n",
       "                                                                   ImputeColsTransformer(method='mode')),\n",
       "                                                                  ('smoking',\n",
       "                                                                   SmokingHistoryTransformer()),\n",
       "                                                                  ('scaler',\n",
       "                                                                   MinMaxScaler())]),\n",
       "                                                  ['smoking_history']),\n",
       "                                                 ('gender_pipeline',\n",
       "                                                  Pipeline(steps=[('imputer',\n",
       "                                                                   ImputeColsTransformer(method='mode')),\n",
       "                                                                  ('gender',\n",
       "                                                                   GenderTransformer())]),\n",
       "                                                  ['gender'])])),\n",
       "                ('classifier', LogisticRegression())])"
      ]
     },
     "execution_count": 259,
     "metadata": {},
     "output_type": "execute_result"
    }
   ],
   "source": [
    "transformer = ColumnTransformer(transformers=[\n",
    "    ('numeric_pipeline', numeric_pipeline, numeric_columns), \n",
    "    ('smoking_pipeline', smoking_pipeline, smoking_col),\n",
    "    ('gender_pipeline', gender_pipeline, gender_col)\n",
    "])\n",
    "\n",
    "# final pipeline with model\n",
    "logistic_regression_pipe = Pipeline(steps=[('preprocessor', transformer),\n",
    "                      ('classifier', LogisticRegression())])\n",
    "\n",
    "logistic_regression_pipe.fit(X_train, y_train)"
   ]
  },
  {
   "cell_type": "code",
   "execution_count": 260,
   "id": "964eaf0f-4f46-495b-ae24-0fae10108592",
   "metadata": {},
   "outputs": [
    {
     "name": "stdout",
     "output_type": "stream",
     "text": [
      "Accuracy: 0.959\n",
      "Precision: 0.608\n",
      "Recall: 0.869\n",
      "F1: 0.715\n"
     ]
    }
   ],
   "source": [
    "preds = logistic_regression_pipe.predict(X_test)\n",
    "\n",
    "metrics = [accuracy_score, precision_score, recall_score, f1_score]\n",
    "metrics_name = ['Accuracy', 'Precision', 'Recall', 'F1']\n",
    "\n",
    "for metric, name in zip(metrics, metrics_name):\n",
    "    print(f'{name}: {round(metric(preds, y_test),3)}')"
   ]
  },
  {
   "cell_type": "markdown",
   "id": "ea99c5c8-7bad-4132-91a6-49a8e1e44241",
   "metadata": {},
   "source": [
    "### Pipeline with RandomForest algorithm"
   ]
  },
  {
   "cell_type": "code",
   "execution_count": 261,
   "id": "33cd77fc-1486-492c-ba29-c083bd9b8c3a",
   "metadata": {},
   "outputs": [
    {
     "data": {
      "text/html": [
       "<style>#sk-container-id-27 {color: black;}#sk-container-id-27 pre{padding: 0;}#sk-container-id-27 div.sk-toggleable {background-color: white;}#sk-container-id-27 label.sk-toggleable__label {cursor: pointer;display: block;width: 100%;margin-bottom: 0;padding: 0.3em;box-sizing: border-box;text-align: center;}#sk-container-id-27 label.sk-toggleable__label-arrow:before {content: \"▸\";float: left;margin-right: 0.25em;color: #696969;}#sk-container-id-27 label.sk-toggleable__label-arrow:hover:before {color: black;}#sk-container-id-27 div.sk-estimator:hover label.sk-toggleable__label-arrow:before {color: black;}#sk-container-id-27 div.sk-toggleable__content {max-height: 0;max-width: 0;overflow: hidden;text-align: left;background-color: #f0f8ff;}#sk-container-id-27 div.sk-toggleable__content pre {margin: 0.2em;color: black;border-radius: 0.25em;background-color: #f0f8ff;}#sk-container-id-27 input.sk-toggleable__control:checked~div.sk-toggleable__content {max-height: 200px;max-width: 100%;overflow: auto;}#sk-container-id-27 input.sk-toggleable__control:checked~label.sk-toggleable__label-arrow:before {content: \"▾\";}#sk-container-id-27 div.sk-estimator input.sk-toggleable__control:checked~label.sk-toggleable__label {background-color: #d4ebff;}#sk-container-id-27 div.sk-label input.sk-toggleable__control:checked~label.sk-toggleable__label {background-color: #d4ebff;}#sk-container-id-27 input.sk-hidden--visually {border: 0;clip: rect(1px 1px 1px 1px);clip: rect(1px, 1px, 1px, 1px);height: 1px;margin: -1px;overflow: hidden;padding: 0;position: absolute;width: 1px;}#sk-container-id-27 div.sk-estimator {font-family: monospace;background-color: #f0f8ff;border: 1px dotted black;border-radius: 0.25em;box-sizing: border-box;margin-bottom: 0.5em;}#sk-container-id-27 div.sk-estimator:hover {background-color: #d4ebff;}#sk-container-id-27 div.sk-parallel-item::after {content: \"\";width: 100%;border-bottom: 1px solid gray;flex-grow: 1;}#sk-container-id-27 div.sk-label:hover label.sk-toggleable__label {background-color: #d4ebff;}#sk-container-id-27 div.sk-serial::before {content: \"\";position: absolute;border-left: 1px solid gray;box-sizing: border-box;top: 0;bottom: 0;left: 50%;z-index: 0;}#sk-container-id-27 div.sk-serial {display: flex;flex-direction: column;align-items: center;background-color: white;padding-right: 0.2em;padding-left: 0.2em;position: relative;}#sk-container-id-27 div.sk-item {position: relative;z-index: 1;}#sk-container-id-27 div.sk-parallel {display: flex;align-items: stretch;justify-content: center;background-color: white;position: relative;}#sk-container-id-27 div.sk-item::before, #sk-container-id-27 div.sk-parallel-item::before {content: \"\";position: absolute;border-left: 1px solid gray;box-sizing: border-box;top: 0;bottom: 0;left: 50%;z-index: -1;}#sk-container-id-27 div.sk-parallel-item {display: flex;flex-direction: column;z-index: 1;position: relative;background-color: white;}#sk-container-id-27 div.sk-parallel-item:first-child::after {align-self: flex-end;width: 50%;}#sk-container-id-27 div.sk-parallel-item:last-child::after {align-self: flex-start;width: 50%;}#sk-container-id-27 div.sk-parallel-item:only-child::after {width: 0;}#sk-container-id-27 div.sk-dashed-wrapped {border: 1px dashed gray;margin: 0 0.4em 0.5em 0.4em;box-sizing: border-box;padding-bottom: 0.4em;background-color: white;}#sk-container-id-27 div.sk-label label {font-family: monospace;font-weight: bold;display: inline-block;line-height: 1.2em;}#sk-container-id-27 div.sk-label-container {text-align: center;}#sk-container-id-27 div.sk-container {/* jupyter's `normalize.less` sets `[hidden] { display: none; }` but bootstrap.min.css set `[hidden] { display: none !important; }` so we also need the `!important` here to be able to override the default hidden behavior on the sphinx rendered scikit-learn.org. See: https://github.com/scikit-learn/scikit-learn/issues/21755 */display: inline-block !important;position: relative;}#sk-container-id-27 div.sk-text-repr-fallback {display: none;}</style><div id=\"sk-container-id-27\" class=\"sk-top-container\"><div class=\"sk-text-repr-fallback\"><pre>Pipeline(steps=[(&#x27;preprocessor&#x27;,\n",
       "                 ColumnTransformer(transformers=[(&#x27;numeric_pipeline&#x27;,\n",
       "                                                  Pipeline(steps=[(&#x27;imputer&#x27;,\n",
       "                                                                   ImputeColsTransformer(method=&#x27;median&#x27;)),\n",
       "                                                                  (&#x27;transform&#x27;,\n",
       "                                                                   PowerTransformer()),\n",
       "                                                                  (&#x27;scaler&#x27;,\n",
       "                                                                   MinMaxScaler())]),\n",
       "                                                  Index([&#x27;age&#x27;, &#x27;hypertension&#x27;, &#x27;heart_disease&#x27;, &#x27;bmi&#x27;, &#x27;HbA1c_level&#x27;,\n",
       "       &#x27;blood_glucose_level&#x27;],\n",
       "      dtype=&#x27;object&#x27;)),\n",
       "                                                 (&#x27;smoking_pipeline&#x27;,\n",
       "                                                  Pipeline(steps=[(&#x27;imputer&#x27;,\n",
       "                                                                   ImputeColsTransformer(method=&#x27;mode&#x27;)),\n",
       "                                                                  (&#x27;smoking&#x27;,\n",
       "                                                                   SmokingHistoryTransformer()),\n",
       "                                                                  (&#x27;scaler&#x27;,\n",
       "                                                                   MinMaxScaler())]),\n",
       "                                                  [&#x27;smoking_history&#x27;]),\n",
       "                                                 (&#x27;gender_pipeline&#x27;,\n",
       "                                                  Pipeline(steps=[(&#x27;imputer&#x27;,\n",
       "                                                                   ImputeColsTransformer(method=&#x27;mode&#x27;)),\n",
       "                                                                  (&#x27;gender&#x27;,\n",
       "                                                                   GenderTransformer())]),\n",
       "                                                  [&#x27;gender&#x27;])])),\n",
       "                (&#x27;model&#x27;, RandomForestClassifier(random_state=42))])</pre><b>In a Jupyter environment, please rerun this cell to show the HTML representation or trust the notebook. <br />On GitHub, the HTML representation is unable to render, please try loading this page with nbviewer.org.</b></div><div class=\"sk-container\" hidden><div class=\"sk-item sk-dashed-wrapped\"><div class=\"sk-label-container\"><div class=\"sk-label sk-toggleable\"><input class=\"sk-toggleable__control sk-hidden--visually\" id=\"sk-estimator-id-357\" type=\"checkbox\" ><label for=\"sk-estimator-id-357\" class=\"sk-toggleable__label sk-toggleable__label-arrow\">Pipeline</label><div class=\"sk-toggleable__content\"><pre>Pipeline(steps=[(&#x27;preprocessor&#x27;,\n",
       "                 ColumnTransformer(transformers=[(&#x27;numeric_pipeline&#x27;,\n",
       "                                                  Pipeline(steps=[(&#x27;imputer&#x27;,\n",
       "                                                                   ImputeColsTransformer(method=&#x27;median&#x27;)),\n",
       "                                                                  (&#x27;transform&#x27;,\n",
       "                                                                   PowerTransformer()),\n",
       "                                                                  (&#x27;scaler&#x27;,\n",
       "                                                                   MinMaxScaler())]),\n",
       "                                                  Index([&#x27;age&#x27;, &#x27;hypertension&#x27;, &#x27;heart_disease&#x27;, &#x27;bmi&#x27;, &#x27;HbA1c_level&#x27;,\n",
       "       &#x27;blood_glucose_level&#x27;],\n",
       "      dtype=&#x27;object&#x27;)),\n",
       "                                                 (&#x27;smoking_pipeline&#x27;,\n",
       "                                                  Pipeline(steps=[(&#x27;imputer&#x27;,\n",
       "                                                                   ImputeColsTransformer(method=&#x27;mode&#x27;)),\n",
       "                                                                  (&#x27;smoking&#x27;,\n",
       "                                                                   SmokingHistoryTransformer()),\n",
       "                                                                  (&#x27;scaler&#x27;,\n",
       "                                                                   MinMaxScaler())]),\n",
       "                                                  [&#x27;smoking_history&#x27;]),\n",
       "                                                 (&#x27;gender_pipeline&#x27;,\n",
       "                                                  Pipeline(steps=[(&#x27;imputer&#x27;,\n",
       "                                                                   ImputeColsTransformer(method=&#x27;mode&#x27;)),\n",
       "                                                                  (&#x27;gender&#x27;,\n",
       "                                                                   GenderTransformer())]),\n",
       "                                                  [&#x27;gender&#x27;])])),\n",
       "                (&#x27;model&#x27;, RandomForestClassifier(random_state=42))])</pre></div></div></div><div class=\"sk-serial\"><div class=\"sk-item sk-dashed-wrapped\"><div class=\"sk-label-container\"><div class=\"sk-label sk-toggleable\"><input class=\"sk-toggleable__control sk-hidden--visually\" id=\"sk-estimator-id-358\" type=\"checkbox\" ><label for=\"sk-estimator-id-358\" class=\"sk-toggleable__label sk-toggleable__label-arrow\">preprocessor: ColumnTransformer</label><div class=\"sk-toggleable__content\"><pre>ColumnTransformer(transformers=[(&#x27;numeric_pipeline&#x27;,\n",
       "                                 Pipeline(steps=[(&#x27;imputer&#x27;,\n",
       "                                                  ImputeColsTransformer(method=&#x27;median&#x27;)),\n",
       "                                                 (&#x27;transform&#x27;,\n",
       "                                                  PowerTransformer()),\n",
       "                                                 (&#x27;scaler&#x27;, MinMaxScaler())]),\n",
       "                                 Index([&#x27;age&#x27;, &#x27;hypertension&#x27;, &#x27;heart_disease&#x27;, &#x27;bmi&#x27;, &#x27;HbA1c_level&#x27;,\n",
       "       &#x27;blood_glucose_level&#x27;],\n",
       "      dtype=&#x27;object&#x27;)),\n",
       "                                (&#x27;smoking_pipeline&#x27;,\n",
       "                                 Pipeline(steps=[(&#x27;imputer&#x27;,\n",
       "                                                  ImputeColsTransformer(method=&#x27;mode&#x27;)),\n",
       "                                                 (&#x27;smoking&#x27;,\n",
       "                                                  SmokingHistoryTransformer()),\n",
       "                                                 (&#x27;scaler&#x27;, MinMaxScaler())]),\n",
       "                                 [&#x27;smoking_history&#x27;]),\n",
       "                                (&#x27;gender_pipeline&#x27;,\n",
       "                                 Pipeline(steps=[(&#x27;imputer&#x27;,\n",
       "                                                  ImputeColsTransformer(method=&#x27;mode&#x27;)),\n",
       "                                                 (&#x27;gender&#x27;,\n",
       "                                                  GenderTransformer())]),\n",
       "                                 [&#x27;gender&#x27;])])</pre></div></div></div><div class=\"sk-parallel\"><div class=\"sk-parallel-item\"><div class=\"sk-item\"><div class=\"sk-label-container\"><div class=\"sk-label sk-toggleable\"><input class=\"sk-toggleable__control sk-hidden--visually\" id=\"sk-estimator-id-359\" type=\"checkbox\" ><label for=\"sk-estimator-id-359\" class=\"sk-toggleable__label sk-toggleable__label-arrow\">numeric_pipeline</label><div class=\"sk-toggleable__content\"><pre>Index([&#x27;age&#x27;, &#x27;hypertension&#x27;, &#x27;heart_disease&#x27;, &#x27;bmi&#x27;, &#x27;HbA1c_level&#x27;,\n",
       "       &#x27;blood_glucose_level&#x27;],\n",
       "      dtype=&#x27;object&#x27;)</pre></div></div></div><div class=\"sk-serial\"><div class=\"sk-item\"><div class=\"sk-serial\"><div class=\"sk-item\"><div class=\"sk-estimator sk-toggleable\"><input class=\"sk-toggleable__control sk-hidden--visually\" id=\"sk-estimator-id-360\" type=\"checkbox\" ><label for=\"sk-estimator-id-360\" class=\"sk-toggleable__label sk-toggleable__label-arrow\">ImputeColsTransformer</label><div class=\"sk-toggleable__content\"><pre>ImputeColsTransformer(method=&#x27;median&#x27;)</pre></div></div></div><div class=\"sk-item\"><div class=\"sk-estimator sk-toggleable\"><input class=\"sk-toggleable__control sk-hidden--visually\" id=\"sk-estimator-id-361\" type=\"checkbox\" ><label for=\"sk-estimator-id-361\" class=\"sk-toggleable__label sk-toggleable__label-arrow\">PowerTransformer</label><div class=\"sk-toggleable__content\"><pre>PowerTransformer()</pre></div></div></div><div class=\"sk-item\"><div class=\"sk-estimator sk-toggleable\"><input class=\"sk-toggleable__control sk-hidden--visually\" id=\"sk-estimator-id-362\" type=\"checkbox\" ><label for=\"sk-estimator-id-362\" class=\"sk-toggleable__label sk-toggleable__label-arrow\">MinMaxScaler</label><div class=\"sk-toggleable__content\"><pre>MinMaxScaler()</pre></div></div></div></div></div></div></div></div><div class=\"sk-parallel-item\"><div class=\"sk-item\"><div class=\"sk-label-container\"><div class=\"sk-label sk-toggleable\"><input class=\"sk-toggleable__control sk-hidden--visually\" id=\"sk-estimator-id-363\" type=\"checkbox\" ><label for=\"sk-estimator-id-363\" class=\"sk-toggleable__label sk-toggleable__label-arrow\">smoking_pipeline</label><div class=\"sk-toggleable__content\"><pre>[&#x27;smoking_history&#x27;]</pre></div></div></div><div class=\"sk-serial\"><div class=\"sk-item\"><div class=\"sk-serial\"><div class=\"sk-item\"><div class=\"sk-estimator sk-toggleable\"><input class=\"sk-toggleable__control sk-hidden--visually\" id=\"sk-estimator-id-364\" type=\"checkbox\" ><label for=\"sk-estimator-id-364\" class=\"sk-toggleable__label sk-toggleable__label-arrow\">ImputeColsTransformer</label><div class=\"sk-toggleable__content\"><pre>ImputeColsTransformer(method=&#x27;mode&#x27;)</pre></div></div></div><div class=\"sk-item\"><div class=\"sk-estimator sk-toggleable\"><input class=\"sk-toggleable__control sk-hidden--visually\" id=\"sk-estimator-id-365\" type=\"checkbox\" ><label for=\"sk-estimator-id-365\" class=\"sk-toggleable__label sk-toggleable__label-arrow\">SmokingHistoryTransformer</label><div class=\"sk-toggleable__content\"><pre>SmokingHistoryTransformer()</pre></div></div></div><div class=\"sk-item\"><div class=\"sk-estimator sk-toggleable\"><input class=\"sk-toggleable__control sk-hidden--visually\" id=\"sk-estimator-id-366\" type=\"checkbox\" ><label for=\"sk-estimator-id-366\" class=\"sk-toggleable__label sk-toggleable__label-arrow\">MinMaxScaler</label><div class=\"sk-toggleable__content\"><pre>MinMaxScaler()</pre></div></div></div></div></div></div></div></div><div class=\"sk-parallel-item\"><div class=\"sk-item\"><div class=\"sk-label-container\"><div class=\"sk-label sk-toggleable\"><input class=\"sk-toggleable__control sk-hidden--visually\" id=\"sk-estimator-id-367\" type=\"checkbox\" ><label for=\"sk-estimator-id-367\" class=\"sk-toggleable__label sk-toggleable__label-arrow\">gender_pipeline</label><div class=\"sk-toggleable__content\"><pre>[&#x27;gender&#x27;]</pre></div></div></div><div class=\"sk-serial\"><div class=\"sk-item\"><div class=\"sk-serial\"><div class=\"sk-item\"><div class=\"sk-estimator sk-toggleable\"><input class=\"sk-toggleable__control sk-hidden--visually\" id=\"sk-estimator-id-368\" type=\"checkbox\" ><label for=\"sk-estimator-id-368\" class=\"sk-toggleable__label sk-toggleable__label-arrow\">ImputeColsTransformer</label><div class=\"sk-toggleable__content\"><pre>ImputeColsTransformer(method=&#x27;mode&#x27;)</pre></div></div></div><div class=\"sk-item\"><div class=\"sk-estimator sk-toggleable\"><input class=\"sk-toggleable__control sk-hidden--visually\" id=\"sk-estimator-id-369\" type=\"checkbox\" ><label for=\"sk-estimator-id-369\" class=\"sk-toggleable__label sk-toggleable__label-arrow\">GenderTransformer</label><div class=\"sk-toggleable__content\"><pre>GenderTransformer()</pre></div></div></div></div></div></div></div></div></div></div><div class=\"sk-item\"><div class=\"sk-estimator sk-toggleable\"><input class=\"sk-toggleable__control sk-hidden--visually\" id=\"sk-estimator-id-370\" type=\"checkbox\" ><label for=\"sk-estimator-id-370\" class=\"sk-toggleable__label sk-toggleable__label-arrow\">RandomForestClassifier</label><div class=\"sk-toggleable__content\"><pre>RandomForestClassifier(random_state=42)</pre></div></div></div></div></div></div></div>"
      ],
      "text/plain": [
       "Pipeline(steps=[('preprocessor',\n",
       "                 ColumnTransformer(transformers=[('numeric_pipeline',\n",
       "                                                  Pipeline(steps=[('imputer',\n",
       "                                                                   ImputeColsTransformer(method='median')),\n",
       "                                                                  ('transform',\n",
       "                                                                   PowerTransformer()),\n",
       "                                                                  ('scaler',\n",
       "                                                                   MinMaxScaler())]),\n",
       "                                                  Index(['age', 'hypertension', 'heart_disease', 'bmi', 'HbA1c_level',\n",
       "       'blood_glucose_level'],\n",
       "      dtype='object')),\n",
       "                                                 ('smoking_pipeline',\n",
       "                                                  Pipeline(steps=[('imputer',\n",
       "                                                                   ImputeColsTransformer(method='mode')),\n",
       "                                                                  ('smoking',\n",
       "                                                                   SmokingHistoryTransformer()),\n",
       "                                                                  ('scaler',\n",
       "                                                                   MinMaxScaler())]),\n",
       "                                                  ['smoking_history']),\n",
       "                                                 ('gender_pipeline',\n",
       "                                                  Pipeline(steps=[('imputer',\n",
       "                                                                   ImputeColsTransformer(method='mode')),\n",
       "                                                                  ('gender',\n",
       "                                                                   GenderTransformer())]),\n",
       "                                                  ['gender'])])),\n",
       "                ('model', RandomForestClassifier(random_state=42))])"
      ]
     },
     "execution_count": 261,
     "metadata": {},
     "output_type": "execute_result"
    }
   ],
   "source": [
    "forest_pipe = Pipeline(steps=[('preprocessor', transformer),\n",
    "                            ('model', RandomForestClassifier(random_state=42))])\n",
    "forest_pipe.fit(X_train, y_train)"
   ]
  },
  {
   "cell_type": "code",
   "execution_count": 262,
   "id": "a972fe56-0247-465c-b5aa-a4e739a0d3e1",
   "metadata": {},
   "outputs": [
    {
     "name": "stdout",
     "output_type": "stream",
     "text": [
      "Accuracy: 0.97\n",
      "Precision: 0.689\n",
      "Recall: 0.947\n",
      "F1: 0.798\n"
     ]
    }
   ],
   "source": [
    "preds = forest_pipe.predict(X_test)\n",
    "\n",
    "metrics = [accuracy_score, precision_score, recall_score, f1_score]\n",
    "metrics_name = ['Accuracy', 'Precision', 'Recall', 'F1']\n",
    "\n",
    "for metric, name in zip(metrics, metrics_name):\n",
    "    print(f'{name}: {round(metric(preds, y_test),3)}')"
   ]
  },
  {
   "cell_type": "markdown",
   "id": "acb66084-ce93-48a9-b43f-8bcfa8eae68d",
   "metadata": {},
   "source": [
    "### Pipeline with XGBoost algorithm"
   ]
  },
  {
   "cell_type": "code",
   "execution_count": 263,
   "id": "30f7eef7-7714-4c28-a1dc-aa48adff14e1",
   "metadata": {},
   "outputs": [
    {
     "data": {
      "text/html": [
       "<style>#sk-container-id-28 {color: black;}#sk-container-id-28 pre{padding: 0;}#sk-container-id-28 div.sk-toggleable {background-color: white;}#sk-container-id-28 label.sk-toggleable__label {cursor: pointer;display: block;width: 100%;margin-bottom: 0;padding: 0.3em;box-sizing: border-box;text-align: center;}#sk-container-id-28 label.sk-toggleable__label-arrow:before {content: \"▸\";float: left;margin-right: 0.25em;color: #696969;}#sk-container-id-28 label.sk-toggleable__label-arrow:hover:before {color: black;}#sk-container-id-28 div.sk-estimator:hover label.sk-toggleable__label-arrow:before {color: black;}#sk-container-id-28 div.sk-toggleable__content {max-height: 0;max-width: 0;overflow: hidden;text-align: left;background-color: #f0f8ff;}#sk-container-id-28 div.sk-toggleable__content pre {margin: 0.2em;color: black;border-radius: 0.25em;background-color: #f0f8ff;}#sk-container-id-28 input.sk-toggleable__control:checked~div.sk-toggleable__content {max-height: 200px;max-width: 100%;overflow: auto;}#sk-container-id-28 input.sk-toggleable__control:checked~label.sk-toggleable__label-arrow:before {content: \"▾\";}#sk-container-id-28 div.sk-estimator input.sk-toggleable__control:checked~label.sk-toggleable__label {background-color: #d4ebff;}#sk-container-id-28 div.sk-label input.sk-toggleable__control:checked~label.sk-toggleable__label {background-color: #d4ebff;}#sk-container-id-28 input.sk-hidden--visually {border: 0;clip: rect(1px 1px 1px 1px);clip: rect(1px, 1px, 1px, 1px);height: 1px;margin: -1px;overflow: hidden;padding: 0;position: absolute;width: 1px;}#sk-container-id-28 div.sk-estimator {font-family: monospace;background-color: #f0f8ff;border: 1px dotted black;border-radius: 0.25em;box-sizing: border-box;margin-bottom: 0.5em;}#sk-container-id-28 div.sk-estimator:hover {background-color: #d4ebff;}#sk-container-id-28 div.sk-parallel-item::after {content: \"\";width: 100%;border-bottom: 1px solid gray;flex-grow: 1;}#sk-container-id-28 div.sk-label:hover label.sk-toggleable__label {background-color: #d4ebff;}#sk-container-id-28 div.sk-serial::before {content: \"\";position: absolute;border-left: 1px solid gray;box-sizing: border-box;top: 0;bottom: 0;left: 50%;z-index: 0;}#sk-container-id-28 div.sk-serial {display: flex;flex-direction: column;align-items: center;background-color: white;padding-right: 0.2em;padding-left: 0.2em;position: relative;}#sk-container-id-28 div.sk-item {position: relative;z-index: 1;}#sk-container-id-28 div.sk-parallel {display: flex;align-items: stretch;justify-content: center;background-color: white;position: relative;}#sk-container-id-28 div.sk-item::before, #sk-container-id-28 div.sk-parallel-item::before {content: \"\";position: absolute;border-left: 1px solid gray;box-sizing: border-box;top: 0;bottom: 0;left: 50%;z-index: -1;}#sk-container-id-28 div.sk-parallel-item {display: flex;flex-direction: column;z-index: 1;position: relative;background-color: white;}#sk-container-id-28 div.sk-parallel-item:first-child::after {align-self: flex-end;width: 50%;}#sk-container-id-28 div.sk-parallel-item:last-child::after {align-self: flex-start;width: 50%;}#sk-container-id-28 div.sk-parallel-item:only-child::after {width: 0;}#sk-container-id-28 div.sk-dashed-wrapped {border: 1px dashed gray;margin: 0 0.4em 0.5em 0.4em;box-sizing: border-box;padding-bottom: 0.4em;background-color: white;}#sk-container-id-28 div.sk-label label {font-family: monospace;font-weight: bold;display: inline-block;line-height: 1.2em;}#sk-container-id-28 div.sk-label-container {text-align: center;}#sk-container-id-28 div.sk-container {/* jupyter's `normalize.less` sets `[hidden] { display: none; }` but bootstrap.min.css set `[hidden] { display: none !important; }` so we also need the `!important` here to be able to override the default hidden behavior on the sphinx rendered scikit-learn.org. See: https://github.com/scikit-learn/scikit-learn/issues/21755 */display: inline-block !important;position: relative;}#sk-container-id-28 div.sk-text-repr-fallback {display: none;}</style><div id=\"sk-container-id-28\" class=\"sk-top-container\"><div class=\"sk-text-repr-fallback\"><pre>Pipeline(steps=[(&#x27;preprocessor&#x27;,\n",
       "                 ColumnTransformer(transformers=[(&#x27;numeric_pipeline&#x27;,\n",
       "                                                  Pipeline(steps=[(&#x27;imputer&#x27;,\n",
       "                                                                   ImputeColsTransformer(method=&#x27;median&#x27;)),\n",
       "                                                                  (&#x27;transform&#x27;,\n",
       "                                                                   PowerTransformer()),\n",
       "                                                                  (&#x27;scaler&#x27;,\n",
       "                                                                   MinMaxScaler())]),\n",
       "                                                  Index([&#x27;age&#x27;, &#x27;hypertension&#x27;, &#x27;heart_disease&#x27;, &#x27;bmi&#x27;, &#x27;HbA1c_level&#x27;,\n",
       "       &#x27;blood_glucose_level&#x27;],\n",
       "      dtype=&#x27;object&#x27;)),\n",
       "                                                 (&#x27;smoking_pipeline&#x27;,\n",
       "                                                  Pipeline(steps...\n",
       "                               feature_types=None, gamma=None, grow_policy=None,\n",
       "                               importance_type=None,\n",
       "                               interaction_constraints=None, learning_rate=None,\n",
       "                               max_bin=None, max_cat_threshold=None,\n",
       "                               max_cat_to_onehot=None, max_delta_step=None,\n",
       "                               max_depth=None, max_leaves=None,\n",
       "                               min_child_weight=None, missing=nan,\n",
       "                               monotone_constraints=None, multi_strategy=None,\n",
       "                               n_estimators=None, n_jobs=None,\n",
       "                               num_parallel_tree=None, random_state=None, ...))])</pre><b>In a Jupyter environment, please rerun this cell to show the HTML representation or trust the notebook. <br />On GitHub, the HTML representation is unable to render, please try loading this page with nbviewer.org.</b></div><div class=\"sk-container\" hidden><div class=\"sk-item sk-dashed-wrapped\"><div class=\"sk-label-container\"><div class=\"sk-label sk-toggleable\"><input class=\"sk-toggleable__control sk-hidden--visually\" id=\"sk-estimator-id-371\" type=\"checkbox\" ><label for=\"sk-estimator-id-371\" class=\"sk-toggleable__label sk-toggleable__label-arrow\">Pipeline</label><div class=\"sk-toggleable__content\"><pre>Pipeline(steps=[(&#x27;preprocessor&#x27;,\n",
       "                 ColumnTransformer(transformers=[(&#x27;numeric_pipeline&#x27;,\n",
       "                                                  Pipeline(steps=[(&#x27;imputer&#x27;,\n",
       "                                                                   ImputeColsTransformer(method=&#x27;median&#x27;)),\n",
       "                                                                  (&#x27;transform&#x27;,\n",
       "                                                                   PowerTransformer()),\n",
       "                                                                  (&#x27;scaler&#x27;,\n",
       "                                                                   MinMaxScaler())]),\n",
       "                                                  Index([&#x27;age&#x27;, &#x27;hypertension&#x27;, &#x27;heart_disease&#x27;, &#x27;bmi&#x27;, &#x27;HbA1c_level&#x27;,\n",
       "       &#x27;blood_glucose_level&#x27;],\n",
       "      dtype=&#x27;object&#x27;)),\n",
       "                                                 (&#x27;smoking_pipeline&#x27;,\n",
       "                                                  Pipeline(steps...\n",
       "                               feature_types=None, gamma=None, grow_policy=None,\n",
       "                               importance_type=None,\n",
       "                               interaction_constraints=None, learning_rate=None,\n",
       "                               max_bin=None, max_cat_threshold=None,\n",
       "                               max_cat_to_onehot=None, max_delta_step=None,\n",
       "                               max_depth=None, max_leaves=None,\n",
       "                               min_child_weight=None, missing=nan,\n",
       "                               monotone_constraints=None, multi_strategy=None,\n",
       "                               n_estimators=None, n_jobs=None,\n",
       "                               num_parallel_tree=None, random_state=None, ...))])</pre></div></div></div><div class=\"sk-serial\"><div class=\"sk-item sk-dashed-wrapped\"><div class=\"sk-label-container\"><div class=\"sk-label sk-toggleable\"><input class=\"sk-toggleable__control sk-hidden--visually\" id=\"sk-estimator-id-372\" type=\"checkbox\" ><label for=\"sk-estimator-id-372\" class=\"sk-toggleable__label sk-toggleable__label-arrow\">preprocessor: ColumnTransformer</label><div class=\"sk-toggleable__content\"><pre>ColumnTransformer(transformers=[(&#x27;numeric_pipeline&#x27;,\n",
       "                                 Pipeline(steps=[(&#x27;imputer&#x27;,\n",
       "                                                  ImputeColsTransformer(method=&#x27;median&#x27;)),\n",
       "                                                 (&#x27;transform&#x27;,\n",
       "                                                  PowerTransformer()),\n",
       "                                                 (&#x27;scaler&#x27;, MinMaxScaler())]),\n",
       "                                 Index([&#x27;age&#x27;, &#x27;hypertension&#x27;, &#x27;heart_disease&#x27;, &#x27;bmi&#x27;, &#x27;HbA1c_level&#x27;,\n",
       "       &#x27;blood_glucose_level&#x27;],\n",
       "      dtype=&#x27;object&#x27;)),\n",
       "                                (&#x27;smoking_pipeline&#x27;,\n",
       "                                 Pipeline(steps=[(&#x27;imputer&#x27;,\n",
       "                                                  ImputeColsTransformer(method=&#x27;mode&#x27;)),\n",
       "                                                 (&#x27;smoking&#x27;,\n",
       "                                                  SmokingHistoryTransformer()),\n",
       "                                                 (&#x27;scaler&#x27;, MinMaxScaler())]),\n",
       "                                 [&#x27;smoking_history&#x27;]),\n",
       "                                (&#x27;gender_pipeline&#x27;,\n",
       "                                 Pipeline(steps=[(&#x27;imputer&#x27;,\n",
       "                                                  ImputeColsTransformer(method=&#x27;mode&#x27;)),\n",
       "                                                 (&#x27;gender&#x27;,\n",
       "                                                  GenderTransformer())]),\n",
       "                                 [&#x27;gender&#x27;])])</pre></div></div></div><div class=\"sk-parallel\"><div class=\"sk-parallel-item\"><div class=\"sk-item\"><div class=\"sk-label-container\"><div class=\"sk-label sk-toggleable\"><input class=\"sk-toggleable__control sk-hidden--visually\" id=\"sk-estimator-id-373\" type=\"checkbox\" ><label for=\"sk-estimator-id-373\" class=\"sk-toggleable__label sk-toggleable__label-arrow\">numeric_pipeline</label><div class=\"sk-toggleable__content\"><pre>Index([&#x27;age&#x27;, &#x27;hypertension&#x27;, &#x27;heart_disease&#x27;, &#x27;bmi&#x27;, &#x27;HbA1c_level&#x27;,\n",
       "       &#x27;blood_glucose_level&#x27;],\n",
       "      dtype=&#x27;object&#x27;)</pre></div></div></div><div class=\"sk-serial\"><div class=\"sk-item\"><div class=\"sk-serial\"><div class=\"sk-item\"><div class=\"sk-estimator sk-toggleable\"><input class=\"sk-toggleable__control sk-hidden--visually\" id=\"sk-estimator-id-374\" type=\"checkbox\" ><label for=\"sk-estimator-id-374\" class=\"sk-toggleable__label sk-toggleable__label-arrow\">ImputeColsTransformer</label><div class=\"sk-toggleable__content\"><pre>ImputeColsTransformer(method=&#x27;median&#x27;)</pre></div></div></div><div class=\"sk-item\"><div class=\"sk-estimator sk-toggleable\"><input class=\"sk-toggleable__control sk-hidden--visually\" id=\"sk-estimator-id-375\" type=\"checkbox\" ><label for=\"sk-estimator-id-375\" class=\"sk-toggleable__label sk-toggleable__label-arrow\">PowerTransformer</label><div class=\"sk-toggleable__content\"><pre>PowerTransformer()</pre></div></div></div><div class=\"sk-item\"><div class=\"sk-estimator sk-toggleable\"><input class=\"sk-toggleable__control sk-hidden--visually\" id=\"sk-estimator-id-376\" type=\"checkbox\" ><label for=\"sk-estimator-id-376\" class=\"sk-toggleable__label sk-toggleable__label-arrow\">MinMaxScaler</label><div class=\"sk-toggleable__content\"><pre>MinMaxScaler()</pre></div></div></div></div></div></div></div></div><div class=\"sk-parallel-item\"><div class=\"sk-item\"><div class=\"sk-label-container\"><div class=\"sk-label sk-toggleable\"><input class=\"sk-toggleable__control sk-hidden--visually\" id=\"sk-estimator-id-377\" type=\"checkbox\" ><label for=\"sk-estimator-id-377\" class=\"sk-toggleable__label sk-toggleable__label-arrow\">smoking_pipeline</label><div class=\"sk-toggleable__content\"><pre>[&#x27;smoking_history&#x27;]</pre></div></div></div><div class=\"sk-serial\"><div class=\"sk-item\"><div class=\"sk-serial\"><div class=\"sk-item\"><div class=\"sk-estimator sk-toggleable\"><input class=\"sk-toggleable__control sk-hidden--visually\" id=\"sk-estimator-id-378\" type=\"checkbox\" ><label for=\"sk-estimator-id-378\" class=\"sk-toggleable__label sk-toggleable__label-arrow\">ImputeColsTransformer</label><div class=\"sk-toggleable__content\"><pre>ImputeColsTransformer(method=&#x27;mode&#x27;)</pre></div></div></div><div class=\"sk-item\"><div class=\"sk-estimator sk-toggleable\"><input class=\"sk-toggleable__control sk-hidden--visually\" id=\"sk-estimator-id-379\" type=\"checkbox\" ><label for=\"sk-estimator-id-379\" class=\"sk-toggleable__label sk-toggleable__label-arrow\">SmokingHistoryTransformer</label><div class=\"sk-toggleable__content\"><pre>SmokingHistoryTransformer()</pre></div></div></div><div class=\"sk-item\"><div class=\"sk-estimator sk-toggleable\"><input class=\"sk-toggleable__control sk-hidden--visually\" id=\"sk-estimator-id-380\" type=\"checkbox\" ><label for=\"sk-estimator-id-380\" class=\"sk-toggleable__label sk-toggleable__label-arrow\">MinMaxScaler</label><div class=\"sk-toggleable__content\"><pre>MinMaxScaler()</pre></div></div></div></div></div></div></div></div><div class=\"sk-parallel-item\"><div class=\"sk-item\"><div class=\"sk-label-container\"><div class=\"sk-label sk-toggleable\"><input class=\"sk-toggleable__control sk-hidden--visually\" id=\"sk-estimator-id-381\" type=\"checkbox\" ><label for=\"sk-estimator-id-381\" class=\"sk-toggleable__label sk-toggleable__label-arrow\">gender_pipeline</label><div class=\"sk-toggleable__content\"><pre>[&#x27;gender&#x27;]</pre></div></div></div><div class=\"sk-serial\"><div class=\"sk-item\"><div class=\"sk-serial\"><div class=\"sk-item\"><div class=\"sk-estimator sk-toggleable\"><input class=\"sk-toggleable__control sk-hidden--visually\" id=\"sk-estimator-id-382\" type=\"checkbox\" ><label for=\"sk-estimator-id-382\" class=\"sk-toggleable__label sk-toggleable__label-arrow\">ImputeColsTransformer</label><div class=\"sk-toggleable__content\"><pre>ImputeColsTransformer(method=&#x27;mode&#x27;)</pre></div></div></div><div class=\"sk-item\"><div class=\"sk-estimator sk-toggleable\"><input class=\"sk-toggleable__control sk-hidden--visually\" id=\"sk-estimator-id-383\" type=\"checkbox\" ><label for=\"sk-estimator-id-383\" class=\"sk-toggleable__label sk-toggleable__label-arrow\">GenderTransformer</label><div class=\"sk-toggleable__content\"><pre>GenderTransformer()</pre></div></div></div></div></div></div></div></div></div></div><div class=\"sk-item\"><div class=\"sk-estimator sk-toggleable\"><input class=\"sk-toggleable__control sk-hidden--visually\" id=\"sk-estimator-id-384\" type=\"checkbox\" ><label for=\"sk-estimator-id-384\" class=\"sk-toggleable__label sk-toggleable__label-arrow\">XGBClassifier</label><div class=\"sk-toggleable__content\"><pre>XGBClassifier(base_score=None, booster=None, callbacks=None,\n",
       "              colsample_bylevel=None, colsample_bynode=None,\n",
       "              colsample_bytree=None, device=None, early_stopping_rounds=None,\n",
       "              enable_categorical=False, eval_metric=None, feature_types=None,\n",
       "              gamma=None, grow_policy=None, importance_type=None,\n",
       "              interaction_constraints=None, learning_rate=None, max_bin=None,\n",
       "              max_cat_threshold=None, max_cat_to_onehot=None,\n",
       "              max_delta_step=None, max_depth=None, max_leaves=None,\n",
       "              min_child_weight=None, missing=nan, monotone_constraints=None,\n",
       "              multi_strategy=None, n_estimators=None, n_jobs=None,\n",
       "              num_parallel_tree=None, random_state=None, ...)</pre></div></div></div></div></div></div></div>"
      ],
      "text/plain": [
       "Pipeline(steps=[('preprocessor',\n",
       "                 ColumnTransformer(transformers=[('numeric_pipeline',\n",
       "                                                  Pipeline(steps=[('imputer',\n",
       "                                                                   ImputeColsTransformer(method='median')),\n",
       "                                                                  ('transform',\n",
       "                                                                   PowerTransformer()),\n",
       "                                                                  ('scaler',\n",
       "                                                                   MinMaxScaler())]),\n",
       "                                                  Index(['age', 'hypertension', 'heart_disease', 'bmi', 'HbA1c_level',\n",
       "       'blood_glucose_level'],\n",
       "      dtype='object')),\n",
       "                                                 ('smoking_pipeline',\n",
       "                                                  Pipeline(steps...\n",
       "                               feature_types=None, gamma=None, grow_policy=None,\n",
       "                               importance_type=None,\n",
       "                               interaction_constraints=None, learning_rate=None,\n",
       "                               max_bin=None, max_cat_threshold=None,\n",
       "                               max_cat_to_onehot=None, max_delta_step=None,\n",
       "                               max_depth=None, max_leaves=None,\n",
       "                               min_child_weight=None, missing=nan,\n",
       "                               monotone_constraints=None, multi_strategy=None,\n",
       "                               n_estimators=None, n_jobs=None,\n",
       "                               num_parallel_tree=None, random_state=None, ...))])"
      ]
     },
     "execution_count": 263,
     "metadata": {},
     "output_type": "execute_result"
    }
   ],
   "source": [
    "boost_pipe = Pipeline(steps=[('preprocessor', transformer),\n",
    "                            ('model', xgb.XGBClassifier(objective='binary:logistic'))])\n",
    "boost_pipe.fit(X_train, y_train)"
   ]
  },
  {
   "cell_type": "code",
   "execution_count": 264,
   "id": "a73efa0a-657f-406b-94a2-dd19b1b736e6",
   "metadata": {},
   "outputs": [
    {
     "name": "stdout",
     "output_type": "stream",
     "text": [
      "Accuracy: 0.971\n",
      "Precision: 0.696\n",
      "Recall: 0.949\n",
      "F1: 0.803\n"
     ]
    }
   ],
   "source": [
    "preds = boost_pipe.predict(X_test)\n",
    "\n",
    "metrics = [accuracy_score, precision_score, recall_score, f1_score]\n",
    "metrics_name = ['Accuracy', 'Precision', 'Recall', 'F1']\n",
    "\n",
    "for metric, name in zip(metrics, metrics_name):\n",
    "    print(f'{name}: {round(metric(preds, y_test),3)}')"
   ]
  },
  {
   "cell_type": "markdown",
   "id": "4df0ced4-a310-4392-8a97-a7a5e9229d37",
   "metadata": {},
   "source": [
    "### Hyperparameters tuning to optimize model's performance for XGBoost and RandomForest"
   ]
  },
  {
   "cell_type": "code",
   "execution_count": 280,
   "id": "b468887d-3aa6-4d1f-945b-cc96d6dc4dc0",
   "metadata": {},
   "outputs": [
    {
     "data": {
      "text/plain": [
       "['memory',\n",
       " 'steps',\n",
       " 'verbose',\n",
       " 'preprocessor',\n",
       " 'model',\n",
       " 'preprocessor__n_jobs',\n",
       " 'preprocessor__remainder',\n",
       " 'preprocessor__sparse_threshold',\n",
       " 'preprocessor__transformer_weights',\n",
       " 'preprocessor__transformers']"
      ]
     },
     "execution_count": 280,
     "metadata": {},
     "output_type": "execute_result"
    }
   ],
   "source": [
    "list(forest_pipe.get_params().keys())[:10]"
   ]
  },
  {
   "cell_type": "code",
   "execution_count": 266,
   "id": "88d7556f-4ff0-4c53-9863-52afde6de760",
   "metadata": {},
   "outputs": [],
   "source": [
    "forest_param_grid = {\n",
    "    'model__n_estimators': [10, 50, 100, 200, 500],\n",
    "    'model__max_depth': [None, 10, 20, 30],\n",
    "    'model__min_samples_split': [2, 5, 10],\n",
    "    'model__min_samples_leaf': [1, 2, 4],\n",
    "    'model__max_features': ['auto', 'sqrt', 'log2'],\n",
    "    'model__bootstrap': [True, False],\n",
    "    'model__class_weight': [None, 'balanced', {0: 1, 1: 2}, {0: 1, 1: 5}, {0: 1, 1: 10}] \n",
    "}"
   ]
  },
  {
   "cell_type": "code",
   "execution_count": 267,
   "id": "57da819a-3f5d-40ee-9ebd-74d16d50e817",
   "metadata": {},
   "outputs": [
    {
     "name": "stdout",
     "output_type": "stream",
     "text": [
      "Fitting 3 folds for each of 50 candidates, totalling 150 fits\n"
     ]
    },
    {
     "data": {
      "text/html": [
       "<style>#sk-container-id-29 {color: black;}#sk-container-id-29 pre{padding: 0;}#sk-container-id-29 div.sk-toggleable {background-color: white;}#sk-container-id-29 label.sk-toggleable__label {cursor: pointer;display: block;width: 100%;margin-bottom: 0;padding: 0.3em;box-sizing: border-box;text-align: center;}#sk-container-id-29 label.sk-toggleable__label-arrow:before {content: \"▸\";float: left;margin-right: 0.25em;color: #696969;}#sk-container-id-29 label.sk-toggleable__label-arrow:hover:before {color: black;}#sk-container-id-29 div.sk-estimator:hover label.sk-toggleable__label-arrow:before {color: black;}#sk-container-id-29 div.sk-toggleable__content {max-height: 0;max-width: 0;overflow: hidden;text-align: left;background-color: #f0f8ff;}#sk-container-id-29 div.sk-toggleable__content pre {margin: 0.2em;color: black;border-radius: 0.25em;background-color: #f0f8ff;}#sk-container-id-29 input.sk-toggleable__control:checked~div.sk-toggleable__content {max-height: 200px;max-width: 100%;overflow: auto;}#sk-container-id-29 input.sk-toggleable__control:checked~label.sk-toggleable__label-arrow:before {content: \"▾\";}#sk-container-id-29 div.sk-estimator input.sk-toggleable__control:checked~label.sk-toggleable__label {background-color: #d4ebff;}#sk-container-id-29 div.sk-label input.sk-toggleable__control:checked~label.sk-toggleable__label {background-color: #d4ebff;}#sk-container-id-29 input.sk-hidden--visually {border: 0;clip: rect(1px 1px 1px 1px);clip: rect(1px, 1px, 1px, 1px);height: 1px;margin: -1px;overflow: hidden;padding: 0;position: absolute;width: 1px;}#sk-container-id-29 div.sk-estimator {font-family: monospace;background-color: #f0f8ff;border: 1px dotted black;border-radius: 0.25em;box-sizing: border-box;margin-bottom: 0.5em;}#sk-container-id-29 div.sk-estimator:hover {background-color: #d4ebff;}#sk-container-id-29 div.sk-parallel-item::after {content: \"\";width: 100%;border-bottom: 1px solid gray;flex-grow: 1;}#sk-container-id-29 div.sk-label:hover label.sk-toggleable__label {background-color: #d4ebff;}#sk-container-id-29 div.sk-serial::before {content: \"\";position: absolute;border-left: 1px solid gray;box-sizing: border-box;top: 0;bottom: 0;left: 50%;z-index: 0;}#sk-container-id-29 div.sk-serial {display: flex;flex-direction: column;align-items: center;background-color: white;padding-right: 0.2em;padding-left: 0.2em;position: relative;}#sk-container-id-29 div.sk-item {position: relative;z-index: 1;}#sk-container-id-29 div.sk-parallel {display: flex;align-items: stretch;justify-content: center;background-color: white;position: relative;}#sk-container-id-29 div.sk-item::before, #sk-container-id-29 div.sk-parallel-item::before {content: \"\";position: absolute;border-left: 1px solid gray;box-sizing: border-box;top: 0;bottom: 0;left: 50%;z-index: -1;}#sk-container-id-29 div.sk-parallel-item {display: flex;flex-direction: column;z-index: 1;position: relative;background-color: white;}#sk-container-id-29 div.sk-parallel-item:first-child::after {align-self: flex-end;width: 50%;}#sk-container-id-29 div.sk-parallel-item:last-child::after {align-self: flex-start;width: 50%;}#sk-container-id-29 div.sk-parallel-item:only-child::after {width: 0;}#sk-container-id-29 div.sk-dashed-wrapped {border: 1px dashed gray;margin: 0 0.4em 0.5em 0.4em;box-sizing: border-box;padding-bottom: 0.4em;background-color: white;}#sk-container-id-29 div.sk-label label {font-family: monospace;font-weight: bold;display: inline-block;line-height: 1.2em;}#sk-container-id-29 div.sk-label-container {text-align: center;}#sk-container-id-29 div.sk-container {/* jupyter's `normalize.less` sets `[hidden] { display: none; }` but bootstrap.min.css set `[hidden] { display: none !important; }` so we also need the `!important` here to be able to override the default hidden behavior on the sphinx rendered scikit-learn.org. See: https://github.com/scikit-learn/scikit-learn/issues/21755 */display: inline-block !important;position: relative;}#sk-container-id-29 div.sk-text-repr-fallback {display: none;}</style><div id=\"sk-container-id-29\" class=\"sk-top-container\"><div class=\"sk-text-repr-fallback\"><pre>RandomizedSearchCV(cv=3,\n",
       "                   estimator=Pipeline(steps=[(&#x27;preprocessor&#x27;,\n",
       "                                              ColumnTransformer(transformers=[(&#x27;numeric_pipeline&#x27;,\n",
       "                                                                               Pipeline(steps=[(&#x27;imputer&#x27;,\n",
       "                                                                                                ImputeColsTransformer(method=&#x27;median&#x27;)),\n",
       "                                                                                               (&#x27;transform&#x27;,\n",
       "                                                                                                PowerTransformer()),\n",
       "                                                                                               (&#x27;scaler&#x27;,\n",
       "                                                                                                MinMaxScaler())]),\n",
       "                                                                               Index([&#x27;age&#x27;, &#x27;hypertension&#x27;, &#x27;heart_disease&#x27;, &#x27;bmi&#x27;, &#x27;HbA1c_level&#x27;,\n",
       "       &#x27;blood_glucose_level&#x27;],\n",
       "      dtype=&#x27;object&#x27;)),...\n",
       "                   n_iter=50, n_jobs=-1,\n",
       "                   param_distributions={&#x27;model__bootstrap&#x27;: [True, False],\n",
       "                                        &#x27;model__class_weight&#x27;: [None,\n",
       "                                                                &#x27;balanced&#x27;,\n",
       "                                                                {0: 1, 1: 2},\n",
       "                                                                {0: 1, 1: 5},\n",
       "                                                                {0: 1, 1: 10}],\n",
       "                                        &#x27;model__max_depth&#x27;: [None, 10, 20, 30],\n",
       "                                        &#x27;model__max_features&#x27;: [&#x27;auto&#x27;, &#x27;sqrt&#x27;,\n",
       "                                                                &#x27;log2&#x27;],\n",
       "                                        &#x27;model__min_samples_leaf&#x27;: [1, 2, 4],\n",
       "                                        &#x27;model__min_samples_split&#x27;: [2, 5, 10],\n",
       "                                        &#x27;model__n_estimators&#x27;: [10, 50, 100,\n",
       "                                                                200, 500]},\n",
       "                   scoring=&#x27;f1&#x27;, verbose=3)</pre><b>In a Jupyter environment, please rerun this cell to show the HTML representation or trust the notebook. <br />On GitHub, the HTML representation is unable to render, please try loading this page with nbviewer.org.</b></div><div class=\"sk-container\" hidden><div class=\"sk-item sk-dashed-wrapped\"><div class=\"sk-label-container\"><div class=\"sk-label sk-toggleable\"><input class=\"sk-toggleable__control sk-hidden--visually\" id=\"sk-estimator-id-385\" type=\"checkbox\" ><label for=\"sk-estimator-id-385\" class=\"sk-toggleable__label sk-toggleable__label-arrow\">RandomizedSearchCV</label><div class=\"sk-toggleable__content\"><pre>RandomizedSearchCV(cv=3,\n",
       "                   estimator=Pipeline(steps=[(&#x27;preprocessor&#x27;,\n",
       "                                              ColumnTransformer(transformers=[(&#x27;numeric_pipeline&#x27;,\n",
       "                                                                               Pipeline(steps=[(&#x27;imputer&#x27;,\n",
       "                                                                                                ImputeColsTransformer(method=&#x27;median&#x27;)),\n",
       "                                                                                               (&#x27;transform&#x27;,\n",
       "                                                                                                PowerTransformer()),\n",
       "                                                                                               (&#x27;scaler&#x27;,\n",
       "                                                                                                MinMaxScaler())]),\n",
       "                                                                               Index([&#x27;age&#x27;, &#x27;hypertension&#x27;, &#x27;heart_disease&#x27;, &#x27;bmi&#x27;, &#x27;HbA1c_level&#x27;,\n",
       "       &#x27;blood_glucose_level&#x27;],\n",
       "      dtype=&#x27;object&#x27;)),...\n",
       "                   n_iter=50, n_jobs=-1,\n",
       "                   param_distributions={&#x27;model__bootstrap&#x27;: [True, False],\n",
       "                                        &#x27;model__class_weight&#x27;: [None,\n",
       "                                                                &#x27;balanced&#x27;,\n",
       "                                                                {0: 1, 1: 2},\n",
       "                                                                {0: 1, 1: 5},\n",
       "                                                                {0: 1, 1: 10}],\n",
       "                                        &#x27;model__max_depth&#x27;: [None, 10, 20, 30],\n",
       "                                        &#x27;model__max_features&#x27;: [&#x27;auto&#x27;, &#x27;sqrt&#x27;,\n",
       "                                                                &#x27;log2&#x27;],\n",
       "                                        &#x27;model__min_samples_leaf&#x27;: [1, 2, 4],\n",
       "                                        &#x27;model__min_samples_split&#x27;: [2, 5, 10],\n",
       "                                        &#x27;model__n_estimators&#x27;: [10, 50, 100,\n",
       "                                                                200, 500]},\n",
       "                   scoring=&#x27;f1&#x27;, verbose=3)</pre></div></div></div><div class=\"sk-parallel\"><div class=\"sk-parallel-item\"><div class=\"sk-item\"><div class=\"sk-label-container\"><div class=\"sk-label sk-toggleable\"><input class=\"sk-toggleable__control sk-hidden--visually\" id=\"sk-estimator-id-386\" type=\"checkbox\" ><label for=\"sk-estimator-id-386\" class=\"sk-toggleable__label sk-toggleable__label-arrow\">estimator: Pipeline</label><div class=\"sk-toggleable__content\"><pre>Pipeline(steps=[(&#x27;preprocessor&#x27;,\n",
       "                 ColumnTransformer(transformers=[(&#x27;numeric_pipeline&#x27;,\n",
       "                                                  Pipeline(steps=[(&#x27;imputer&#x27;,\n",
       "                                                                   ImputeColsTransformer(method=&#x27;median&#x27;)),\n",
       "                                                                  (&#x27;transform&#x27;,\n",
       "                                                                   PowerTransformer()),\n",
       "                                                                  (&#x27;scaler&#x27;,\n",
       "                                                                   MinMaxScaler())]),\n",
       "                                                  Index([&#x27;age&#x27;, &#x27;hypertension&#x27;, &#x27;heart_disease&#x27;, &#x27;bmi&#x27;, &#x27;HbA1c_level&#x27;,\n",
       "       &#x27;blood_glucose_level&#x27;],\n",
       "      dtype=&#x27;object&#x27;)),\n",
       "                                                 (&#x27;smoking_pipeline&#x27;,\n",
       "                                                  Pipeline(steps=[(&#x27;imputer&#x27;,\n",
       "                                                                   ImputeColsTransformer(method=&#x27;mode&#x27;)),\n",
       "                                                                  (&#x27;smoking&#x27;,\n",
       "                                                                   SmokingHistoryTransformer()),\n",
       "                                                                  (&#x27;scaler&#x27;,\n",
       "                                                                   MinMaxScaler())]),\n",
       "                                                  [&#x27;smoking_history&#x27;]),\n",
       "                                                 (&#x27;gender_pipeline&#x27;,\n",
       "                                                  Pipeline(steps=[(&#x27;imputer&#x27;,\n",
       "                                                                   ImputeColsTransformer(method=&#x27;mode&#x27;)),\n",
       "                                                                  (&#x27;gender&#x27;,\n",
       "                                                                   GenderTransformer())]),\n",
       "                                                  [&#x27;gender&#x27;])])),\n",
       "                (&#x27;model&#x27;, RandomForestClassifier(random_state=42))])</pre></div></div></div><div class=\"sk-serial\"><div class=\"sk-item\"><div class=\"sk-serial\"><div class=\"sk-item sk-dashed-wrapped\"><div class=\"sk-label-container\"><div class=\"sk-label sk-toggleable\"><input class=\"sk-toggleable__control sk-hidden--visually\" id=\"sk-estimator-id-387\" type=\"checkbox\" ><label for=\"sk-estimator-id-387\" class=\"sk-toggleable__label sk-toggleable__label-arrow\">preprocessor: ColumnTransformer</label><div class=\"sk-toggleable__content\"><pre>ColumnTransformer(transformers=[(&#x27;numeric_pipeline&#x27;,\n",
       "                                 Pipeline(steps=[(&#x27;imputer&#x27;,\n",
       "                                                  ImputeColsTransformer(method=&#x27;median&#x27;)),\n",
       "                                                 (&#x27;transform&#x27;,\n",
       "                                                  PowerTransformer()),\n",
       "                                                 (&#x27;scaler&#x27;, MinMaxScaler())]),\n",
       "                                 Index([&#x27;age&#x27;, &#x27;hypertension&#x27;, &#x27;heart_disease&#x27;, &#x27;bmi&#x27;, &#x27;HbA1c_level&#x27;,\n",
       "       &#x27;blood_glucose_level&#x27;],\n",
       "      dtype=&#x27;object&#x27;)),\n",
       "                                (&#x27;smoking_pipeline&#x27;,\n",
       "                                 Pipeline(steps=[(&#x27;imputer&#x27;,\n",
       "                                                  ImputeColsTransformer(method=&#x27;mode&#x27;)),\n",
       "                                                 (&#x27;smoking&#x27;,\n",
       "                                                  SmokingHistoryTransformer()),\n",
       "                                                 (&#x27;scaler&#x27;, MinMaxScaler())]),\n",
       "                                 [&#x27;smoking_history&#x27;]),\n",
       "                                (&#x27;gender_pipeline&#x27;,\n",
       "                                 Pipeline(steps=[(&#x27;imputer&#x27;,\n",
       "                                                  ImputeColsTransformer(method=&#x27;mode&#x27;)),\n",
       "                                                 (&#x27;gender&#x27;,\n",
       "                                                  GenderTransformer())]),\n",
       "                                 [&#x27;gender&#x27;])])</pre></div></div></div><div class=\"sk-parallel\"><div class=\"sk-parallel-item\"><div class=\"sk-item\"><div class=\"sk-label-container\"><div class=\"sk-label sk-toggleable\"><input class=\"sk-toggleable__control sk-hidden--visually\" id=\"sk-estimator-id-388\" type=\"checkbox\" ><label for=\"sk-estimator-id-388\" class=\"sk-toggleable__label sk-toggleable__label-arrow\">numeric_pipeline</label><div class=\"sk-toggleable__content\"><pre>Index([&#x27;age&#x27;, &#x27;hypertension&#x27;, &#x27;heart_disease&#x27;, &#x27;bmi&#x27;, &#x27;HbA1c_level&#x27;,\n",
       "       &#x27;blood_glucose_level&#x27;],\n",
       "      dtype=&#x27;object&#x27;)</pre></div></div></div><div class=\"sk-serial\"><div class=\"sk-item\"><div class=\"sk-serial\"><div class=\"sk-item\"><div class=\"sk-estimator sk-toggleable\"><input class=\"sk-toggleable__control sk-hidden--visually\" id=\"sk-estimator-id-389\" type=\"checkbox\" ><label for=\"sk-estimator-id-389\" class=\"sk-toggleable__label sk-toggleable__label-arrow\">ImputeColsTransformer</label><div class=\"sk-toggleable__content\"><pre>ImputeColsTransformer(method=&#x27;median&#x27;)</pre></div></div></div><div class=\"sk-item\"><div class=\"sk-estimator sk-toggleable\"><input class=\"sk-toggleable__control sk-hidden--visually\" id=\"sk-estimator-id-390\" type=\"checkbox\" ><label for=\"sk-estimator-id-390\" class=\"sk-toggleable__label sk-toggleable__label-arrow\">PowerTransformer</label><div class=\"sk-toggleable__content\"><pre>PowerTransformer()</pre></div></div></div><div class=\"sk-item\"><div class=\"sk-estimator sk-toggleable\"><input class=\"sk-toggleable__control sk-hidden--visually\" id=\"sk-estimator-id-391\" type=\"checkbox\" ><label for=\"sk-estimator-id-391\" class=\"sk-toggleable__label sk-toggleable__label-arrow\">MinMaxScaler</label><div class=\"sk-toggleable__content\"><pre>MinMaxScaler()</pre></div></div></div></div></div></div></div></div><div class=\"sk-parallel-item\"><div class=\"sk-item\"><div class=\"sk-label-container\"><div class=\"sk-label sk-toggleable\"><input class=\"sk-toggleable__control sk-hidden--visually\" id=\"sk-estimator-id-392\" type=\"checkbox\" ><label for=\"sk-estimator-id-392\" class=\"sk-toggleable__label sk-toggleable__label-arrow\">smoking_pipeline</label><div class=\"sk-toggleable__content\"><pre>[&#x27;smoking_history&#x27;]</pre></div></div></div><div class=\"sk-serial\"><div class=\"sk-item\"><div class=\"sk-serial\"><div class=\"sk-item\"><div class=\"sk-estimator sk-toggleable\"><input class=\"sk-toggleable__control sk-hidden--visually\" id=\"sk-estimator-id-393\" type=\"checkbox\" ><label for=\"sk-estimator-id-393\" class=\"sk-toggleable__label sk-toggleable__label-arrow\">ImputeColsTransformer</label><div class=\"sk-toggleable__content\"><pre>ImputeColsTransformer(method=&#x27;mode&#x27;)</pre></div></div></div><div class=\"sk-item\"><div class=\"sk-estimator sk-toggleable\"><input class=\"sk-toggleable__control sk-hidden--visually\" id=\"sk-estimator-id-394\" type=\"checkbox\" ><label for=\"sk-estimator-id-394\" class=\"sk-toggleable__label sk-toggleable__label-arrow\">SmokingHistoryTransformer</label><div class=\"sk-toggleable__content\"><pre>SmokingHistoryTransformer()</pre></div></div></div><div class=\"sk-item\"><div class=\"sk-estimator sk-toggleable\"><input class=\"sk-toggleable__control sk-hidden--visually\" id=\"sk-estimator-id-395\" type=\"checkbox\" ><label for=\"sk-estimator-id-395\" class=\"sk-toggleable__label sk-toggleable__label-arrow\">MinMaxScaler</label><div class=\"sk-toggleable__content\"><pre>MinMaxScaler()</pre></div></div></div></div></div></div></div></div><div class=\"sk-parallel-item\"><div class=\"sk-item\"><div class=\"sk-label-container\"><div class=\"sk-label sk-toggleable\"><input class=\"sk-toggleable__control sk-hidden--visually\" id=\"sk-estimator-id-396\" type=\"checkbox\" ><label for=\"sk-estimator-id-396\" class=\"sk-toggleable__label sk-toggleable__label-arrow\">gender_pipeline</label><div class=\"sk-toggleable__content\"><pre>[&#x27;gender&#x27;]</pre></div></div></div><div class=\"sk-serial\"><div class=\"sk-item\"><div class=\"sk-serial\"><div class=\"sk-item\"><div class=\"sk-estimator sk-toggleable\"><input class=\"sk-toggleable__control sk-hidden--visually\" id=\"sk-estimator-id-397\" type=\"checkbox\" ><label for=\"sk-estimator-id-397\" class=\"sk-toggleable__label sk-toggleable__label-arrow\">ImputeColsTransformer</label><div class=\"sk-toggleable__content\"><pre>ImputeColsTransformer(method=&#x27;mode&#x27;)</pre></div></div></div><div class=\"sk-item\"><div class=\"sk-estimator sk-toggleable\"><input class=\"sk-toggleable__control sk-hidden--visually\" id=\"sk-estimator-id-398\" type=\"checkbox\" ><label for=\"sk-estimator-id-398\" class=\"sk-toggleable__label sk-toggleable__label-arrow\">GenderTransformer</label><div class=\"sk-toggleable__content\"><pre>GenderTransformer()</pre></div></div></div></div></div></div></div></div></div></div><div class=\"sk-item\"><div class=\"sk-estimator sk-toggleable\"><input class=\"sk-toggleable__control sk-hidden--visually\" id=\"sk-estimator-id-399\" type=\"checkbox\" ><label for=\"sk-estimator-id-399\" class=\"sk-toggleable__label sk-toggleable__label-arrow\">RandomForestClassifier</label><div class=\"sk-toggleable__content\"><pre>RandomForestClassifier(random_state=42)</pre></div></div></div></div></div></div></div></div></div></div></div></div>"
      ],
      "text/plain": [
       "RandomizedSearchCV(cv=3,\n",
       "                   estimator=Pipeline(steps=[('preprocessor',\n",
       "                                              ColumnTransformer(transformers=[('numeric_pipeline',\n",
       "                                                                               Pipeline(steps=[('imputer',\n",
       "                                                                                                ImputeColsTransformer(method='median')),\n",
       "                                                                                               ('transform',\n",
       "                                                                                                PowerTransformer()),\n",
       "                                                                                               ('scaler',\n",
       "                                                                                                MinMaxScaler())]),\n",
       "                                                                               Index(['age', 'hypertension', 'heart_disease', 'bmi', 'HbA1c_level',\n",
       "       'blood_glucose_level'],\n",
       "      dtype='object')),...\n",
       "                   n_iter=50, n_jobs=-1,\n",
       "                   param_distributions={'model__bootstrap': [True, False],\n",
       "                                        'model__class_weight': [None,\n",
       "                                                                'balanced',\n",
       "                                                                {0: 1, 1: 2},\n",
       "                                                                {0: 1, 1: 5},\n",
       "                                                                {0: 1, 1: 10}],\n",
       "                                        'model__max_depth': [None, 10, 20, 30],\n",
       "                                        'model__max_features': ['auto', 'sqrt',\n",
       "                                                                'log2'],\n",
       "                                        'model__min_samples_leaf': [1, 2, 4],\n",
       "                                        'model__min_samples_split': [2, 5, 10],\n",
       "                                        'model__n_estimators': [10, 50, 100,\n",
       "                                                                200, 500]},\n",
       "                   scoring='f1', verbose=3)"
      ]
     },
     "execution_count": 267,
     "metadata": {},
     "output_type": "execute_result"
    }
   ],
   "source": [
    "rand_search = RandomizedSearchCV(forest_pipe, forest_param_grid, cv=3, n_iter=50, n_jobs=-1, verbose=3, scoring='f1')\n",
    "rand_search.fit(X_train, y_train)"
   ]
  },
  {
   "cell_type": "code",
   "execution_count": 268,
   "id": "9f37eb76-ec43-444c-afb8-6a16f4515298",
   "metadata": {
    "scrolled": true
   },
   "outputs": [
    {
     "name": "stdout",
     "output_type": "stream",
     "text": [
      "Best random forest from grid search: 0.812\n",
      "{'model__n_estimators': 100, 'model__min_samples_split': 10, 'model__min_samples_leaf': 1, 'model__max_features': 'log2', 'model__max_depth': 10, 'model__class_weight': {0: 1, 1: 2}, 'model__bootstrap': True}\n"
     ]
    }
   ],
   "source": [
    "print((\"Best random forest from grid search: %.3f\" % rand_search.score(X_test, y_test)))\n",
    "print(rand_search.best_params_)"
   ]
  },
  {
   "cell_type": "code",
   "execution_count": 281,
   "id": "2f064daf-87e2-4467-9779-138e7d9a65d2",
   "metadata": {},
   "outputs": [
    {
     "data": {
      "text/plain": [
       "['memory',\n",
       " 'steps',\n",
       " 'verbose',\n",
       " 'preprocessor',\n",
       " 'model',\n",
       " 'preprocessor__n_jobs',\n",
       " 'preprocessor__remainder',\n",
       " 'preprocessor__sparse_threshold',\n",
       " 'preprocessor__transformer_weights',\n",
       " 'preprocessor__transformers']"
      ]
     },
     "execution_count": 281,
     "metadata": {},
     "output_type": "execute_result"
    }
   ],
   "source": [
    "list(boost_pipe.get_params().keys())[:10]"
   ]
  },
  {
   "cell_type": "code",
   "execution_count": 270,
   "id": "1ccab365-b7d4-4872-aa23-f6654be1c582",
   "metadata": {},
   "outputs": [],
   "source": [
    "class_counts = y.value_counts()\n",
    "scale_pos_weight = class_counts[0] / class_counts[1]\n",
    "boost_param_grid = {\n",
    "    'model__learning_rate': [0.01, 0.1, 0.2, 0.3],\n",
    "    'model__max_depth': [3, 5, 7, None],\n",
    "    'model__subsample': [0.8, 0.9, 1.0],\n",
    "    'model__colsample_bytree': [0.8, 0.9, 1.0],\n",
    "    'model__min_child_weight': [1, 2, 3, 4],\n",
    "    'model__gamma': [0, 1, 2, 3],\n",
    "    'model__scale_pos_weight': [1, 2, 5, 10, scale_pos_weight],\n",
    "    'model__n_estimators': [10, 50, 100, 200, 500]\n",
    "}"
   ]
  },
  {
   "cell_type": "code",
   "execution_count": 271,
   "id": "5b35b63c-edaa-4c5a-a937-75da8dc1de4a",
   "metadata": {},
   "outputs": [
    {
     "name": "stdout",
     "output_type": "stream",
     "text": [
      "Fitting 3 folds for each of 50 candidates, totalling 150 fits\n"
     ]
    },
    {
     "data": {
      "text/html": [
       "<style>#sk-container-id-30 {color: black;}#sk-container-id-30 pre{padding: 0;}#sk-container-id-30 div.sk-toggleable {background-color: white;}#sk-container-id-30 label.sk-toggleable__label {cursor: pointer;display: block;width: 100%;margin-bottom: 0;padding: 0.3em;box-sizing: border-box;text-align: center;}#sk-container-id-30 label.sk-toggleable__label-arrow:before {content: \"▸\";float: left;margin-right: 0.25em;color: #696969;}#sk-container-id-30 label.sk-toggleable__label-arrow:hover:before {color: black;}#sk-container-id-30 div.sk-estimator:hover label.sk-toggleable__label-arrow:before {color: black;}#sk-container-id-30 div.sk-toggleable__content {max-height: 0;max-width: 0;overflow: hidden;text-align: left;background-color: #f0f8ff;}#sk-container-id-30 div.sk-toggleable__content pre {margin: 0.2em;color: black;border-radius: 0.25em;background-color: #f0f8ff;}#sk-container-id-30 input.sk-toggleable__control:checked~div.sk-toggleable__content {max-height: 200px;max-width: 100%;overflow: auto;}#sk-container-id-30 input.sk-toggleable__control:checked~label.sk-toggleable__label-arrow:before {content: \"▾\";}#sk-container-id-30 div.sk-estimator input.sk-toggleable__control:checked~label.sk-toggleable__label {background-color: #d4ebff;}#sk-container-id-30 div.sk-label input.sk-toggleable__control:checked~label.sk-toggleable__label {background-color: #d4ebff;}#sk-container-id-30 input.sk-hidden--visually {border: 0;clip: rect(1px 1px 1px 1px);clip: rect(1px, 1px, 1px, 1px);height: 1px;margin: -1px;overflow: hidden;padding: 0;position: absolute;width: 1px;}#sk-container-id-30 div.sk-estimator {font-family: monospace;background-color: #f0f8ff;border: 1px dotted black;border-radius: 0.25em;box-sizing: border-box;margin-bottom: 0.5em;}#sk-container-id-30 div.sk-estimator:hover {background-color: #d4ebff;}#sk-container-id-30 div.sk-parallel-item::after {content: \"\";width: 100%;border-bottom: 1px solid gray;flex-grow: 1;}#sk-container-id-30 div.sk-label:hover label.sk-toggleable__label {background-color: #d4ebff;}#sk-container-id-30 div.sk-serial::before {content: \"\";position: absolute;border-left: 1px solid gray;box-sizing: border-box;top: 0;bottom: 0;left: 50%;z-index: 0;}#sk-container-id-30 div.sk-serial {display: flex;flex-direction: column;align-items: center;background-color: white;padding-right: 0.2em;padding-left: 0.2em;position: relative;}#sk-container-id-30 div.sk-item {position: relative;z-index: 1;}#sk-container-id-30 div.sk-parallel {display: flex;align-items: stretch;justify-content: center;background-color: white;position: relative;}#sk-container-id-30 div.sk-item::before, #sk-container-id-30 div.sk-parallel-item::before {content: \"\";position: absolute;border-left: 1px solid gray;box-sizing: border-box;top: 0;bottom: 0;left: 50%;z-index: -1;}#sk-container-id-30 div.sk-parallel-item {display: flex;flex-direction: column;z-index: 1;position: relative;background-color: white;}#sk-container-id-30 div.sk-parallel-item:first-child::after {align-self: flex-end;width: 50%;}#sk-container-id-30 div.sk-parallel-item:last-child::after {align-self: flex-start;width: 50%;}#sk-container-id-30 div.sk-parallel-item:only-child::after {width: 0;}#sk-container-id-30 div.sk-dashed-wrapped {border: 1px dashed gray;margin: 0 0.4em 0.5em 0.4em;box-sizing: border-box;padding-bottom: 0.4em;background-color: white;}#sk-container-id-30 div.sk-label label {font-family: monospace;font-weight: bold;display: inline-block;line-height: 1.2em;}#sk-container-id-30 div.sk-label-container {text-align: center;}#sk-container-id-30 div.sk-container {/* jupyter's `normalize.less` sets `[hidden] { display: none; }` but bootstrap.min.css set `[hidden] { display: none !important; }` so we also need the `!important` here to be able to override the default hidden behavior on the sphinx rendered scikit-learn.org. See: https://github.com/scikit-learn/scikit-learn/issues/21755 */display: inline-block !important;position: relative;}#sk-container-id-30 div.sk-text-repr-fallback {display: none;}</style><div id=\"sk-container-id-30\" class=\"sk-top-container\"><div class=\"sk-text-repr-fallback\"><pre>RandomizedSearchCV(cv=3,\n",
       "                   estimator=Pipeline(steps=[(&#x27;preprocessor&#x27;,\n",
       "                                              ColumnTransformer(transformers=[(&#x27;numeric_pipeline&#x27;,\n",
       "                                                                               Pipeline(steps=[(&#x27;imputer&#x27;,\n",
       "                                                                                                ImputeColsTransformer(method=&#x27;median&#x27;)),\n",
       "                                                                                               (&#x27;transform&#x27;,\n",
       "                                                                                                PowerTransformer()),\n",
       "                                                                                               (&#x27;scaler&#x27;,\n",
       "                                                                                                MinMaxScaler())]),\n",
       "                                                                               Index([&#x27;age&#x27;, &#x27;hypertension&#x27;, &#x27;heart_disease&#x27;, &#x27;bmi&#x27;, &#x27;HbA1c_level&#x27;,\n",
       "       &#x27;blood_glucose_level&#x27;],\n",
       "      dtype=&#x27;object&#x27;)),...\n",
       "                   param_distributions={&#x27;model__colsample_bytree&#x27;: [0.8, 0.9,\n",
       "                                                                    1.0],\n",
       "                                        &#x27;model__gamma&#x27;: [0, 1, 2, 3],\n",
       "                                        &#x27;model__learning_rate&#x27;: [0.01, 0.1, 0.2,\n",
       "                                                                 0.3],\n",
       "                                        &#x27;model__max_depth&#x27;: [3, 5, 7, None],\n",
       "                                        &#x27;model__min_child_weight&#x27;: [1, 2, 3, 4],\n",
       "                                        &#x27;model__n_estimators&#x27;: [10, 50, 100,\n",
       "                                                                200, 500],\n",
       "                                        &#x27;model__scale_pos_weight&#x27;: [1, 2, 5, 10,\n",
       "                                                                    10.764705882352942],\n",
       "                                        &#x27;model__subsample&#x27;: [0.8, 0.9, 1.0]},\n",
       "                   scoring=&#x27;f1&#x27;, verbose=3)</pre><b>In a Jupyter environment, please rerun this cell to show the HTML representation or trust the notebook. <br />On GitHub, the HTML representation is unable to render, please try loading this page with nbviewer.org.</b></div><div class=\"sk-container\" hidden><div class=\"sk-item sk-dashed-wrapped\"><div class=\"sk-label-container\"><div class=\"sk-label sk-toggleable\"><input class=\"sk-toggleable__control sk-hidden--visually\" id=\"sk-estimator-id-400\" type=\"checkbox\" ><label for=\"sk-estimator-id-400\" class=\"sk-toggleable__label sk-toggleable__label-arrow\">RandomizedSearchCV</label><div class=\"sk-toggleable__content\"><pre>RandomizedSearchCV(cv=3,\n",
       "                   estimator=Pipeline(steps=[(&#x27;preprocessor&#x27;,\n",
       "                                              ColumnTransformer(transformers=[(&#x27;numeric_pipeline&#x27;,\n",
       "                                                                               Pipeline(steps=[(&#x27;imputer&#x27;,\n",
       "                                                                                                ImputeColsTransformer(method=&#x27;median&#x27;)),\n",
       "                                                                                               (&#x27;transform&#x27;,\n",
       "                                                                                                PowerTransformer()),\n",
       "                                                                                               (&#x27;scaler&#x27;,\n",
       "                                                                                                MinMaxScaler())]),\n",
       "                                                                               Index([&#x27;age&#x27;, &#x27;hypertension&#x27;, &#x27;heart_disease&#x27;, &#x27;bmi&#x27;, &#x27;HbA1c_level&#x27;,\n",
       "       &#x27;blood_glucose_level&#x27;],\n",
       "      dtype=&#x27;object&#x27;)),...\n",
       "                   param_distributions={&#x27;model__colsample_bytree&#x27;: [0.8, 0.9,\n",
       "                                                                    1.0],\n",
       "                                        &#x27;model__gamma&#x27;: [0, 1, 2, 3],\n",
       "                                        &#x27;model__learning_rate&#x27;: [0.01, 0.1, 0.2,\n",
       "                                                                 0.3],\n",
       "                                        &#x27;model__max_depth&#x27;: [3, 5, 7, None],\n",
       "                                        &#x27;model__min_child_weight&#x27;: [1, 2, 3, 4],\n",
       "                                        &#x27;model__n_estimators&#x27;: [10, 50, 100,\n",
       "                                                                200, 500],\n",
       "                                        &#x27;model__scale_pos_weight&#x27;: [1, 2, 5, 10,\n",
       "                                                                    10.764705882352942],\n",
       "                                        &#x27;model__subsample&#x27;: [0.8, 0.9, 1.0]},\n",
       "                   scoring=&#x27;f1&#x27;, verbose=3)</pre></div></div></div><div class=\"sk-parallel\"><div class=\"sk-parallel-item\"><div class=\"sk-item\"><div class=\"sk-label-container\"><div class=\"sk-label sk-toggleable\"><input class=\"sk-toggleable__control sk-hidden--visually\" id=\"sk-estimator-id-401\" type=\"checkbox\" ><label for=\"sk-estimator-id-401\" class=\"sk-toggleable__label sk-toggleable__label-arrow\">estimator: Pipeline</label><div class=\"sk-toggleable__content\"><pre>Pipeline(steps=[(&#x27;preprocessor&#x27;,\n",
       "                 ColumnTransformer(transformers=[(&#x27;numeric_pipeline&#x27;,\n",
       "                                                  Pipeline(steps=[(&#x27;imputer&#x27;,\n",
       "                                                                   ImputeColsTransformer(method=&#x27;median&#x27;)),\n",
       "                                                                  (&#x27;transform&#x27;,\n",
       "                                                                   PowerTransformer()),\n",
       "                                                                  (&#x27;scaler&#x27;,\n",
       "                                                                   MinMaxScaler())]),\n",
       "                                                  Index([&#x27;age&#x27;, &#x27;hypertension&#x27;, &#x27;heart_disease&#x27;, &#x27;bmi&#x27;, &#x27;HbA1c_level&#x27;,\n",
       "       &#x27;blood_glucose_level&#x27;],\n",
       "      dtype=&#x27;object&#x27;)),\n",
       "                                                 (&#x27;smoking_pipeline&#x27;,\n",
       "                                                  Pipeline(steps...\n",
       "                               feature_types=None, gamma=None, grow_policy=None,\n",
       "                               importance_type=None,\n",
       "                               interaction_constraints=None, learning_rate=None,\n",
       "                               max_bin=None, max_cat_threshold=None,\n",
       "                               max_cat_to_onehot=None, max_delta_step=None,\n",
       "                               max_depth=None, max_leaves=None,\n",
       "                               min_child_weight=None, missing=nan,\n",
       "                               monotone_constraints=None, multi_strategy=None,\n",
       "                               n_estimators=None, n_jobs=None,\n",
       "                               num_parallel_tree=None, random_state=None, ...))])</pre></div></div></div><div class=\"sk-serial\"><div class=\"sk-item\"><div class=\"sk-serial\"><div class=\"sk-item sk-dashed-wrapped\"><div class=\"sk-label-container\"><div class=\"sk-label sk-toggleable\"><input class=\"sk-toggleable__control sk-hidden--visually\" id=\"sk-estimator-id-402\" type=\"checkbox\" ><label for=\"sk-estimator-id-402\" class=\"sk-toggleable__label sk-toggleable__label-arrow\">preprocessor: ColumnTransformer</label><div class=\"sk-toggleable__content\"><pre>ColumnTransformer(transformers=[(&#x27;numeric_pipeline&#x27;,\n",
       "                                 Pipeline(steps=[(&#x27;imputer&#x27;,\n",
       "                                                  ImputeColsTransformer(method=&#x27;median&#x27;)),\n",
       "                                                 (&#x27;transform&#x27;,\n",
       "                                                  PowerTransformer()),\n",
       "                                                 (&#x27;scaler&#x27;, MinMaxScaler())]),\n",
       "                                 Index([&#x27;age&#x27;, &#x27;hypertension&#x27;, &#x27;heart_disease&#x27;, &#x27;bmi&#x27;, &#x27;HbA1c_level&#x27;,\n",
       "       &#x27;blood_glucose_level&#x27;],\n",
       "      dtype=&#x27;object&#x27;)),\n",
       "                                (&#x27;smoking_pipeline&#x27;,\n",
       "                                 Pipeline(steps=[(&#x27;imputer&#x27;,\n",
       "                                                  ImputeColsTransformer(method=&#x27;mode&#x27;)),\n",
       "                                                 (&#x27;smoking&#x27;,\n",
       "                                                  SmokingHistoryTransformer()),\n",
       "                                                 (&#x27;scaler&#x27;, MinMaxScaler())]),\n",
       "                                 [&#x27;smoking_history&#x27;]),\n",
       "                                (&#x27;gender_pipeline&#x27;,\n",
       "                                 Pipeline(steps=[(&#x27;imputer&#x27;,\n",
       "                                                  ImputeColsTransformer(method=&#x27;mode&#x27;)),\n",
       "                                                 (&#x27;gender&#x27;,\n",
       "                                                  GenderTransformer())]),\n",
       "                                 [&#x27;gender&#x27;])])</pre></div></div></div><div class=\"sk-parallel\"><div class=\"sk-parallel-item\"><div class=\"sk-item\"><div class=\"sk-label-container\"><div class=\"sk-label sk-toggleable\"><input class=\"sk-toggleable__control sk-hidden--visually\" id=\"sk-estimator-id-403\" type=\"checkbox\" ><label for=\"sk-estimator-id-403\" class=\"sk-toggleable__label sk-toggleable__label-arrow\">numeric_pipeline</label><div class=\"sk-toggleable__content\"><pre>Index([&#x27;age&#x27;, &#x27;hypertension&#x27;, &#x27;heart_disease&#x27;, &#x27;bmi&#x27;, &#x27;HbA1c_level&#x27;,\n",
       "       &#x27;blood_glucose_level&#x27;],\n",
       "      dtype=&#x27;object&#x27;)</pre></div></div></div><div class=\"sk-serial\"><div class=\"sk-item\"><div class=\"sk-serial\"><div class=\"sk-item\"><div class=\"sk-estimator sk-toggleable\"><input class=\"sk-toggleable__control sk-hidden--visually\" id=\"sk-estimator-id-404\" type=\"checkbox\" ><label for=\"sk-estimator-id-404\" class=\"sk-toggleable__label sk-toggleable__label-arrow\">ImputeColsTransformer</label><div class=\"sk-toggleable__content\"><pre>ImputeColsTransformer(method=&#x27;median&#x27;)</pre></div></div></div><div class=\"sk-item\"><div class=\"sk-estimator sk-toggleable\"><input class=\"sk-toggleable__control sk-hidden--visually\" id=\"sk-estimator-id-405\" type=\"checkbox\" ><label for=\"sk-estimator-id-405\" class=\"sk-toggleable__label sk-toggleable__label-arrow\">PowerTransformer</label><div class=\"sk-toggleable__content\"><pre>PowerTransformer()</pre></div></div></div><div class=\"sk-item\"><div class=\"sk-estimator sk-toggleable\"><input class=\"sk-toggleable__control sk-hidden--visually\" id=\"sk-estimator-id-406\" type=\"checkbox\" ><label for=\"sk-estimator-id-406\" class=\"sk-toggleable__label sk-toggleable__label-arrow\">MinMaxScaler</label><div class=\"sk-toggleable__content\"><pre>MinMaxScaler()</pre></div></div></div></div></div></div></div></div><div class=\"sk-parallel-item\"><div class=\"sk-item\"><div class=\"sk-label-container\"><div class=\"sk-label sk-toggleable\"><input class=\"sk-toggleable__control sk-hidden--visually\" id=\"sk-estimator-id-407\" type=\"checkbox\" ><label for=\"sk-estimator-id-407\" class=\"sk-toggleable__label sk-toggleable__label-arrow\">smoking_pipeline</label><div class=\"sk-toggleable__content\"><pre>[&#x27;smoking_history&#x27;]</pre></div></div></div><div class=\"sk-serial\"><div class=\"sk-item\"><div class=\"sk-serial\"><div class=\"sk-item\"><div class=\"sk-estimator sk-toggleable\"><input class=\"sk-toggleable__control sk-hidden--visually\" id=\"sk-estimator-id-408\" type=\"checkbox\" ><label for=\"sk-estimator-id-408\" class=\"sk-toggleable__label sk-toggleable__label-arrow\">ImputeColsTransformer</label><div class=\"sk-toggleable__content\"><pre>ImputeColsTransformer(method=&#x27;mode&#x27;)</pre></div></div></div><div class=\"sk-item\"><div class=\"sk-estimator sk-toggleable\"><input class=\"sk-toggleable__control sk-hidden--visually\" id=\"sk-estimator-id-409\" type=\"checkbox\" ><label for=\"sk-estimator-id-409\" class=\"sk-toggleable__label sk-toggleable__label-arrow\">SmokingHistoryTransformer</label><div class=\"sk-toggleable__content\"><pre>SmokingHistoryTransformer()</pre></div></div></div><div class=\"sk-item\"><div class=\"sk-estimator sk-toggleable\"><input class=\"sk-toggleable__control sk-hidden--visually\" id=\"sk-estimator-id-410\" type=\"checkbox\" ><label for=\"sk-estimator-id-410\" class=\"sk-toggleable__label sk-toggleable__label-arrow\">MinMaxScaler</label><div class=\"sk-toggleable__content\"><pre>MinMaxScaler()</pre></div></div></div></div></div></div></div></div><div class=\"sk-parallel-item\"><div class=\"sk-item\"><div class=\"sk-label-container\"><div class=\"sk-label sk-toggleable\"><input class=\"sk-toggleable__control sk-hidden--visually\" id=\"sk-estimator-id-411\" type=\"checkbox\" ><label for=\"sk-estimator-id-411\" class=\"sk-toggleable__label sk-toggleable__label-arrow\">gender_pipeline</label><div class=\"sk-toggleable__content\"><pre>[&#x27;gender&#x27;]</pre></div></div></div><div class=\"sk-serial\"><div class=\"sk-item\"><div class=\"sk-serial\"><div class=\"sk-item\"><div class=\"sk-estimator sk-toggleable\"><input class=\"sk-toggleable__control sk-hidden--visually\" id=\"sk-estimator-id-412\" type=\"checkbox\" ><label for=\"sk-estimator-id-412\" class=\"sk-toggleable__label sk-toggleable__label-arrow\">ImputeColsTransformer</label><div class=\"sk-toggleable__content\"><pre>ImputeColsTransformer(method=&#x27;mode&#x27;)</pre></div></div></div><div class=\"sk-item\"><div class=\"sk-estimator sk-toggleable\"><input class=\"sk-toggleable__control sk-hidden--visually\" id=\"sk-estimator-id-413\" type=\"checkbox\" ><label for=\"sk-estimator-id-413\" class=\"sk-toggleable__label sk-toggleable__label-arrow\">GenderTransformer</label><div class=\"sk-toggleable__content\"><pre>GenderTransformer()</pre></div></div></div></div></div></div></div></div></div></div><div class=\"sk-item\"><div class=\"sk-estimator sk-toggleable\"><input class=\"sk-toggleable__control sk-hidden--visually\" id=\"sk-estimator-id-414\" type=\"checkbox\" ><label for=\"sk-estimator-id-414\" class=\"sk-toggleable__label sk-toggleable__label-arrow\">XGBClassifier</label><div class=\"sk-toggleable__content\"><pre>XGBClassifier(base_score=None, booster=None, callbacks=None,\n",
       "              colsample_bylevel=None, colsample_bynode=None,\n",
       "              colsample_bytree=None, device=None, early_stopping_rounds=None,\n",
       "              enable_categorical=False, eval_metric=None, feature_types=None,\n",
       "              gamma=None, grow_policy=None, importance_type=None,\n",
       "              interaction_constraints=None, learning_rate=None, max_bin=None,\n",
       "              max_cat_threshold=None, max_cat_to_onehot=None,\n",
       "              max_delta_step=None, max_depth=None, max_leaves=None,\n",
       "              min_child_weight=None, missing=nan, monotone_constraints=None,\n",
       "              multi_strategy=None, n_estimators=None, n_jobs=None,\n",
       "              num_parallel_tree=None, random_state=None, ...)</pre></div></div></div></div></div></div></div></div></div></div></div></div>"
      ],
      "text/plain": [
       "RandomizedSearchCV(cv=3,\n",
       "                   estimator=Pipeline(steps=[('preprocessor',\n",
       "                                              ColumnTransformer(transformers=[('numeric_pipeline',\n",
       "                                                                               Pipeline(steps=[('imputer',\n",
       "                                                                                                ImputeColsTransformer(method='median')),\n",
       "                                                                                               ('transform',\n",
       "                                                                                                PowerTransformer()),\n",
       "                                                                                               ('scaler',\n",
       "                                                                                                MinMaxScaler())]),\n",
       "                                                                               Index(['age', 'hypertension', 'heart_disease', 'bmi', 'HbA1c_level',\n",
       "       'blood_glucose_level'],\n",
       "      dtype='object')),...\n",
       "                   param_distributions={'model__colsample_bytree': [0.8, 0.9,\n",
       "                                                                    1.0],\n",
       "                                        'model__gamma': [0, 1, 2, 3],\n",
       "                                        'model__learning_rate': [0.01, 0.1, 0.2,\n",
       "                                                                 0.3],\n",
       "                                        'model__max_depth': [3, 5, 7, None],\n",
       "                                        'model__min_child_weight': [1, 2, 3, 4],\n",
       "                                        'model__n_estimators': [10, 50, 100,\n",
       "                                                                200, 500],\n",
       "                                        'model__scale_pos_weight': [1, 2, 5, 10,\n",
       "                                                                    10.764705882352942],\n",
       "                                        'model__subsample': [0.8, 0.9, 1.0]},\n",
       "                   scoring='f1', verbose=3)"
      ]
     },
     "execution_count": 271,
     "metadata": {},
     "output_type": "execute_result"
    }
   ],
   "source": [
    "rand_search_1 = RandomizedSearchCV(boost_pipe, boost_param_grid, cv=3, n_iter=50, n_jobs=-1, verbose=3, scoring='f1')\n",
    "rand_search_1.fit(X_train, y_train)"
   ]
  },
  {
   "cell_type": "code",
   "execution_count": 272,
   "id": "9acecdc9-1773-46a8-b3b6-a850bd2bb9ac",
   "metadata": {},
   "outputs": [
    {
     "name": "stdout",
     "output_type": "stream",
     "text": [
      "Best XGBoost from grid search: 0.811\n",
      "{'model__subsample': 0.8, 'model__scale_pos_weight': 2, 'model__n_estimators': 500, 'model__min_child_weight': 2, 'model__max_depth': 7, 'model__learning_rate': 0.01, 'model__gamma': 2, 'model__colsample_bytree': 0.8}\n"
     ]
    }
   ],
   "source": [
    "print((\"Best XGBoost from grid search: %.3f\" % rand_search_1.score(X_test, y_test)))\n",
    "print(rand_search_1.best_params_)"
   ]
  },
  {
   "cell_type": "markdown",
   "id": "8bef9d67-8396-45af-b983-f3da2569cbb8",
   "metadata": {},
   "source": [
    "### Data Resampling"
   ]
  },
  {
   "cell_type": "markdown",
   "id": "2b142445-5e34-473f-9040-a19210a1e31d",
   "metadata": {},
   "source": [
    "Random over-sampling, SMOTE and ADASYN (Adaptive Synthetic Sampling) are techniques that can be used to address this issue.\n",
    "Here, we are using SMOTENC for data resampling. It is designed to handle datasets that contain both categorical (nominal) and continuous features. This technique is used to address class imbalance in machine learning datasets by generating synthetic examples for the minority class."
   ]
  },
  {
   "cell_type": "code",
   "execution_count": 273,
   "id": "ed1cc258-67c3-47c0-8019-9f92337fbeff",
   "metadata": {},
   "outputs": [
    {
     "name": "stdout",
     "output_type": "stream",
     "text": [
      "Ratio: 1.0\n",
      "Size: (146416, 8)\n",
      "Accuracy: 0.907\n",
      "Precision: 0.888\n",
      "Recall: 0.477\n",
      "F1: 0.621\n",
      "********************\n",
      "Ratio: 0.6666666666666666\n",
      "Size: (122013, 8)\n",
      "Accuracy: 0.923\n",
      "Precision: 0.874\n",
      "Recall: 0.529\n",
      "F1: 0.659\n",
      "********************\n",
      "Ratio: 0.42857142857142855\n",
      "Size: (104582, 8)\n",
      "Accuracy: 0.943\n",
      "Precision: 0.826\n",
      "Recall: 0.625\n",
      "F1: 0.712\n",
      "********************\n",
      "Ratio: 0.25\n",
      "Size: (91510, 8)\n",
      "Accuracy: 0.959\n",
      "Precision: 0.784\n",
      "Recall: 0.746\n",
      "F1: 0.765\n",
      "********************\n",
      "Ratio: 0.1111111111111111\n",
      "Size: (81342, 8)\n",
      "Accuracy: 0.971\n",
      "Precision: 0.721\n",
      "Recall: 0.916\n",
      "F1: 0.807\n",
      "********************\n"
     ]
    }
   ],
   "source": [
    "number_minority_majority = [(50, 50), (60, 40), (70, 30), (80, 20), (90, 10)]\n",
    "boost_pipe = Pipeline(steps=[('preprocessor', transformer),\n",
    "                            ('model', xgb.XGBClassifier(objective='binary:logistic',\n",
    "                                                        subsample=0.8, \n",
    "                                                        scale_pos_weight=2,\n",
    "                                                        n_estimators=500,\n",
    "                                                        min_child_weight=4,\n",
    "                                                        max_depth=None,\n",
    "                                                        learning_rate=0.01,\n",
    "                                                        gamma=3,\n",
    "                                                        colsample_bytree=0.8))])\n",
    "\n",
    "for item in number_minority_majority:\n",
    "    ratio = item[1]/item[0]\n",
    "    print(f\"Ratio: {ratio}\")\n",
    "    smote = SMOTENC(categorical_features=['gender', 'smoking_history'], sampling_strategy=ratio, random_state=42)\n",
    "    X_resampled, y_resampled = smote.fit_resample(X_train, y_train)\n",
    "    \n",
    "    print(f\"Size: {X_resampled.shape}\")\n",
    "    \n",
    "    boost_pipe.fit(X_resampled, y_resampled)\n",
    "    preds = boost_pipe.predict(X_test)\n",
    "\n",
    "    metrics = [accuracy_score, precision_score, recall_score, f1_score]\n",
    "    metrics_name = ['Accuracy', 'Precision', 'Recall', 'F1']\n",
    "\n",
    "    for metric, name in zip(metrics, metrics_name):\n",
    "        print(f'{name}: {round(metric(preds, y_test),3)}')\n",
    "\n",
    "    print(\"*\" * 20)"
   ]
  },
  {
   "cell_type": "code",
   "execution_count": 274,
   "id": "e787ae24-ef60-45b0-b0e3-3f8e57e78dd2",
   "metadata": {},
   "outputs": [
    {
     "name": "stdout",
     "output_type": "stream",
     "text": [
      "Ratio: 1.0\n",
      "Size: (146416, 8)\n",
      "Accuracy: 0.856\n",
      "Precision: 0.931\n",
      "Recall: 0.365\n",
      "F1: 0.525\n",
      "********************\n",
      "Ratio: 0.6666666666666666\n",
      "Size: (122013, 8)\n",
      "Accuracy: 0.887\n",
      "Precision: 0.898\n",
      "Recall: 0.423\n",
      "F1: 0.575\n",
      "********************\n",
      "Ratio: 0.42857142857142855\n",
      "Size: (104582, 8)\n",
      "Accuracy: 0.924\n",
      "Precision: 0.855\n",
      "Recall: 0.536\n",
      "F1: 0.659\n",
      "********************\n",
      "Ratio: 0.25\n",
      "Size: (91510, 8)\n",
      "Accuracy: 0.961\n",
      "Precision: 0.767\n",
      "Recall: 0.775\n",
      "F1: 0.771\n",
      "********************\n",
      "Ratio: 0.1111111111111111\n",
      "Size: (81342, 8)\n",
      "Accuracy: 0.973\n",
      "Precision: 0.695\n",
      "Recall: 0.981\n",
      "F1: 0.814\n",
      "********************\n"
     ]
    }
   ],
   "source": [
    "number_minority_majority = [(50, 50), (60, 40), (70, 30), (80, 20), (90, 10)]\n",
    "forest_pipe = Pipeline(steps=[('preprocessor', transformer),\n",
    "                            ('model', RandomForestClassifier(random_state=42,\n",
    "                                                        max_features='sqrt', \n",
    "                                                        min_samples_leaf=1,\n",
    "                                                        n_estimators=200,\n",
    "                                                        min_samples_split=5,\n",
    "                                                        max_depth=10,\n",
    "                                                        class_weight={0: 1, 1: 2},\n",
    "                                                        bootstrap=True))])\n",
    "\n",
    "for item in number_minority_majority:\n",
    "    ratio = item[1]/item[0]\n",
    "    print(f\"Ratio: {ratio}\")\n",
    "    smote = SMOTENC(categorical_features=['gender', 'smoking_history'], sampling_strategy=ratio, random_state=42)\n",
    "    X_resampled, y_resampled = smote.fit_resample(X_train, y_train)\n",
    "    \n",
    "    print(f\"Size: {X_resampled.shape}\")\n",
    "    \n",
    "    forest_pipe.fit(X_resampled, y_resampled)\n",
    "    preds = forest_pipe.predict(X_test)\n",
    "\n",
    "    metrics = [accuracy_score, precision_score, recall_score, f1_score]\n",
    "    metrics_name = ['Accuracy', 'Precision', 'Recall', 'F1']\n",
    "\n",
    "    for metric, name in zip(metrics, metrics_name):\n",
    "        print(f'{name}: {round(metric(preds, y_test),3)}')\n",
    "\n",
    "    print(\"*\" * 20)"
   ]
  },
  {
   "cell_type": "markdown",
   "id": "0c664fbb-d95f-47dc-9b9f-2814bf48d928",
   "metadata": {},
   "source": [
    "Trying to use the RandomUnderSampler. It is a method to balance the class distribution by randomly removing instances from the majority class until the number of instances in each class is more balanced. "
   ]
  },
  {
   "cell_type": "code",
   "execution_count": 275,
   "id": "fb795b0f-e436-4a27-927a-d3060f859ab2",
   "metadata": {},
   "outputs": [
    {
     "name": "stdout",
     "output_type": "stream",
     "text": [
      "Ratio: 1.0\n",
      "Size: (13584, 8)\n",
      "Accuracy: 0.854\n",
      "Precision: 0.965\n",
      "Recall: 0.365\n",
      "F1: 0.53\n",
      "********************\n",
      "Ratio: 0.6666666666666666\n",
      "Size: (16980, 8)\n",
      "Accuracy: 0.879\n",
      "Precision: 0.944\n",
      "Recall: 0.41\n",
      "F1: 0.572\n",
      "********************\n",
      "Ratio: 0.42857142857142855\n",
      "Size: (22640, 8)\n",
      "Accuracy: 0.916\n",
      "Precision: 0.911\n",
      "Recall: 0.505\n",
      "F1: 0.65\n",
      "********************\n",
      "Ratio: 0.25\n",
      "Size: (33960, 8)\n",
      "Accuracy: 0.95\n",
      "Precision: 0.842\n",
      "Recall: 0.666\n",
      "F1: 0.744\n",
      "********************\n",
      "Ratio: 0.1111111111111111\n",
      "Size: (67920, 8)\n",
      "Accuracy: 0.971\n",
      "Precision: 0.724\n",
      "Recall: 0.914\n",
      "F1: 0.808\n",
      "********************\n"
     ]
    }
   ],
   "source": [
    "number_minority_majority = [(50, 50), (60, 40), (70, 30), (80, 20), (90, 10)]\n",
    "boost_pipe = Pipeline(steps=[('preprocessor', transformer),\n",
    "                            ('model', xgb.XGBClassifier(objective='binary:logistic',\n",
    "                                                        subsample=0.8, \n",
    "                                                        scale_pos_weight=2,\n",
    "                                                        n_estimators=500,\n",
    "                                                        min_child_weight=4,\n",
    "                                                        max_depth=None,\n",
    "                                                        learning_rate=0.01,\n",
    "                                                        gamma=3,\n",
    "                                                        colsample_bytree=0.8))])\n",
    "\n",
    "for item in number_minority_majority:\n",
    "    ratio = item[1]/item[0]\n",
    "    print(f\"Ratio: {ratio}\")\n",
    "    rus = RandomUnderSampler(sampling_strategy=ratio, random_state=42)\n",
    "    X_resampled, y_resampled = rus.fit_resample(X_train, y_train)\n",
    "    \n",
    "    print(f\"Size: {X_resampled.shape}\")\n",
    "    \n",
    "    boost_pipe.fit(X_resampled, y_resampled)\n",
    "    preds = boost_pipe.predict(X_test)\n",
    "\n",
    "    metrics = [accuracy_score, precision_score, recall_score, f1_score]\n",
    "    metrics_name = ['Accuracy', 'Precision', 'Recall', 'F1']\n",
    "\n",
    "    for metric, name in zip(metrics, metrics_name):\n",
    "        print(f'{name}: {round(metric(preds, y_test),3)}')\n",
    "\n",
    "    print(\"*\" * 20)"
   ]
  },
  {
   "cell_type": "code",
   "execution_count": 282,
   "id": "8370109f-2c1b-4c70-865b-f4745af6e185",
   "metadata": {},
   "outputs": [
    {
     "name": "stdout",
     "output_type": "stream",
     "text": [
      "Ratio: 1.0\n",
      "Size: (13584, 8)\n",
      "Accuracy: 0.832\n",
      "Precision: 0.969\n",
      "Recall: 0.334\n",
      "F1: 0.496\n",
      "********************\n",
      "Ratio: 0.6666666666666666\n",
      "Size: (16980, 8)\n",
      "Accuracy: 0.866\n",
      "Precision: 0.945\n",
      "Recall: 0.384\n",
      "F1: 0.547\n",
      "********************\n",
      "Ratio: 0.42857142857142855\n",
      "Size: (22640, 8)\n",
      "Accuracy: 0.915\n",
      "Precision: 0.903\n",
      "Recall: 0.503\n",
      "F1: 0.646\n",
      "********************\n",
      "Ratio: 0.25\n",
      "Size: (33960, 8)\n",
      "Accuracy: 0.955\n",
      "Precision: 0.819\n",
      "Recall: 0.703\n",
      "F1: 0.756\n",
      "********************\n",
      "Ratio: 0.1111111111111111\n",
      "Size: (67920, 8)\n",
      "Accuracy: 0.972\n",
      "Precision: 0.697\n",
      "Recall: 0.972\n",
      "F1: 0.812\n",
      "********************\n"
     ]
    }
   ],
   "source": [
    "number_minority_majority = [(50, 50), (60, 40), (70, 30), (80, 20), (90, 10)]\n",
    "forest_pipe = Pipeline(steps=[('preprocessor', transformer),\n",
    "                            ('model', RandomForestClassifier(random_state=42,\n",
    "                                                        max_features='sqrt', \n",
    "                                                        min_samples_leaf=1,\n",
    "                                                        n_estimators=200,\n",
    "                                                        min_samples_split=5,\n",
    "                                                        max_depth=10,\n",
    "                                                        class_weight={0: 1, 1: 2},\n",
    "                                                        bootstrap=True))])\n",
    "\n",
    "for item in number_minority_majority:\n",
    "    ratio = item[1]/item[0]\n",
    "    print(f\"Ratio: {ratio}\")\n",
    "    rus = RandomUnderSampler(sampling_strategy=ratio, random_state=42)\n",
    "    X_resampled, y_resampled = rus.fit_resample(X_train, y_train)\n",
    "    \n",
    "    print(f\"Size: {X_resampled.shape}\")\n",
    "    \n",
    "    forest_pipe.fit(X_resampled, y_resampled)\n",
    "    preds = forest_pipe.predict(X_test)\n",
    "\n",
    "    metrics = [accuracy_score, precision_score, recall_score, f1_score]\n",
    "    metrics_name = ['Accuracy', 'Precision', 'Recall', 'F1']\n",
    "\n",
    "    for metric, name in zip(metrics, metrics_name):\n",
    "        print(f'{name}: {round(metric(preds, y_test),3)}')\n",
    "\n",
    "    print(\"*\" * 20)"
   ]
  },
  {
   "cell_type": "markdown",
   "id": "7f75bb2e-8fb7-47a6-a4b5-e56fa29463cc",
   "metadata": {},
   "source": [
    "## Conclusion:\n",
    "Using method SMOTENC(generating synthetic examples for the minority class (diabetes=1)) and RandomUnderSampler (removing instances from the majority class (diabetes=0)) worsened metric F1 for two the most accurate previous models: **forest_pipe, boost_pipe** with the best hyperparameters. \n",
    "Thus, the most accurate model is XGBoost with no data resampling techniques."
   ]
  },
  {
   "cell_type": "markdown",
   "id": "38492f4f-8fbe-4910-a641-6b60688c92ec",
   "metadata": {},
   "source": [
    "### Training the Final Model\n",
    "* Training the model with the best hyperparameters on the entire dataset.\n",
    "* This model will be used for inferencing based on new data."
   ]
  },
  {
   "cell_type": "code",
   "execution_count": 285,
   "id": "9b95d9d1-feb2-4e51-bf9f-21112ac0329f",
   "metadata": {},
   "outputs": [
    {
     "data": {
      "text/html": [
       "<style>#sk-container-id-33 {color: black;}#sk-container-id-33 pre{padding: 0;}#sk-container-id-33 div.sk-toggleable {background-color: white;}#sk-container-id-33 label.sk-toggleable__label {cursor: pointer;display: block;width: 100%;margin-bottom: 0;padding: 0.3em;box-sizing: border-box;text-align: center;}#sk-container-id-33 label.sk-toggleable__label-arrow:before {content: \"▸\";float: left;margin-right: 0.25em;color: #696969;}#sk-container-id-33 label.sk-toggleable__label-arrow:hover:before {color: black;}#sk-container-id-33 div.sk-estimator:hover label.sk-toggleable__label-arrow:before {color: black;}#sk-container-id-33 div.sk-toggleable__content {max-height: 0;max-width: 0;overflow: hidden;text-align: left;background-color: #f0f8ff;}#sk-container-id-33 div.sk-toggleable__content pre {margin: 0.2em;color: black;border-radius: 0.25em;background-color: #f0f8ff;}#sk-container-id-33 input.sk-toggleable__control:checked~div.sk-toggleable__content {max-height: 200px;max-width: 100%;overflow: auto;}#sk-container-id-33 input.sk-toggleable__control:checked~label.sk-toggleable__label-arrow:before {content: \"▾\";}#sk-container-id-33 div.sk-estimator input.sk-toggleable__control:checked~label.sk-toggleable__label {background-color: #d4ebff;}#sk-container-id-33 div.sk-label input.sk-toggleable__control:checked~label.sk-toggleable__label {background-color: #d4ebff;}#sk-container-id-33 input.sk-hidden--visually {border: 0;clip: rect(1px 1px 1px 1px);clip: rect(1px, 1px, 1px, 1px);height: 1px;margin: -1px;overflow: hidden;padding: 0;position: absolute;width: 1px;}#sk-container-id-33 div.sk-estimator {font-family: monospace;background-color: #f0f8ff;border: 1px dotted black;border-radius: 0.25em;box-sizing: border-box;margin-bottom: 0.5em;}#sk-container-id-33 div.sk-estimator:hover {background-color: #d4ebff;}#sk-container-id-33 div.sk-parallel-item::after {content: \"\";width: 100%;border-bottom: 1px solid gray;flex-grow: 1;}#sk-container-id-33 div.sk-label:hover label.sk-toggleable__label {background-color: #d4ebff;}#sk-container-id-33 div.sk-serial::before {content: \"\";position: absolute;border-left: 1px solid gray;box-sizing: border-box;top: 0;bottom: 0;left: 50%;z-index: 0;}#sk-container-id-33 div.sk-serial {display: flex;flex-direction: column;align-items: center;background-color: white;padding-right: 0.2em;padding-left: 0.2em;position: relative;}#sk-container-id-33 div.sk-item {position: relative;z-index: 1;}#sk-container-id-33 div.sk-parallel {display: flex;align-items: stretch;justify-content: center;background-color: white;position: relative;}#sk-container-id-33 div.sk-item::before, #sk-container-id-33 div.sk-parallel-item::before {content: \"\";position: absolute;border-left: 1px solid gray;box-sizing: border-box;top: 0;bottom: 0;left: 50%;z-index: -1;}#sk-container-id-33 div.sk-parallel-item {display: flex;flex-direction: column;z-index: 1;position: relative;background-color: white;}#sk-container-id-33 div.sk-parallel-item:first-child::after {align-self: flex-end;width: 50%;}#sk-container-id-33 div.sk-parallel-item:last-child::after {align-self: flex-start;width: 50%;}#sk-container-id-33 div.sk-parallel-item:only-child::after {width: 0;}#sk-container-id-33 div.sk-dashed-wrapped {border: 1px dashed gray;margin: 0 0.4em 0.5em 0.4em;box-sizing: border-box;padding-bottom: 0.4em;background-color: white;}#sk-container-id-33 div.sk-label label {font-family: monospace;font-weight: bold;display: inline-block;line-height: 1.2em;}#sk-container-id-33 div.sk-label-container {text-align: center;}#sk-container-id-33 div.sk-container {/* jupyter's `normalize.less` sets `[hidden] { display: none; }` but bootstrap.min.css set `[hidden] { display: none !important; }` so we also need the `!important` here to be able to override the default hidden behavior on the sphinx rendered scikit-learn.org. See: https://github.com/scikit-learn/scikit-learn/issues/21755 */display: inline-block !important;position: relative;}#sk-container-id-33 div.sk-text-repr-fallback {display: none;}</style><div id=\"sk-container-id-33\" class=\"sk-top-container\"><div class=\"sk-text-repr-fallback\"><pre>Pipeline(steps=[(&#x27;preprocessor&#x27;,\n",
       "                 ColumnTransformer(transformers=[(&#x27;numeric_pipeline&#x27;,\n",
       "                                                  Pipeline(steps=[(&#x27;imputer&#x27;,\n",
       "                                                                   ImputeColsTransformer(method=&#x27;median&#x27;)),\n",
       "                                                                  (&#x27;transform&#x27;,\n",
       "                                                                   PowerTransformer()),\n",
       "                                                                  (&#x27;scaler&#x27;,\n",
       "                                                                   MinMaxScaler())]),\n",
       "                                                  Index([&#x27;age&#x27;, &#x27;hypertension&#x27;, &#x27;heart_disease&#x27;, &#x27;bmi&#x27;, &#x27;HbA1c_level&#x27;,\n",
       "       &#x27;blood_glucose_level&#x27;],\n",
       "      dtype=&#x27;object&#x27;)),\n",
       "                                                 (&#x27;smoking_pipeline&#x27;,\n",
       "                                                  Pipeline(steps...\n",
       "                               feature_types=None, gamma=3, grow_policy=None,\n",
       "                               importance_type=None,\n",
       "                               interaction_constraints=None, learning_rate=0.01,\n",
       "                               max_bin=None, max_cat_threshold=None,\n",
       "                               max_cat_to_onehot=None, max_delta_step=None,\n",
       "                               max_depth=None, max_leaves=None,\n",
       "                               min_child_weight=4, missing=nan,\n",
       "                               monotone_constraints=None, multi_strategy=None,\n",
       "                               n_estimators=500, n_jobs=None,\n",
       "                               num_parallel_tree=None, random_state=None, ...))])</pre><b>In a Jupyter environment, please rerun this cell to show the HTML representation or trust the notebook. <br />On GitHub, the HTML representation is unable to render, please try loading this page with nbviewer.org.</b></div><div class=\"sk-container\" hidden><div class=\"sk-item sk-dashed-wrapped\"><div class=\"sk-label-container\"><div class=\"sk-label sk-toggleable\"><input class=\"sk-toggleable__control sk-hidden--visually\" id=\"sk-estimator-id-443\" type=\"checkbox\" ><label for=\"sk-estimator-id-443\" class=\"sk-toggleable__label sk-toggleable__label-arrow\">Pipeline</label><div class=\"sk-toggleable__content\"><pre>Pipeline(steps=[(&#x27;preprocessor&#x27;,\n",
       "                 ColumnTransformer(transformers=[(&#x27;numeric_pipeline&#x27;,\n",
       "                                                  Pipeline(steps=[(&#x27;imputer&#x27;,\n",
       "                                                                   ImputeColsTransformer(method=&#x27;median&#x27;)),\n",
       "                                                                  (&#x27;transform&#x27;,\n",
       "                                                                   PowerTransformer()),\n",
       "                                                                  (&#x27;scaler&#x27;,\n",
       "                                                                   MinMaxScaler())]),\n",
       "                                                  Index([&#x27;age&#x27;, &#x27;hypertension&#x27;, &#x27;heart_disease&#x27;, &#x27;bmi&#x27;, &#x27;HbA1c_level&#x27;,\n",
       "       &#x27;blood_glucose_level&#x27;],\n",
       "      dtype=&#x27;object&#x27;)),\n",
       "                                                 (&#x27;smoking_pipeline&#x27;,\n",
       "                                                  Pipeline(steps...\n",
       "                               feature_types=None, gamma=3, grow_policy=None,\n",
       "                               importance_type=None,\n",
       "                               interaction_constraints=None, learning_rate=0.01,\n",
       "                               max_bin=None, max_cat_threshold=None,\n",
       "                               max_cat_to_onehot=None, max_delta_step=None,\n",
       "                               max_depth=None, max_leaves=None,\n",
       "                               min_child_weight=4, missing=nan,\n",
       "                               monotone_constraints=None, multi_strategy=None,\n",
       "                               n_estimators=500, n_jobs=None,\n",
       "                               num_parallel_tree=None, random_state=None, ...))])</pre></div></div></div><div class=\"sk-serial\"><div class=\"sk-item sk-dashed-wrapped\"><div class=\"sk-label-container\"><div class=\"sk-label sk-toggleable\"><input class=\"sk-toggleable__control sk-hidden--visually\" id=\"sk-estimator-id-444\" type=\"checkbox\" ><label for=\"sk-estimator-id-444\" class=\"sk-toggleable__label sk-toggleable__label-arrow\">preprocessor: ColumnTransformer</label><div class=\"sk-toggleable__content\"><pre>ColumnTransformer(transformers=[(&#x27;numeric_pipeline&#x27;,\n",
       "                                 Pipeline(steps=[(&#x27;imputer&#x27;,\n",
       "                                                  ImputeColsTransformer(method=&#x27;median&#x27;)),\n",
       "                                                 (&#x27;transform&#x27;,\n",
       "                                                  PowerTransformer()),\n",
       "                                                 (&#x27;scaler&#x27;, MinMaxScaler())]),\n",
       "                                 Index([&#x27;age&#x27;, &#x27;hypertension&#x27;, &#x27;heart_disease&#x27;, &#x27;bmi&#x27;, &#x27;HbA1c_level&#x27;,\n",
       "       &#x27;blood_glucose_level&#x27;],\n",
       "      dtype=&#x27;object&#x27;)),\n",
       "                                (&#x27;smoking_pipeline&#x27;,\n",
       "                                 Pipeline(steps=[(&#x27;imputer&#x27;,\n",
       "                                                  ImputeColsTransformer(method=&#x27;mode&#x27;)),\n",
       "                                                 (&#x27;smoking&#x27;,\n",
       "                                                  SmokingHistoryTransformer()),\n",
       "                                                 (&#x27;scaler&#x27;, MinMaxScaler())]),\n",
       "                                 [&#x27;smoking_history&#x27;]),\n",
       "                                (&#x27;gender_pipeline&#x27;,\n",
       "                                 Pipeline(steps=[(&#x27;imputer&#x27;,\n",
       "                                                  ImputeColsTransformer(method=&#x27;mode&#x27;)),\n",
       "                                                 (&#x27;gender&#x27;,\n",
       "                                                  GenderTransformer())]),\n",
       "                                 [&#x27;gender&#x27;])])</pre></div></div></div><div class=\"sk-parallel\"><div class=\"sk-parallel-item\"><div class=\"sk-item\"><div class=\"sk-label-container\"><div class=\"sk-label sk-toggleable\"><input class=\"sk-toggleable__control sk-hidden--visually\" id=\"sk-estimator-id-445\" type=\"checkbox\" ><label for=\"sk-estimator-id-445\" class=\"sk-toggleable__label sk-toggleable__label-arrow\">numeric_pipeline</label><div class=\"sk-toggleable__content\"><pre>Index([&#x27;age&#x27;, &#x27;hypertension&#x27;, &#x27;heart_disease&#x27;, &#x27;bmi&#x27;, &#x27;HbA1c_level&#x27;,\n",
       "       &#x27;blood_glucose_level&#x27;],\n",
       "      dtype=&#x27;object&#x27;)</pre></div></div></div><div class=\"sk-serial\"><div class=\"sk-item\"><div class=\"sk-serial\"><div class=\"sk-item\"><div class=\"sk-estimator sk-toggleable\"><input class=\"sk-toggleable__control sk-hidden--visually\" id=\"sk-estimator-id-446\" type=\"checkbox\" ><label for=\"sk-estimator-id-446\" class=\"sk-toggleable__label sk-toggleable__label-arrow\">ImputeColsTransformer</label><div class=\"sk-toggleable__content\"><pre>ImputeColsTransformer(method=&#x27;median&#x27;)</pre></div></div></div><div class=\"sk-item\"><div class=\"sk-estimator sk-toggleable\"><input class=\"sk-toggleable__control sk-hidden--visually\" id=\"sk-estimator-id-447\" type=\"checkbox\" ><label for=\"sk-estimator-id-447\" class=\"sk-toggleable__label sk-toggleable__label-arrow\">PowerTransformer</label><div class=\"sk-toggleable__content\"><pre>PowerTransformer()</pre></div></div></div><div class=\"sk-item\"><div class=\"sk-estimator sk-toggleable\"><input class=\"sk-toggleable__control sk-hidden--visually\" id=\"sk-estimator-id-448\" type=\"checkbox\" ><label for=\"sk-estimator-id-448\" class=\"sk-toggleable__label sk-toggleable__label-arrow\">MinMaxScaler</label><div class=\"sk-toggleable__content\"><pre>MinMaxScaler()</pre></div></div></div></div></div></div></div></div><div class=\"sk-parallel-item\"><div class=\"sk-item\"><div class=\"sk-label-container\"><div class=\"sk-label sk-toggleable\"><input class=\"sk-toggleable__control sk-hidden--visually\" id=\"sk-estimator-id-449\" type=\"checkbox\" ><label for=\"sk-estimator-id-449\" class=\"sk-toggleable__label sk-toggleable__label-arrow\">smoking_pipeline</label><div class=\"sk-toggleable__content\"><pre>[&#x27;smoking_history&#x27;]</pre></div></div></div><div class=\"sk-serial\"><div class=\"sk-item\"><div class=\"sk-serial\"><div class=\"sk-item\"><div class=\"sk-estimator sk-toggleable\"><input class=\"sk-toggleable__control sk-hidden--visually\" id=\"sk-estimator-id-450\" type=\"checkbox\" ><label for=\"sk-estimator-id-450\" class=\"sk-toggleable__label sk-toggleable__label-arrow\">ImputeColsTransformer</label><div class=\"sk-toggleable__content\"><pre>ImputeColsTransformer(method=&#x27;mode&#x27;)</pre></div></div></div><div class=\"sk-item\"><div class=\"sk-estimator sk-toggleable\"><input class=\"sk-toggleable__control sk-hidden--visually\" id=\"sk-estimator-id-451\" type=\"checkbox\" ><label for=\"sk-estimator-id-451\" class=\"sk-toggleable__label sk-toggleable__label-arrow\">SmokingHistoryTransformer</label><div class=\"sk-toggleable__content\"><pre>SmokingHistoryTransformer()</pre></div></div></div><div class=\"sk-item\"><div class=\"sk-estimator sk-toggleable\"><input class=\"sk-toggleable__control sk-hidden--visually\" id=\"sk-estimator-id-452\" type=\"checkbox\" ><label for=\"sk-estimator-id-452\" class=\"sk-toggleable__label sk-toggleable__label-arrow\">MinMaxScaler</label><div class=\"sk-toggleable__content\"><pre>MinMaxScaler()</pre></div></div></div></div></div></div></div></div><div class=\"sk-parallel-item\"><div class=\"sk-item\"><div class=\"sk-label-container\"><div class=\"sk-label sk-toggleable\"><input class=\"sk-toggleable__control sk-hidden--visually\" id=\"sk-estimator-id-453\" type=\"checkbox\" ><label for=\"sk-estimator-id-453\" class=\"sk-toggleable__label sk-toggleable__label-arrow\">gender_pipeline</label><div class=\"sk-toggleable__content\"><pre>[&#x27;gender&#x27;]</pre></div></div></div><div class=\"sk-serial\"><div class=\"sk-item\"><div class=\"sk-serial\"><div class=\"sk-item\"><div class=\"sk-estimator sk-toggleable\"><input class=\"sk-toggleable__control sk-hidden--visually\" id=\"sk-estimator-id-454\" type=\"checkbox\" ><label for=\"sk-estimator-id-454\" class=\"sk-toggleable__label sk-toggleable__label-arrow\">ImputeColsTransformer</label><div class=\"sk-toggleable__content\"><pre>ImputeColsTransformer(method=&#x27;mode&#x27;)</pre></div></div></div><div class=\"sk-item\"><div class=\"sk-estimator sk-toggleable\"><input class=\"sk-toggleable__control sk-hidden--visually\" id=\"sk-estimator-id-455\" type=\"checkbox\" ><label for=\"sk-estimator-id-455\" class=\"sk-toggleable__label sk-toggleable__label-arrow\">GenderTransformer</label><div class=\"sk-toggleable__content\"><pre>GenderTransformer()</pre></div></div></div></div></div></div></div></div></div></div><div class=\"sk-item\"><div class=\"sk-estimator sk-toggleable\"><input class=\"sk-toggleable__control sk-hidden--visually\" id=\"sk-estimator-id-456\" type=\"checkbox\" ><label for=\"sk-estimator-id-456\" class=\"sk-toggleable__label sk-toggleable__label-arrow\">XGBClassifier</label><div class=\"sk-toggleable__content\"><pre>XGBClassifier(base_score=None, booster=None, callbacks=None,\n",
       "              colsample_bylevel=None, colsample_bynode=None,\n",
       "              colsample_bytree=0.8, device=None, early_stopping_rounds=None,\n",
       "              enable_categorical=False, eval_metric=None, feature_types=None,\n",
       "              gamma=3, grow_policy=None, importance_type=None,\n",
       "              interaction_constraints=None, learning_rate=0.01, max_bin=None,\n",
       "              max_cat_threshold=None, max_cat_to_onehot=None,\n",
       "              max_delta_step=None, max_depth=None, max_leaves=None,\n",
       "              min_child_weight=4, missing=nan, monotone_constraints=None,\n",
       "              multi_strategy=None, n_estimators=500, n_jobs=None,\n",
       "              num_parallel_tree=None, random_state=None, ...)</pre></div></div></div></div></div></div></div>"
      ],
      "text/plain": [
       "Pipeline(steps=[('preprocessor',\n",
       "                 ColumnTransformer(transformers=[('numeric_pipeline',\n",
       "                                                  Pipeline(steps=[('imputer',\n",
       "                                                                   ImputeColsTransformer(method='median')),\n",
       "                                                                  ('transform',\n",
       "                                                                   PowerTransformer()),\n",
       "                                                                  ('scaler',\n",
       "                                                                   MinMaxScaler())]),\n",
       "                                                  Index(['age', 'hypertension', 'heart_disease', 'bmi', 'HbA1c_level',\n",
       "       'blood_glucose_level'],\n",
       "      dtype='object')),\n",
       "                                                 ('smoking_pipeline',\n",
       "                                                  Pipeline(steps...\n",
       "                               feature_types=None, gamma=3, grow_policy=None,\n",
       "                               importance_type=None,\n",
       "                               interaction_constraints=None, learning_rate=0.01,\n",
       "                               max_bin=None, max_cat_threshold=None,\n",
       "                               max_cat_to_onehot=None, max_delta_step=None,\n",
       "                               max_depth=None, max_leaves=None,\n",
       "                               min_child_weight=4, missing=nan,\n",
       "                               monotone_constraints=None, multi_strategy=None,\n",
       "                               n_estimators=500, n_jobs=None,\n",
       "                               num_parallel_tree=None, random_state=None, ...))])"
      ]
     },
     "execution_count": 285,
     "metadata": {},
     "output_type": "execute_result"
    }
   ],
   "source": [
    "final_boost_pipe = Pipeline(steps=[('preprocessor', transformer),\n",
    "                            ('model', xgb.XGBClassifier(objective='binary:logistic',\n",
    "                                                        subsample=0.8, \n",
    "                                                        scale_pos_weight=2,\n",
    "                                                        n_estimators=500,\n",
    "                                                        min_child_weight=4,\n",
    "                                                        max_depth=None,\n",
    "                                                        learning_rate=0.01,\n",
    "                                                        gamma=3,\n",
    "                                                        colsample_bytree=0.8))])\n",
    "\n",
    "final_boost_pipe.fit(X, y)"
   ]
  },
  {
   "cell_type": "markdown",
   "id": "1530de55-44ed-473c-b95b-b11550f268a8",
   "metadata": {},
   "source": [
    "## Serializing & testing the model\n",
    "* preserving the model as a file which can be re-used in other applications"
   ]
  },
  {
   "cell_type": "code",
   "execution_count": 286,
   "id": "e2756d69-907d-4d0f-8c37-66b27f42fa8b",
   "metadata": {},
   "outputs": [
    {
     "data": {
      "text/plain": [
       "['model.joblib']"
      ]
     },
     "execution_count": 286,
     "metadata": {},
     "output_type": "execute_result"
    }
   ],
   "source": [
    "import joblib\n",
    "joblib.dump(final_boost_pipe, 'model.joblib')"
   ]
  },
  {
   "cell_type": "code",
   "execution_count": 287,
   "id": "d5c8e4b6-8c8b-4d7d-8f28-3e4acfa92b7d",
   "metadata": {},
   "outputs": [],
   "source": [
    "loaded_model = joblib.load('model.joblib')"
   ]
  },
  {
   "cell_type": "code",
   "execution_count": 288,
   "id": "87ff35ae-9911-482e-941a-31849051ef8a",
   "metadata": {},
   "outputs": [
    {
     "data": {
      "text/html": [
       "<div>\n",
       "<style scoped>\n",
       "    .dataframe tbody tr th:only-of-type {\n",
       "        vertical-align: middle;\n",
       "    }\n",
       "\n",
       "    .dataframe tbody tr th {\n",
       "        vertical-align: top;\n",
       "    }\n",
       "\n",
       "    .dataframe thead th {\n",
       "        text-align: right;\n",
       "    }\n",
       "</style>\n",
       "<table border=\"1\" class=\"dataframe\">\n",
       "  <thead>\n",
       "    <tr style=\"text-align: right;\">\n",
       "      <th></th>\n",
       "      <th>gender</th>\n",
       "      <th>age</th>\n",
       "      <th>hypertension</th>\n",
       "      <th>heart_disease</th>\n",
       "      <th>smoking_history</th>\n",
       "      <th>bmi</th>\n",
       "      <th>HbA1c_level</th>\n",
       "      <th>blood_glucose_level</th>\n",
       "    </tr>\n",
       "  </thead>\n",
       "  <tbody>\n",
       "    <tr>\n",
       "      <th>0</th>\n",
       "      <td>Male</td>\n",
       "      <td>65</td>\n",
       "      <td>1</td>\n",
       "      <td>1</td>\n",
       "      <td>current</td>\n",
       "      <td>30</td>\n",
       "      <td>8</td>\n",
       "      <td>160</td>\n",
       "    </tr>\n",
       "  </tbody>\n",
       "</table>\n",
       "</div>"
      ],
      "text/plain": [
       "  gender  age  hypertension  heart_disease smoking_history  bmi  HbA1c_level  \\\n",
       "0   Male   65             1              1         current   30            8   \n",
       "\n",
       "   blood_glucose_level  \n",
       "0                  160  "
      ]
     },
     "execution_count": 288,
     "metadata": {},
     "output_type": "execute_result"
    }
   ],
   "source": [
    "new_data = {\n",
    "    \"gender\": ['Male'],\n",
    "    \"age\": [65],\t\n",
    "    \"hypertension\": [1], \t\n",
    "    \"heart_disease\": [1],\n",
    "    \"smoking_history\": ['current'],\n",
    "    \"bmi\": [30],\n",
    "    \"HbA1c_level\": [8], \n",
    "    \"blood_glucose_level\": [160]\n",
    "}\n",
    "\n",
    "pd.DataFrame(new_data)"
   ]
  },
  {
   "cell_type": "code",
   "execution_count": 289,
   "id": "48a2ba77-c02e-4177-9247-456f3d8747c9",
   "metadata": {},
   "outputs": [
    {
     "data": {
      "text/plain": [
       "array([1])"
      ]
     },
     "execution_count": 289,
     "metadata": {},
     "output_type": "execute_result"
    }
   ],
   "source": [
    "loaded_model.predict(pd.DataFrame(new_data))"
   ]
  },
  {
   "cell_type": "code",
   "execution_count": 290,
   "id": "564bc981-f10a-4ff3-8553-ce3ed9f4e9f4",
   "metadata": {},
   "outputs": [
    {
     "data": {
      "text/plain": [
       "array([0])"
      ]
     },
     "execution_count": 290,
     "metadata": {},
     "output_type": "execute_result"
    }
   ],
   "source": [
    "new_data = {\n",
    "    \"gender\": ['Male'],\n",
    "    \"age\": [30],\t\n",
    "    \"hypertension\": [0], \t\n",
    "    \"heart_disease\": [0],\n",
    "    \"smoking_history\": ['never'],\n",
    "    \"bmi\": [20],\n",
    "    \"HbA1c_level\": [5], \n",
    "    \"blood_glucose_level\": [120]\n",
    "}\n",
    "\n",
    "pd.DataFrame(new_data)\n",
    "\n",
    "loaded_model.predict(pd.DataFrame(new_data))"
   ]
  }
 ],
 "metadata": {
  "kernelspec": {
   "display_name": "Python 3 (ipykernel)",
   "language": "python",
   "name": "python3"
  },
  "language_info": {
   "codemirror_mode": {
    "name": "ipython",
    "version": 3
   },
   "file_extension": ".py",
   "mimetype": "text/x-python",
   "name": "python",
   "nbconvert_exporter": "python",
   "pygments_lexer": "ipython3",
   "version": "3.9.13"
  }
 },
 "nbformat": 4,
 "nbformat_minor": 5
}
